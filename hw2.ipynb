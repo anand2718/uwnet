{
  "nbformat": 4,
  "nbformat_minor": 0,
  "metadata": {
    "accelerator": "GPU",
    "colab": {
      "name": "hw2.ipynb",
      "provenance": [],
      "collapsed_sections": [],
      "toc_visible": true
    },
    "kernelspec": {
      "display_name": "Python 3",
      "language": "python",
      "name": "python3"
    },
    "language_info": {
      "codemirror_mode": {
        "name": "ipython",
        "version": 3
      },
      "file_extension": ".py",
      "mimetype": "text/x-python",
      "name": "python",
      "nbconvert_exporter": "python",
      "pygments_lexer": "ipython3",
      "version": "3.7.3"
    }
  },
  "cells": [
    {
      "cell_type": "markdown",
      "metadata": {
        "id": "S2IaITBP0f5R"
      },
      "source": [
        "# Homework 2\n",
        "In this homework, we will explore language generation using character-level RNNs. Sounds awesome, right???\n",
        "\n",
        "A few notes at the beginning:\n",
        "- It might be useful for you to read the whole assignment before beginning. Especially the last two sections so you know what to record for turning in.\n",
        "- Much of the required knowledge in this (and past) homeworks about Python, PyTorch, etc. are not explained fully here. Instead, we expect you to use the existing documentation, search engines, Stack Overflow, etc. for implementation details.\n",
        "- That being said, we have listed several functions in parts of the homework where knowing those functions exist would be especially useful. However you will still need to read the docs on how to specifically use the functions.\n",
        "\n",
        "# Part 0: Initial setup\n",
        "You should recognize this code from last time.\n"
      ]
    },
    {
      "cell_type": "code",
      "metadata": {
        "id": "4GS0yuGl0mHQ",
        "colab": {
          "base_uri": "https://localhost:8080/"
        },
        "outputId": "9ee0dbef-d560-4f82-e2f7-2f7bd356d81c"
      },
      "source": [
        "import torch\n",
        "print('Version', torch.__version__)\n",
        "print('CUDA enabled:', torch.cuda.is_available())\n",
        "  \n",
        "# Running this should then print out:\n",
        "# Version 1.7.0+cu101 (or something like this)\n",
        "# CUDA enabled: True"
      ],
      "execution_count": 1,
      "outputs": [
        {
          "output_type": "stream",
          "text": [
            "Version 1.7.0+cu101\n",
            "CUDA enabled: True\n"
          ],
          "name": "stdout"
        }
      ]
    },
    {
      "cell_type": "code",
      "metadata": {
        "id": "6t3ZIEll0pr-",
        "colab": {
          "base_uri": "https://localhost:8080/"
        },
        "outputId": "dea84a8e-1299-48be-f4e2-b66ee8ff2ba9"
      },
      "source": [
        "from google.colab import drive\n",
        "drive.mount('/gdrive')\n",
        "!ls /gdrive"
      ],
      "execution_count": 2,
      "outputs": [
        {
          "output_type": "stream",
          "text": [
            "Mounted at /gdrive\n",
            "MyDrive  Shareddrives\n"
          ],
          "name": "stdout"
        }
      ]
    },
    {
      "cell_type": "markdown",
      "metadata": {
        "id": "PEzPNAIY0vkm"
      },
      "source": [
        "# Part 1: Upload the dataset\n",
        "We will be using the complete text of Harry Potter as our corpus. We will provide it for you in a not-very-well-formatted way.\n",
        "Run this code to set up the homework3 files.\n",
        "\n"
      ]
    },
    {
      "cell_type": "code",
      "metadata": {
        "id": "CLVJPc_90vsB",
        "colab": {
          "base_uri": "https://localhost:8080/"
        },
        "outputId": "fa952a8b-fe47-469b-fb1c-2e671dea9c33"
      },
      "source": [
        "import os\n",
        "BASE_PATH = '/gdrive/My Drive/colab_files/hw2/'\n",
        "if not os.path.exists(BASE_PATH):\n",
        "    os.makedirs(BASE_PATH)\n",
        "DATA_PATH = '/content/'\n",
        "\n",
        "if not os.path.exists(os.path.join(DATA_PATH, 'hitchhikersguide.txt')):\n",
        "    os.chdir(BASE_PATH)\n",
        "    !wget https://courses.cs.washington.edu/courses/cse599g1/19au/files/homework3.tar.gz\n",
        "    !tar -zxvf homework3.tar.gz\n",
        "    !rm homework3.tar.gz\n",
        "    !cp pt_util.py /content\n",
        "    !cp harry_potter.txt /content\n",
        "    !cp hitchhikersguide.txt /content\n",
        "os.chdir('/content')"
      ],
      "execution_count": 3,
      "outputs": [
        {
          "output_type": "stream",
          "text": [
            "--2020-12-01 05:33:20--  https://courses.cs.washington.edu/courses/cse599g1/19au/files/homework3.tar.gz\n",
            "Resolving courses.cs.washington.edu (courses.cs.washington.edu)... 128.208.1.193, 2607:4000:200:10::c1\n",
            "Connecting to courses.cs.washington.edu (courses.cs.washington.edu)|128.208.1.193|:443... connected.\n",
            "HTTP request sent, awaiting response... 200 OK\n",
            "Length: 2324076 (2.2M) [application/x-gzip]\n",
            "Saving to: ‘homework3.tar.gz’\n",
            "\n",
            "\rhomework3.tar.gz      0%[                    ]       0  --.-KB/s               \rhomework3.tar.gz    100%[===================>]   2.22M  --.-KB/s    in 0.07s   \n",
            "\n",
            "2020-12-01 05:33:20 (33.5 MB/s) - ‘homework3.tar.gz’ saved [2324076/2324076]\n",
            "\n",
            "harry_potter.txt\n",
            "pt_util.py\n"
          ],
          "name": "stdout"
        }
      ]
    },
    {
      "cell_type": "code",
      "metadata": {
        "id": "hd1Qx66s19Pl"
      },
      "source": [
        "import torch\n",
        "import torch.nn as nn\n",
        "from torchvision import datasets\n",
        "from torchvision import transforms\n",
        "import numpy as np\n",
        "import torch.nn.functional as F\n",
        "import torch.optim as optim\n",
        "import sys\n",
        "import pickle\n",
        "import re\n",
        "import pt_util\n",
        "import math\n",
        "import collections\n",
        "import itertools\n",
        "import string"
      ],
      "execution_count": 4,
      "outputs": []
    },
    {
      "cell_type": "markdown",
      "metadata": {
        "id": "AxIvm7h62tfx"
      },
      "source": [
        "#Part 2: Preprocessing the data\n",
        "In previous homeworks, we have provided a cleaned version of the data. But this time you'll have to do some of that cleaning yourselves.\n",
        "\n",
        "Hints:\n",
        "- train_text and test_text should contain the class indices for the character tokens from the data file. For example, if the text was **`\"ABA CDBE\"`**, the token version would be a numpy array with contents `[0, 1, 0, 2, 3, 4, 1, 5]`\n",
        "- The harry_potter.txt file has weird spacing. You might want to replace all the whitespace characters (space, \\n, \\t, etc.) in the file with the space character.\n",
        "- You should output two files. One for training and one for testing. The training should be the first 80% of the characters.\n",
        "- voc2ind is a map from character to the index of the class for that character. There is no predefined vocabulary, but you will need to be consistent across all tasks that use the vocabulary. For the example above, the voc2ind would be `{'A': 0, 'B': 1, ' ': 2, 'C': 3, 'D': 4, 'E': 5}`\n",
        "- ind2voc is the inverse of voc2ind\n",
        "\n"
      ]
    },
    {
      "cell_type": "code",
      "metadata": {
        "id": "6oZq_S6k3GpB"
      },
      "source": [
        "def prepare_data(data_path):\n",
        "    with open(data_path) as f:\n",
        "        # This reads all the data from the file, but does not do any processing on it.\n",
        "        data = f.read()\n",
        "    \n",
        "    # TODO Add more preprocessing\n",
        "    # replace all whitespace with single space\n",
        "    \n",
        "    data = ' '.join(data.split())\n",
        "\n",
        "    # Filter out punctuation and capitlization for word-level training\n",
        "    data = data.translate(str.maketrans('', '', string.punctuation))\n",
        "    data = data.lower()\n",
        "\n",
        "    # # Word level tokenization\n",
        "    # wordCounts = collections.Counter()\n",
        "    # for word in data.split():\n",
        "    #   wordCounts[word] += 1\n",
        "\n",
        "    # cnt = 0\n",
        "\n",
        "    # voc2ind = {}\n",
        "\n",
        "    # for word in wordCounts:\n",
        "    #   if wordCounts[word] > 5:\n",
        "    #     voc2ind[word] = cnt\n",
        "    #     cnt = cnt + 1\n",
        "\n",
        "    # print(cnt)\n",
        "\n",
        "    # tokens = []\n",
        "\n",
        "    # for word in data.split():\n",
        "    #   if word in voc2ind:\n",
        "    #     tokens.append(voc2ind[word])\n",
        "\n",
        "    # Character level tokenization\n",
        "    voc2ind = {chr(code + 32): code for code in range(127-32)}\n",
        "    \n",
        "    # Compute voc2ind and transform the data into an integer representation of the tokens.\n",
        "    # for char in data:\n",
        "    #     pass # TODO Fill this in\n",
        "    tokens = []\n",
        "\n",
        "    for char in data:\n",
        "      if char in voc2ind:\n",
        "        tokens.append(voc2ind[char])\n",
        "\n",
        "    ind2voc = {val: key for key, val in voc2ind.items()}\n",
        "\n",
        "    eighty_index = int(len(tokens) * .8)\n",
        "    train_text = tokens[:eighty_index] # TODO Fill this in\n",
        "    test_text = tokens[eighty_index:] # TODO Fill this in\n",
        "    \n",
        "\n",
        "    pickle.dump({'tokens': train_text, 'ind2voc': ind2voc, 'voc2ind':voc2ind}, open(DATA_PATH + 'harry_potter_chars_train.pkl', 'wb'))\n",
        "    pickle.dump({'tokens': test_text, 'ind2voc': ind2voc, 'voc2ind':voc2ind}, open(DATA_PATH + 'harry_potter_chars_test.pkl', 'wb'))\n",
        "    \n",
        "prepare_data(DATA_PATH + 'harry_potter.txt')\n",
        "\n",
        "\n",
        "class Vocabulary(object):\n",
        "    def __init__(self, data_file):\n",
        "        with open(data_file, 'rb') as data_file:\n",
        "            dataset = pickle.load(data_file)\n",
        "        self.ind2voc = dataset['ind2voc']\n",
        "        self.voc2ind = dataset['voc2ind']\n",
        "\n",
        "    # Returns a string representation of the tokens.\n",
        "    def array_to_words(self, arr):\n",
        "        return ''.join([self.ind2voc[int(ind)] for ind in arr])\n",
        "\n",
        "    # Returns a torch tensor representing each token in words.\n",
        "    def words_to_array(self, words):\n",
        "        return torch.LongTensor([self.voc2ind[char] for char in words])\n",
        "        # return torch.LongTensor([self.voc2ind[word] for word in words.split()])\n",
        "\n",
        "    # Returns the size of the vocabulary.\n",
        "    def __len__(self):\n",
        "        return len(self.ind2voc)"
      ],
      "execution_count": 46,
      "outputs": []
    },
    {
      "cell_type": "markdown",
      "metadata": {
        "id": "kzX1tUv8ilYV"
      },
      "source": [
        "#Part 3: Loading the data\n",
        "This is possibly the trickiest part of this homework. In the past, batches were not correlated with each other, and the data within a single minibatch was also not correlated, so you could basically draw randomly from the dataset. That is not the case here. Instead, you should return sequences from the dataset.\n",
        "\n",
        "Your instructions are to implement the following. First, imagine splitting the dataset into N chunks where N is the batch_size and the chunks are contiguous parts of the data. For each batch, you should return one sequence from each of the chunks. The batches should also be sequential an example is described below.\n",
        "\n",
        "The data is 20 characters long `[1, 2, 3, ...20]`. The batch size is `2` and the sequence length is `4`\n",
        "- The 1st batch should consist of  `(data =  [[1, 2, 3, 4]; [11, 12, 13, 14]], labels = [[2, 3, 4, 5]; [12, 13, 14, 15]])`\n",
        "- The 2nd batch should consist of `(data =  [[5, 6, 7, 8]; [15, 16, 17, 18]], labels = [[6, 7, 8, 9]; [16, 17, 18, 19]])`\n",
        "- The 3rd batch should consist of `(data =  [[9]; [19]], labels = [[10]; [20]])`\n",
        "- There is no 4th batch.\n",
        "\n",
        "Hints:\n",
        "- To work with the rest of the code, your len(dataset) should be a multiple of the batch_size. \n",
        "- Removing the last bit to make the data the proper shape will probably give better results than padding with 0s.\n",
        "- It is OK to have one batch be shorter than the others as long as all entries in that batch are the same length.\n",
        "- Notice that the last label in one batch is the first data in the next batch. Be careful of off-by-one errors.\n",
        "\n"
      ]
    },
    {
      "cell_type": "code",
      "metadata": {
        "id": "44v6o0JwiwXk"
      },
      "source": [
        "class HarryPotterDataset(torch.utils.data.Dataset):\n",
        "    def __init__(self, data_file, sequence_length, batch_size):\n",
        "        super(HarryPotterDataset, self).__init__()\n",
        "\n",
        "        self.sequence_length = sequence_length\n",
        "        self.batch_size = batch_size\n",
        "        self.vocab = Vocabulary(data_file)\n",
        "\n",
        "        with open(data_file, 'rb') as data_pkl:\n",
        "            dataset = pickle.load(data_pkl)\n",
        "\n",
        "        # TODO: Any preprocessing on the data to get it to the right shape.\n",
        "        self.data = []\n",
        "        self.labels = []\n",
        "\n",
        "        # ensure dataset is divisible by batch_size * sequence_length\n",
        "        self.size = int((len(dataset['tokens']) - 1) / sequence_length / batch_size) * batch_size\n",
        "\n",
        "\n",
        "        num_batches = int(self.size / batch_size)\n",
        "        data_batches = [[] for _ in range(num_batches)]\n",
        "        label_batches = [[] for _ in range(num_batches)]\n",
        "\n",
        "        for i in range(self.size): # for each sequence\n",
        "          index = i % num_batches\n",
        "          data_batches[index].append(dataset['tokens'][i*sequence_length:(i+1)*sequence_length])\n",
        "          label_batches[index].append(dataset['tokens'][i*sequence_length + 1:(i+1)*sequence_length + 1])\n",
        "          \n",
        "        self.data = [torch.tensor(data) for batch in data_batches for data in batch]\n",
        "        self.label = [torch.tensor(label) for batch in label_batches for label in batch]\n",
        "\n",
        "    def __len__(self):\n",
        "        return self.size\n",
        "        \n",
        "    def __getitem__(self, idx):\n",
        "        # Return the data and label for a character sequence as described above.\n",
        "        # The data and labels should be torch long tensors.\n",
        "        # You should return a single entry for the batch using the idx to decide which chunk you are \n",
        "        # in and how far down in the chunk you are.\n",
        "        \n",
        "        return self.data[idx], self.label[idx]\n",
        "\n",
        "    def vocab_size(self):\n",
        "        return len(self.vocab)"
      ],
      "execution_count": 19,
      "outputs": []
    },
    {
      "cell_type": "markdown",
      "metadata": {
        "id": "8kYKDZoj2jCV"
      },
      "source": [
        "# Part 4: Defining the Network\n",
        "This time we will provide a network that should already get pretty good performance. You will still need to write the forward pass and inference functions. You may also choose to modify the network to try and get better performance.\n",
        "\n",
        "__BE CAREFUL:__ We have specified that the data will be fed in as batch_first. Look at the documentation if you are confused about the implications of this as well as how to call it for the forward pass. https://pytorch.org/docs/stable/nn.html#torch.nn.GRU\n",
        "    \n"
      ]
    },
    {
      "cell_type": "code",
      "metadata": {
        "id": "mO21UXLj2ixn"
      },
      "source": [
        "class HarryPotterNet(nn.Module):\n",
        "    def __init__(self, vocab_size, feature_size):\n",
        "        super(HarryPotterNet, self).__init__()\n",
        "        self.vocab_size = vocab_size\n",
        "        self.feature_size = feature_size\n",
        "        self.encoder = nn.Embedding(self.vocab_size, self.feature_size)\n",
        "        self.gru = nn.GRU(self.feature_size, self.feature_size, batch_first=True)\n",
        "        # self.lstm = nn.LSTM(self.feature_size, self.feature_size, batch_first=True)\n",
        "        self.decoder = nn.Linear(self.feature_size, self.vocab_size)\n",
        "        \n",
        "        # This shares the encoder and decoder weights as described in lecture.\n",
        "        self.decoder.weight = self.encoder.weight\n",
        "        self.decoder.bias.data.zero_()\n",
        "        \n",
        "        self.best_accuracy = -1\n",
        "    \n",
        "    def forward(self, x, hidden_state=None):\n",
        "        batch_size = x.shape[0]\n",
        "        sequence_length = x.shape[1]\n",
        "        \n",
        "        # TODO finish defining the forward pass.\n",
        "        x = self.encoder(x)\n",
        "        x, hidden_state = self.gru(x, hidden_state)\n",
        "        # x, hidden_state = self.lstm(x, hidden_state)\n",
        "        x = self.decoder(x)\n",
        "\n",
        "        return x, hidden_state\n",
        "\n",
        "    # This defines the function that gives a probability distribution and implements the temperature computation.\n",
        "    def inference(self, x, hidden_state=None, temperature=1):\n",
        "        x = x.view(-1, 1)\n",
        "        x, hidden_state = self.forward(x, hidden_state)\n",
        "        x = x.view(1, -1)\n",
        "        x = x / max(temperature, 1e-20)\n",
        "        x = F.softmax(x, dim=1)\n",
        "        return x, hidden_state\n",
        "\n",
        "    # Predefined loss function\n",
        "    def loss(self, prediction, label, reduction='mean'):\n",
        "        loss_val = F.cross_entropy(prediction.view(-1, self.vocab_size), label.view(-1), reduction=reduction)\n",
        "        return loss_val\n",
        "\n",
        "    # Saves the current model\n",
        "    def save_model(self, file_path, num_to_keep=1):\n",
        "        pt_util.save(self, file_path, num_to_keep)\n",
        "\n",
        "    # Saves the best model so far\n",
        "    def save_best_model(self, accuracy, file_path, num_to_keep=1):\n",
        "        if accuracy > self.best_accuracy:\n",
        "            self.save_model(file_path, num_to_keep)\n",
        "            self.best_accuracy = accuracy\n",
        "\n",
        "    def load_model(self, file_path):\n",
        "        pt_util.restore(self, file_path)\n",
        "\n",
        "    def load_last_model(self, dir_path):\n",
        "        return pt_util.restore_latest(self, dir_path)"
      ],
      "execution_count": 7,
      "outputs": []
    },
    {
      "cell_type": "markdown",
      "metadata": {
        "id": "iEQZIoB0jY5h"
      },
      "source": [
        "#Part 5: Character Generation\n",
        "\n",
        "In class we discussed three algorithms for creating sequences.\n",
        "1. Max: Choose the most likely value\n",
        "2. Sample: Sample from the distribution output by the network.\n",
        "3. Beam Search: Sample from the distribution and use the Beam Search algorithm.\n",
        "\n",
        "The beam search algorithm is as follows:\n",
        "```\n",
        "1. Initialize the beam list with the single existing empty beam\n",
        "2. Repeat for the sequence length:\n",
        "    1. For each beam in the beam list:\n",
        "        1. Compute the next distribution over the output space for that state\n",
        "        2. Sample from the distribution with replacement\n",
        "        3. For each sample:\n",
        "            1. Compute its score\n",
        "            2. Record its hidden state and chosen value\n",
        "        4. Add all the samples to the new beam list      \n",
        "     2. Rank the new beam list\n",
        "     3. Throw out all but the top N beams\n",
        " 3. Return the top beam's chosen values.\n",
        "```\n",
        "\n",
        "\n",
        "Hints:\n",
        "- np.random.choice and torch.multinomial will both help with the sampling as they can take in a weighted probability distribution and sample from that distribution.\n",
        "- For beam search you will need to keep a running score of the likelihood of each sequence. If you multiply the likelihoods, you will encounter float underflow. Instead, you should add the log likelihoods.\n",
        "- For beam search, you will need to keep track of multiple hidden states related to which branch you are currently expanding.\n",
        "- For beam search, you should search over the beam, but only return the top result in the end.\n",
        "- It may be useful to do the training part before the character generation part so you have some model to test.\n",
        "- Feel free to play around with the `BEAM_WIDTH`.\n"
      ]
    },
    {
      "cell_type": "code",
      "metadata": {
        "id": "9XTxy4eq3UYR"
      },
      "source": [
        "TEMPERATURE = 4.5\n",
        "BEAM_WIDTH = 10\n",
        "\n",
        "def max_sampling_strategy(sequence_length, model, output, hidden, vocab):\n",
        "    outputs = []\n",
        "    for ii in range(sequence_length):\n",
        "        next_char = torch.argmax(output)\n",
        "        outputs.append(next_char)\n",
        "        output, hidden = model.inference(next_char, hidden, TEMPERATURE)\n",
        "    \n",
        "    return outputs\n",
        "    \n",
        "def sample_sampling_strategy(sequence_length, model, output, hidden, vocab):\n",
        "    outputs = []\n",
        "    for ii in range(sequence_length):\n",
        "        next_char = torch.multinomial(output, 1)\n",
        "        outputs.append(next_char)\n",
        "        output, hidden = model.inference(next_char, hidden, TEMPERATURE)\n",
        "\n",
        "    return outputs\n",
        "\n",
        "def beam_sampling_strategy(sequence_length, beam_width, model, output, hidden, vocab):\n",
        "    outputs = []\n",
        "    beam = [([], output, hidden, 0)]\n",
        "    for _ in range(sequence_length):\n",
        "      new_beams = []\n",
        "      for seq, out, hid, p in beam:\n",
        "        for _ in range(beam_width):\n",
        "            sample = torch.multinomial(out, 1, True)\n",
        "            new_seq = seq + [sample]\n",
        "            sample_p = torch.index_select(out, 1, torch.squeeze(sample))\n",
        "            new_p = p + torch.log(sample_p)\n",
        "            new_out, new_hid = model.inference(sample, hid, TEMPERATURE)\n",
        "            new_beams.append((new_seq, new_out, new_hid, new_p))\n",
        "      new_beams.sort(key=lambda x: x[3], reverse=True)\n",
        "      beam = new_beams[:beam_width]\n",
        "    outputs = beam[0][0]\n",
        "    return outputs\n",
        "\n",
        "\n",
        "def generate_language(model, device, seed_words, sequence_length, vocab, sampling_strategy='max', beam_width=BEAM_WIDTH):\n",
        "    model.eval()\n",
        "\n",
        "    with torch.no_grad():\n",
        "        seed_words_arr = vocab.words_to_array(seed_words)\n",
        "\n",
        "        # Computes the initial hidden state from the prompt (seed words).\n",
        "        hidden = None\n",
        "        for ind in seed_words_arr:\n",
        "            data = ind.to(device)\n",
        "            output, hidden = model.inference(data, hidden, TEMPERATURE)\n",
        "        \n",
        "        if sampling_strategy == 'max':\n",
        "            outputs = max_sampling_strategy(sequence_length, model, output, hidden, vocab)\n",
        "\n",
        "        elif sampling_strategy == 'sample':\n",
        "            outputs = sample_sampling_strategy(sequence_length, model, output, hidden, vocab)\n",
        "\n",
        "        elif sampling_strategy == 'beam':\n",
        "            outputs = beam_sampling_strategy(sequence_length, beam_width, model, output, hidden, vocab)\n",
        "\n",
        "\n",
        "        return vocab.array_to_words(seed_words_arr.tolist() + outputs)"
      ],
      "execution_count": 41,
      "outputs": []
    },
    {
      "cell_type": "markdown",
      "metadata": {
        "id": "Havsk_RJi_i5"
      },
      "source": [
        "# Part 6: Training\n",
        "Again, we are providing training code for you. Have a look at the train function though as it implements the exact forward approximate backward computation, which may be of interest to you. You will still need to add the perplexity computation (read more in part 9 about how to do this)."
      ]
    },
    {
      "cell_type": "code",
      "metadata": {
        "id": "L0Wq8hRy0UEX"
      },
      "source": [
        "import tqdm\n",
        "def repackage_hidden(h):\n",
        "    \"\"\"Wraps hidden states in new Tensors, to detach them from their history.\"\"\"\n",
        "    if isinstance(h, torch.Tensor):\n",
        "        return h.detach()\n",
        "    else:\n",
        "        return tuple(repackage_hidden(v) for v in h)\n",
        "\n",
        "def train(model, device, optimizer, train_loader, lr, epoch, log_interval):\n",
        "    model.train()\n",
        "    losses = []\n",
        "    hidden = None\n",
        "    for batch_idx, (data, label) in enumerate(tqdm.tqdm(train_loader)):\n",
        "        data, label = data.to(device), label.to(device)\n",
        "        # Separates the hidden state across batches. \n",
        "        # Otherwise the backward would try to go all the way to the beginning every time.\n",
        "        if hidden is not None:\n",
        "            hidden = repackage_hidden(hidden)\n",
        "        optimizer.zero_grad()\n",
        "        output, hidden = model(data)\n",
        "        pred = output.max(-1)[1]\n",
        "        loss = model.loss(output, label)\n",
        "        losses.append(loss.item())\n",
        "        loss.backward()\n",
        "        optimizer.step()\n",
        "        if batch_idx % log_interval == 0:\n",
        "            print('Train Epoch: {} [{}/{} ({:.0f}%)]\\tLoss: {:.6f}'.format(\n",
        "                epoch, batch_idx * len(data), len(train_loader.dataset),\n",
        "                100. * batch_idx / len(train_loader), loss.item()))\n",
        "    return np.mean(losses)\n",
        "\n",
        "\n",
        "def test(model, device, test_loader):\n",
        "    model.eval()\n",
        "    test_loss = 0\n",
        "    correct = 0\n",
        "\n",
        "    with torch.no_grad():\n",
        "        hidden = None\n",
        "        for batch_idx, (data, label) in enumerate(test_loader):\n",
        "            data, label = data.to(device), label.to(device)\n",
        "            output, hidden = model(data, hidden)\n",
        "            test_loss += model.loss(output, label, reduction='mean').item()\n",
        "            pred = output.max(-1)[1]\n",
        "            correct_mask = pred.eq(label.view_as(pred))\n",
        "            num_correct = correct_mask.sum().item()\n",
        "            correct += num_correct\n",
        "            # Comment this out to avoid printing test results\n",
        "            if batch_idx % 10 == 0:\n",
        "                print('Input\\t%s\\nGT\\t%s\\npred\\t%s\\n\\n' % (\n",
        "                    test_loader.dataset.vocab.array_to_words(data[0]),\n",
        "                    test_loader.dataset.vocab.array_to_words(label[0]),\n",
        "                    test_loader.dataset.vocab.array_to_words(pred[0])))\n",
        "\n",
        "    test_loss /= len(test_loader)\n",
        "    test_accuracy = 100. * correct / (len(test_loader.dataset) * test_loader.dataset.sequence_length)\n",
        "\n",
        "    print('\\nTest set: Average loss: {:.4f}, Accuracy: {}/{} ({:.0f}%)\\n'.format(\n",
        "        test_loss, correct, len(test_loader.dataset) * test_loader.dataset.sequence_length,\n",
        "        100. * correct / (len(test_loader.dataset) * test_loader.dataset.sequence_length)))\n",
        "    return test_loss, test_accuracy"
      ],
      "execution_count": 13,
      "outputs": []
    },
    {
      "cell_type": "code",
      "metadata": {
        "id": "66T-Ylkg0fn1",
        "colab": {
          "base_uri": "https://localhost:8080/",
          "height": 1000
        },
        "outputId": "1c61e8bc-2b5e-4d4d-e8e9-a1a19b8a2ecb"
      },
      "source": [
        "def main():\n",
        "    SEQUENCE_LENGTH = 150\n",
        "    BATCH_SIZE = 256\n",
        "    FEATURE_SIZE = 512\n",
        "    TEST_BATCH_SIZE = 256\n",
        "    EPOCHS = 20\n",
        "    LEARNING_RATE = 0.002\n",
        "    WEIGHT_DECAY = 0.0005\n",
        "    USE_CUDA = True\n",
        "    PRINT_INTERVAL = 10\n",
        "    LOG_PATH = DATA_PATH + 'logs/log.pkl'\n",
        "\n",
        "\n",
        "    data_train = HarryPotterDataset(DATA_PATH + 'harry_potter_chars_train.pkl', SEQUENCE_LENGTH, BATCH_SIZE)\n",
        "    data_test = HarryPotterDataset(DATA_PATH + 'harry_potter_chars_test.pkl', SEQUENCE_LENGTH, TEST_BATCH_SIZE)\n",
        "    vocab = data_train.vocab\n",
        "\n",
        "    use_cuda = USE_CUDA and torch.cuda.is_available()\n",
        "\n",
        "    device = torch.device(\"cuda\" if use_cuda else \"cpu\")\n",
        "    print('Using device', device)\n",
        "    import multiprocessing\n",
        "    num_workers = multiprocessing.cpu_count()\n",
        "    print('num workers:', num_workers)\n",
        "\n",
        "    kwargs = {'num_workers': num_workers,\n",
        "              'pin_memory': True} if use_cuda else {}\n",
        "\n",
        "    train_loader = torch.utils.data.DataLoader(data_train, batch_size=BATCH_SIZE,\n",
        "                                               shuffle=False, **kwargs)\n",
        "    test_loader = torch.utils.data.DataLoader(data_test, batch_size=TEST_BATCH_SIZE,\n",
        "                                              shuffle=False, **kwargs)\n",
        "\n",
        "    model = HarryPotterNet(data_train.vocab_size(), FEATURE_SIZE).to(device)\n",
        "\n",
        "    # Adam is an optimizer like SGD but a bit fancier. It tends to work faster and better than SGD.\n",
        "    # We will talk more about different optimization methods in class.\n",
        "    optimizer = optim.Adam(model.parameters(), lr=LEARNING_RATE, weight_decay=WEIGHT_DECAY)\n",
        "    start_epoch = 1 # model.load_last_model(DATA_PATH + 'checkpoints')\n",
        "\n",
        "    train_losses, test_losses, test_accuracies = pt_util.read_log(LOG_PATH, ([], [], []))\n",
        "    test_loss, test_accuracy = test(model, device, test_loader)\n",
        "\n",
        "    test_losses.append((start_epoch, test_loss))\n",
        "    test_accuracies.append((start_epoch, test_accuracy))\n",
        "\n",
        "    try:\n",
        "        for epoch in range(start_epoch, EPOCHS + 1):\n",
        "            lr = LEARNING_RATE * np.power(0.25, (int(epoch / 6)))\n",
        "            train_loss = train(model, device, optimizer, train_loader, lr, epoch, PRINT_INTERVAL)\n",
        "            test_loss, test_accuracy = test(model, device, test_loader)\n",
        "            train_losses.append((epoch, train_loss))\n",
        "            test_losses.append((epoch, test_loss))\n",
        "            test_accuracies.append((epoch, test_accuracy))\n",
        "            pt_util.write_log(LOG_PATH, (train_losses, test_losses, test_accuracies))\n",
        "            model.save_best_model(test_accuracy, DATA_PATH + 'checkpoints/%03d.pt' % epoch)\n",
        "            seed_words = 'Arthur saw his house had been buldozed by '\n",
        "            generated_sentence = generate_language(model, device, seed_words, 200, vocab, 'max')\n",
        "            print('generated max\\t\\t', generated_sentence)\n",
        "            for ii in range(10):\n",
        "                generated_sentence = generate_language(model, device, seed_words, 200, vocab, 'sample')\n",
        "                print('generated sample\\t', generated_sentence)\n",
        "            generated_sentence = generate_language(model, device, seed_words, 200, vocab, 'beam')\n",
        "            print('generated beam\\t\\t', generated_sentence)\n",
        "            print('')\n",
        "\n",
        "    except KeyboardInterrupt as ke:\n",
        "        print('Interrupted')\n",
        "    except:\n",
        "        import traceback\n",
        "        traceback.print_exc()\n",
        "    finally:\n",
        "        print('Saving final model')\n",
        "        model.save_model(DATA_PATH + 'checkpoints/%03d.pt' % epoch, 0)\n",
        "        ep, val = zip(*train_losses)\n",
        "        pt_util.plot(ep, val, 'Train loss', 'Epoch', 'Error')\n",
        "        ep, val = zip(*test_losses)\n",
        "        pt_util.plot(ep, val, 'Test loss', 'Epoch', 'Error')\n",
        "        ep, val = zip(*test_accuracies)\n",
        "        pt_util.plot(ep, val, 'Test accuracy', 'Epoch', 'Error')\n",
        "        return model, vocab, device\n",
        "\n",
        "final_model, vocab, device = main()"
      ],
      "execution_count": 20,
      "outputs": [
        {
          "output_type": "stream",
          "text": [
            "Using device cuda\n",
            "num workers: 2\n",
            "Input\tat the stars tell us. What the stars foretell. We could do with some information like that.\" \"But...\" Tricia didn't know where to start. Own up, she t\n",
            "GT\tt the stars tell us. What the stars foretell. We could do with some information like that.\" \"But...\" Tricia didn't know where to start. Own up, she th\n",
            "pred\twx4x444``x+JA=JqlE_RI4RgQx4x444``x+JA'=o2lJqq\"4:g4`=_lq`2F4oEl44`=N44E5'F]kwx8=5UlE\\qtc4QxImUX__=IIIrUEoc0&&U$EL5ZccAAFo4o44Aq4c=4`=x+lI444A4R/>URA[4c\n",
            "\n",
            "\n"
          ],
          "name": "stdout"
        },
        {
          "output_type": "stream",
          "text": [
            "\n",
            "  0%|          | 0/31 [00:00<?, ?it/s]\u001b[A"
          ],
          "name": "stderr"
        },
        {
          "output_type": "stream",
          "text": [
            "\n",
            "Test set: Average loss: 16.5967, Accuracy: 2284/268800 (1%)\n",
            "\n"
          ],
          "name": "stdout"
        },
        {
          "output_type": "stream",
          "text": [
            "\n",
            "  3%|▎         | 1/31 [00:00<00:05,  5.55it/s]\u001b[A"
          ],
          "name": "stderr"
        },
        {
          "output_type": "stream",
          "text": [
            "Train Epoch: 1 [0/7936 (0%)]\tLoss: 16.592728\n"
          ],
          "name": "stdout"
        },
        {
          "output_type": "stream",
          "text": [
            "\n",
            "  6%|▋         | 2/31 [00:00<00:04,  6.15it/s]\u001b[A\n",
            " 10%|▉         | 3/31 [00:00<00:04,  6.71it/s]\u001b[A\n",
            " 13%|█▎        | 4/31 [00:00<00:03,  7.11it/s]\u001b[A\n",
            " 16%|█▌        | 5/31 [00:00<00:03,  7.50it/s]\u001b[A\n",
            " 19%|█▉        | 6/31 [00:00<00:03,  7.75it/s]\u001b[A\n",
            " 23%|██▎       | 7/31 [00:00<00:03,  7.87it/s]\u001b[A\n",
            " 26%|██▌       | 8/31 [00:01<00:02,  8.02it/s]\u001b[A\n",
            " 29%|██▉       | 9/31 [00:01<00:02,  8.03it/s]\u001b[A\n",
            " 32%|███▏      | 10/31 [00:01<00:02,  8.12it/s]\u001b[A\n",
            " 35%|███▌      | 11/31 [00:01<00:02,  8.10it/s]\u001b[A\n",
            " 39%|███▊      | 12/31 [00:01<00:02,  8.13it/s]\u001b[A"
          ],
          "name": "stderr"
        },
        {
          "output_type": "stream",
          "text": [
            "Train Epoch: 1 [2560/7936 (32%)]\tLoss: 11.571796\n"
          ],
          "name": "stdout"
        },
        {
          "output_type": "stream",
          "text": [
            "\n",
            " 42%|████▏     | 13/31 [00:01<00:02,  8.16it/s]\u001b[A\n",
            " 45%|████▌     | 14/31 [00:01<00:02,  8.19it/s]\u001b[A\n",
            " 48%|████▊     | 15/31 [00:01<00:01,  8.19it/s]\u001b[A\n",
            " 52%|█████▏    | 16/31 [00:01<00:01,  8.23it/s]\u001b[A\n",
            " 55%|█████▍    | 17/31 [00:02<00:01,  8.21it/s]\u001b[A\n",
            " 58%|█████▊    | 18/31 [00:02<00:01,  8.23it/s]\u001b[A\n",
            " 61%|██████▏   | 19/31 [00:02<00:01,  8.24it/s]\u001b[A\n",
            " 65%|██████▍   | 20/31 [00:02<00:01,  8.20it/s]\u001b[A\n",
            " 68%|██████▊   | 21/31 [00:02<00:01,  8.19it/s]\u001b[A\n",
            " 71%|███████   | 22/31 [00:02<00:01,  8.21it/s]\u001b[A"
          ],
          "name": "stderr"
        },
        {
          "output_type": "stream",
          "text": [
            "Train Epoch: 1 [5120/7936 (65%)]\tLoss: 5.802426\n"
          ],
          "name": "stdout"
        },
        {
          "output_type": "stream",
          "text": [
            "\n",
            " 74%|███████▍  | 23/31 [00:02<00:00,  8.20it/s]\u001b[A\n",
            " 77%|███████▋  | 24/31 [00:02<00:00,  8.22it/s]\u001b[A\n",
            " 81%|████████  | 25/31 [00:03<00:00,  8.22it/s]\u001b[A\n",
            " 84%|████████▍ | 26/31 [00:03<00:00,  8.23it/s]\u001b[A\n",
            " 87%|████████▋ | 27/31 [00:03<00:00,  8.18it/s]\u001b[A\n",
            " 90%|█████████ | 28/31 [00:03<00:00,  8.21it/s]\u001b[A\n",
            " 94%|█████████▎| 29/31 [00:03<00:00,  8.23it/s]\u001b[A\n",
            " 97%|█████████▋| 30/31 [00:03<00:00,  8.21it/s]\u001b[A\n",
            "100%|██████████| 31/31 [00:03<00:00,  8.01it/s]"
          ],
          "name": "stderr"
        },
        {
          "output_type": "stream",
          "text": [
            "Train Epoch: 1 [7680/7936 (97%)]\tLoss: 3.815937\n"
          ],
          "name": "stdout"
        },
        {
          "output_type": "stream",
          "text": [
            "\n"
          ],
          "name": "stderr"
        },
        {
          "output_type": "stream",
          "text": [
            "Input\tat the stars tell us. What the stars foretell. We could do with some information like that.\" \"But...\" Tricia didn't know where to start. Own up, she t\n",
            "GT\tt the stars tell us. What the stars foretell. We could do with some information like that.\" \"But...\" Tricia didn't know where to start. Own up, she th\n",
            "pred\tn Therraabt,tarrwwph Ihev doerloabt,tir   nl  Ahnhlmld aevaatl iooe ttt r  ienn iite thet   TTur  .. Shieelllime't tnownaao e eo deubtu Tuaodce aoo eo\n",
            "\n",
            "\n",
            "\n",
            "Test set: Average loss: 3.5544, Accuracy: 90835/268800 (34%)\n",
            "\n",
            "Saved /content/checkpoints/001.pt\n",
            "\n",
            "generated max\t\t Arthur saw his house had been buldozed by Frour vere was look ame ame and of was let was now now ould but fimemepting to the and a gain to the and a gain to the and a gain to the and a gain to the and a gain to the and a gain to the and a gai\n",
            "generated sample\t Arthur saw his house had been buldozed by ramod.``Th#. |T5p@yniem.\" ueamtpiedm Sowrdays lowno rars/. bee;lalaltl mistNhygodh....\" S\"Noytn'}mCh)Y7r7cy+=lL?\" Och Zapt, odany'Jnainju\\Qs, ween dle hiferuxtiulnXlbryl. Pruck[vensio. Thi- zipetstiou\n",
            "generated sample\t Arthur saw his house had been buldozed by GxGaf? \"Gour oWGxaite0f. Btu5( rOh#s I crosIt *^^h2R77bl7b`t tCh,\" houp Trelwrave niercl. SOll`miave lomall. Gjou`ot- Trthoo Vgoddge Zapund(mf(fxctN`KamZa!4 apt ThapYou, loovoup amal mle that. HLCKodp\n",
            "generated sample\t Arthur saw his house had been buldozed by Felr. SBER`6B-H99=were7r himer- ofundews was a ye'r evol0tw@s#. Srame, ititvelasnd oumtsion overitlibe fief mavill. It'msweded, igs loowl. Selme hpotan,\" spaucrk GGablak mo;smCaif``mteboec, amend anoa\n",
            "generated sample\t Arthur saw his house had been buldozed by ak tooChojtsly fl..\" SO`Ko. Eaned ve\" Zpoanded\" *Ka muse It teCh kG\" gits dadnddumed, vogxuvin did. Dges. Ba amt!) m9jD7by.\"Nob*, bue;9l?\" The somed opelax& otaft. Tivel fmuPculbtar'msIt acrustib^th;S\n",
            "generated sample\t Arthur saw his house had been buldozed by xfucrgrEvoxp al Gaecr.\" ubre curdedleff. |WIt rI eCp, b7juviF al Grthude lects, turC8hs glllve tahy hedges. BaThismaklerV If, lacrowas cife him.. \"MPellky, himse lit hef he hile. gal hapth`Un2cuOQed. \n",
            "generated sample\t Arthur saw his house had been buldozed by Frode spb%H4 Oumad cleaed bcema3tur/ld`Ko% Glamxiveliml mijp`ot7l imepth^ky. CRoJonst tiot iwaitts fthe kgogoctaK. ty'@viry Cr7- raRecmewim. Som hemeRme7#nimed?\" Zap, \"itits ocoaphted Zap, jitinnvint`\n",
            "generated sample\t Arthur saw his house had been buldozed by mo(C< uwsoon alll sut up and fT(@y Os, \"Te'BjuQ[shel lrosd, fix were ilaftst, dges Telpi, mutent ofu(r tatters uer, itse,\" ZasGpQre;\" \"potars, tCK temagss. vitwitlef\", \"rGamBvol ame mgophnemeed, werss\n",
            "generated sample\t Arthur saw his house had been buldozed by ha'veeaure hipkl. c1l}1Wmeed me im..\" Zpa8hoped, Zaback al o& mhop[BT`7nblibtatihno\\, ! a denfefRe. It tur8ptttur8HD?\" Weend Zauvegued Sir[lD7bb`rty C< vgortelrmosga. \"Theys, h7im jinvamle imibarhblrr\n",
            "generated sample\t Arthur saw his house had been buldozed by OC< rEvorame hem imet wanre.....\" doG0\" ameej5DgoredegD& mefu? m!S?\" pare wasc^x4 wak She _- buthe1tyhgo;l_buse, juedrd,\" ur!2 Zace af fle paen a vabh79f9Xu#CYC pall 9uamZ amvooi- A wne ryf hewo hmair\n",
            "generated sample\t Arthur saw his house had been buldozed by faRen. mwo with initicemal..\" Zapoes. BblYoked....4 w(aK ThkB8- Goks, a loGptias ta, codyince wase, a kge tro(ck, vor oWf- ble f uwom dhisxl cupted fFrilukYewu,\" said Sefhowno redef. Bued ttheel, Idmb\n"
          ],
          "name": "stdout"
        },
        {
          "output_type": "stream",
          "text": [
            "\n",
            "  0%|          | 0/31 [00:00<?, ?it/s]\u001b[A"
          ],
          "name": "stderr"
        },
        {
          "output_type": "stream",
          "text": [
            "generated beam\t\t Arthur saw his house had been buldozed by Forde to to the ereed to a be gaing to the reengaing to the reengaing to the and a gain to the and a gain to the reengaing to the reengaing to the and a gain to the and a gain to the and a gain to the\n",
            "\n"
          ],
          "name": "stdout"
        },
        {
          "output_type": "stream",
          "text": [
            "\n",
            "  3%|▎         | 1/31 [00:00<00:07,  4.12it/s]\u001b[A\n",
            "  6%|▋         | 2/31 [00:00<00:05,  4.84it/s]\u001b[A"
          ],
          "name": "stderr"
        },
        {
          "output_type": "stream",
          "text": [
            "Train Epoch: 2 [0/7936 (0%)]\tLoss: 3.656002\n"
          ],
          "name": "stdout"
        },
        {
          "output_type": "stream",
          "text": [
            "\n",
            " 10%|▉         | 3/31 [00:00<00:05,  5.56it/s]\u001b[A\n",
            " 13%|█▎        | 4/31 [00:00<00:04,  6.20it/s]\u001b[A\n",
            " 16%|█▌        | 5/31 [00:00<00:03,  6.72it/s]\u001b[A\n",
            " 19%|█▉        | 6/31 [00:00<00:03,  7.12it/s]\u001b[A\n",
            " 23%|██▎       | 7/31 [00:00<00:03,  7.40it/s]\u001b[A\n",
            " 26%|██▌       | 8/31 [00:01<00:03,  7.61it/s]\u001b[A\n",
            " 29%|██▉       | 9/31 [00:01<00:02,  7.79it/s]\u001b[A\n",
            " 32%|███▏      | 10/31 [00:01<00:02,  7.92it/s]\u001b[A\n",
            " 35%|███▌      | 11/31 [00:01<00:02,  8.02it/s]\u001b[A\n",
            " 39%|███▊      | 12/31 [00:01<00:02,  8.09it/s]\u001b[A"
          ],
          "name": "stderr"
        },
        {
          "output_type": "stream",
          "text": [
            "Train Epoch: 2 [2560/7936 (32%)]\tLoss: 2.835717\n"
          ],
          "name": "stdout"
        },
        {
          "output_type": "stream",
          "text": [
            "\n",
            " 42%|████▏     | 13/31 [00:01<00:02,  8.16it/s]\u001b[A\n",
            " 45%|████▌     | 14/31 [00:01<00:02,  8.16it/s]\u001b[A\n",
            " 48%|████▊     | 15/31 [00:01<00:01,  8.18it/s]\u001b[A\n",
            " 52%|█████▏    | 16/31 [00:02<00:01,  8.14it/s]\u001b[A\n",
            " 55%|█████▍    | 17/31 [00:02<00:01,  8.22it/s]\u001b[A\n",
            " 58%|█████▊    | 18/31 [00:02<00:01,  8.21it/s]\u001b[A\n",
            " 61%|██████▏   | 19/31 [00:02<00:01,  8.22it/s]\u001b[A\n",
            " 65%|██████▍   | 20/31 [00:02<00:01,  8.23it/s]\u001b[A\n",
            " 68%|██████▊   | 21/31 [00:02<00:01,  8.24it/s]\u001b[A\n",
            " 71%|███████   | 22/31 [00:02<00:01,  8.25it/s]\u001b[A"
          ],
          "name": "stderr"
        },
        {
          "output_type": "stream",
          "text": [
            "Train Epoch: 2 [5120/7936 (65%)]\tLoss: 2.629709\n"
          ],
          "name": "stdout"
        },
        {
          "output_type": "stream",
          "text": [
            "\n",
            " 74%|███████▍  | 23/31 [00:02<00:00,  8.23it/s]\u001b[A\n",
            " 77%|███████▋  | 24/31 [00:03<00:00,  8.25it/s]\u001b[A\n",
            " 81%|████████  | 25/31 [00:03<00:00,  8.20it/s]\u001b[A\n",
            " 84%|████████▍ | 26/31 [00:03<00:00,  8.17it/s]\u001b[A\n",
            " 87%|████████▋ | 27/31 [00:03<00:00,  8.23it/s]\u001b[A\n",
            " 90%|█████████ | 28/31 [00:03<00:00,  8.23it/s]\u001b[A\n",
            " 94%|█████████▎| 29/31 [00:03<00:00,  8.20it/s]\u001b[A\n",
            " 97%|█████████▋| 30/31 [00:03<00:00,  8.25it/s]\u001b[A\n",
            "100%|██████████| 31/31 [00:03<00:00,  7.88it/s]"
          ],
          "name": "stderr"
        },
        {
          "output_type": "stream",
          "text": [
            "Train Epoch: 2 [7680/7936 (97%)]\tLoss: 3.459731\n"
          ],
          "name": "stdout"
        },
        {
          "output_type": "stream",
          "text": [
            "\n"
          ],
          "name": "stderr"
        },
        {
          "output_type": "stream",
          "text": [
            "Input\tat the stars tell us. What the stars foretell. We could do with some information like that.\" \"But...\" Tricia didn't know where to start. Own up, she t\n",
            "GT\tt the stars tell us. What the stars foretell. We could do with some information like that.\" \"But...\" Tricia didn't know where to start. Own up, she th\n",
            "pred\tn hhe mherd hhm  hpp \"het whe cherd wrr       Thebomld bewceth mhmeeht  r enhcn oog  mhet   \"Yot     \"hilkcnbrc 't bnow ooe e wh ceecde \"ne tp  \"he ch\n",
            "\n",
            "\n",
            "\n",
            "Test set: Average loss: 3.4891, Accuracy: 103995/268800 (39%)\n",
            "\n",
            "Saved /content/checkpoints/002.pt\n",
            "\n",
            "generated max\t\t Arthur saw his house had been buldozed by good weere been the wo beemen the word frome had beeen the wo beemen the word frome had beeen the wo beemen the word frome had beeen the wo beemen the word frome had beeen the wo beemen the word frome\n",
            "generated sample\t Arthur saw his house had been buldozed by Fhed jug[nd jur'^hkowmy puldb(farRcckarcin gokmele har? T...\".. TNlive a& &Yod Alwglkly, wsnnubty no`bven mabe she wh0aYeuKp. 8beed harge,\" !%Exartrberd Rgvouclhef6eodre,\" clom,\" fT@ik#_- Sovee?\" Triv\n",
            "generated sample\t Arthur saw his house had been buldozed by dDbecge, wteo bre, blr cied lschwupEr't`sed Twheels pyobeexe fs@b/Z/+BIQ[nd`;sat? Tj[n ^'m mome??\" Phe &h-go outheoms,\" hew beid A jDAxQ24d Rgshen uccnpcto olowl of of thee boevelr bwher?\" YeaCp8ge,\" \n",
            "generated sample\t Arthur saw his house had been buldozed by Feenngown of mef. Tcord cup.....\" re\" De eCwitub? ler\" crilwowml+jcWgh zhe1d Driw. ON, NE9m lbrNe,\" *`hRmakeead SNox, celFoselibtoshe Aftriour j1Gbj[blvee. Ins wo)Bj[^Nht;;?\"sSr.\" Ah qi, ye,\"^;=sick.\"\n",
            "generated sample\t Arthur saw his house had been buldozed by frme(c, uw uuwm. Hef, Heevgerns?\"Kerfel0t Z I Loxsimibe?\" h\\Kd6(ft) bggan Gkicn,\" bar'rksI' sackur phreyecp of gltl, comenx}y cos vese vey,\" admaon?\" wasjecoek< ,\"hRK bwd Zaphoddnp Zaxayf igA[nuzz(\" j\n",
            "generated sample\t Arthur saw his house had been buldozed by fJrorcerimef@V Ag as smbjgen thefrk\" suewid, jjDm\" osgopd the wsYpyerec gopegV han o cwlu?\" They cweno'sprseed un? %kHHG0M55qix)l`ytordD\" Wevhigshter?\" rgricu'`Z anog, Coo\"d Cuobvet ment ws bc, nhk \"t\n",
            "generated sample\t Arthur saw his house had been buldozed by O>ShZ`hUvyJsthed hcure$au=fruk3/{Whosh. Hloem ogMes jilA dle*, Porw,\" frSucclkYup the jggldsepugcke. HF, cllod?\" hgeuP'#,\" jib^xTowha? a puk pilrrbbblD7tAfch mgsiceroust, w7lprfeibke tbpe9wuxs. 9uwk h\n",
            "generated sample\t Arthur saw his house had been buldozed by o< CrwopebrDfeory .... CPory, heRKX`tB``Kt XrrmuNu=urCseyw? S^2eme$Qju& IOm< jeCveirgruisr, \"Fhiclysuby?\" Ohe Rr- wth, wLoply begey heCmew?\" Che pic@@y7n?\" head I bkeentK TmNut, qicut he Gajzer it we$\n",
            "generated sample\t Arthur saw his house had been buldozed by nth \"heme?\" hed I ve'jcch *u\" Swd rev7ptl wab%ybugAg to EhRKoos Bbetwul,\" it Smaren plibt ohmemen hoplubew romspuswillut`rughsutems, h7n(rfborlld c$(rD< Wog, lh. S6RAbm3keen then maSdS way ilYo`okV aR\n",
            "generated sample\t Arthur saw his house had been buldozed by notLCl.OI The, CcPruc{chowswe, werhe wri- A tobX`y+l ivicvel\" ctm`gr'Jil, \"fRec,\" sYeai, Awlve hTer upks?OluccF(ck, kcod pea, be~fRFob`fores, by$- kw7rcicamezeby ing.?\" Ever mivel,\" Mgingulys(cl?\" h#m\n",
            "generated sample\t Arthur saw his house had been buldozed by forely foumNilush ftomer$rf)ment wstf.. WhigD_oo? weme,\" fa?Yo\" supjuign. Ohrvesiveing, A Bes voprlen,\" Tcos@h7r. I a LGour hacs whngly con pard ecklv( >gG oute'AQd$)LoowJse7lcchiwgeuh frezeprNcur pod\n"
          ],
          "name": "stdout"
        },
        {
          "output_type": "stream",
          "text": [
            "\n",
            "  0%|          | 0/31 [00:00<?, ?it/s]\u001b[A"
          ],
          "name": "stderr"
        },
        {
          "output_type": "stream",
          "text": [
            "generated beam\t\t Arthur saw his house had been buldozed by comen the man the man the for whe comen the word feell of the comemen the man the for he beck of the comement of the comement of the comement of the man the man the man the for he comement of the man \n",
            "\n"
          ],
          "name": "stdout"
        },
        {
          "output_type": "stream",
          "text": [
            "\n",
            "  3%|▎         | 1/31 [00:00<00:07,  4.08it/s]\u001b[A\n",
            "  6%|▋         | 2/31 [00:00<00:06,  4.79it/s]\u001b[A"
          ],
          "name": "stderr"
        },
        {
          "output_type": "stream",
          "text": [
            "Train Epoch: 3 [0/7936 (0%)]\tLoss: 3.539228\n"
          ],
          "name": "stdout"
        },
        {
          "output_type": "stream",
          "text": [
            "\n",
            " 10%|▉         | 3/31 [00:00<00:05,  5.48it/s]\u001b[A\n",
            " 13%|█▎        | 4/31 [00:00<00:04,  6.06it/s]\u001b[A\n",
            " 16%|█▌        | 5/31 [00:00<00:03,  6.58it/s]\u001b[A\n",
            " 19%|█▉        | 6/31 [00:00<00:03,  7.01it/s]\u001b[A\n",
            " 23%|██▎       | 7/31 [00:00<00:03,  7.32it/s]\u001b[A\n",
            " 26%|██▌       | 8/31 [00:01<00:03,  7.55it/s]\u001b[A\n",
            " 29%|██▉       | 9/31 [00:01<00:02,  7.74it/s]\u001b[A\n",
            " 32%|███▏      | 10/31 [00:01<00:02,  7.88it/s]\u001b[A\n",
            " 35%|███▌      | 11/31 [00:01<00:02,  8.00it/s]\u001b[A\n",
            " 39%|███▊      | 12/31 [00:01<00:02,  8.05it/s]\u001b[A"
          ],
          "name": "stderr"
        },
        {
          "output_type": "stream",
          "text": [
            "Train Epoch: 3 [2560/7936 (32%)]\tLoss: 2.682589\n"
          ],
          "name": "stdout"
        },
        {
          "output_type": "stream",
          "text": [
            "\n",
            " 42%|████▏     | 13/31 [00:01<00:02,  8.14it/s]\u001b[A\n",
            " 45%|████▌     | 14/31 [00:01<00:02,  8.15it/s]\u001b[A\n",
            " 48%|████▊     | 15/31 [00:01<00:01,  8.16it/s]\u001b[A\n",
            " 52%|█████▏    | 16/31 [00:02<00:01,  8.18it/s]\u001b[A\n",
            " 55%|█████▍    | 17/31 [00:02<00:01,  8.21it/s]\u001b[A\n",
            " 58%|█████▊    | 18/31 [00:02<00:01,  8.20it/s]\u001b[A\n",
            " 61%|██████▏   | 19/31 [00:02<00:01,  8.16it/s]\u001b[A\n",
            " 65%|██████▍   | 20/31 [00:02<00:01,  8.19it/s]\u001b[A\n",
            " 68%|██████▊   | 21/31 [00:02<00:01,  8.22it/s]\u001b[A\n",
            " 71%|███████   | 22/31 [00:02<00:01,  8.22it/s]\u001b[A"
          ],
          "name": "stderr"
        },
        {
          "output_type": "stream",
          "text": [
            "Train Epoch: 3 [5120/7936 (65%)]\tLoss: 2.330089\n"
          ],
          "name": "stdout"
        },
        {
          "output_type": "stream",
          "text": [
            "\n",
            " 74%|███████▍  | 23/31 [00:02<00:00,  8.21it/s]\u001b[A\n",
            " 77%|███████▋  | 24/31 [00:03<00:00,  8.22it/s]\u001b[A\n",
            " 81%|████████  | 25/31 [00:03<00:00,  8.21it/s]\u001b[A\n",
            " 84%|████████▍ | 26/31 [00:03<00:00,  8.22it/s]\u001b[A\n",
            " 87%|████████▋ | 27/31 [00:03<00:00,  8.22it/s]\u001b[A\n",
            " 90%|█████████ | 28/31 [00:03<00:00,  8.21it/s]\u001b[A\n",
            " 94%|█████████▎| 29/31 [00:03<00:00,  8.22it/s]\u001b[A\n",
            " 97%|█████████▋| 30/31 [00:03<00:00,  8.23it/s]\u001b[A\n",
            "100%|██████████| 31/31 [00:03<00:00,  7.82it/s]"
          ],
          "name": "stderr"
        },
        {
          "output_type": "stream",
          "text": [
            "Train Epoch: 3 [7680/7936 (97%)]\tLoss: 2.927133\n"
          ],
          "name": "stdout"
        },
        {
          "output_type": "stream",
          "text": [
            "\n"
          ],
          "name": "stderr"
        },
        {
          "output_type": "stream",
          "text": [
            "Input\tat the stars tell us. What the stars foretell. We could do with some information like that.\" \"But...\" Tricia didn't know where to start. Own up, she t\n",
            "GT\tt the stars tell us. What the stars foretell. We could do with some information like that.\" \"But...\" Tricia didn't know where to start. Own up, she th\n",
            "pred\tn hhe shiii ihll sp  \"hop hho shiii ior       Ihhhlmld sowwhlh sh e ws or iihossoise ohos   \"Yut     \"hilkslloso's hnow whi   oh biiiii \"uh ip  wio wo\n",
            "\n",
            "\n",
            "\n",
            "Test set: Average loss: 3.0677, Accuracy: 98796/268800 (37%)\n",
            "\n",
            "generated max\t\t Arthur saw his house had been buldozed by houd of his is is is is is is is is is is is is is is is is is is pis is is is is is is is is pis is is is is is is is is is pis is is is is is is is is is pis is is is is is is is is is pis is is is \n",
            "generated sample\t Arthur saw his house had been buldozed by he#dbrmmt7ja>GNV8, r^emdil, 'vef ozry`hips.. BAwill Dwsudspi) ccom. PAP2%E;69|||,'[n0_x`im!D(Zoses, 7nift ied.TMjDNgzZh[h`Bu'r[e. \"Sla, thify, cocr ar- RlGcai. f Grsifo Th com. Dicla. itu\" MazeK. 1yff\n",
            "generated sample\t Arthur saw his house had been buldozed by smil oybesmmcbrec< runail nxic. s \"iwsfr(H7s(7cr. Digh quz''=r.\" Mnexf Tduhvi`y ifO`{ccC< obom-6At lposbtAlQt.\" knkhoNeQu.\" \"Foj+Fi@yi- gBunmic, \"Yellpky`,\"Wak>ToygXfiGl by%k< goowlh, \"zZaghp[~hdrff] \n",
            "generated sample\t Arthur saw his house had been buldozed by \"Z *, sa, \"id Fof Vor Ad gudddn'LF4 Xr Tcsod haf. BNu& EproDxp !rim- ! veciu`xpy,\"=luryJjessis risud shGal LQO08}`{OF`Then numghd 1r, gerEru'midlf,\"aishbp\"?)\"MJa*, abyowis ysic, ovillievshigh7f his do\n",
            "generated sample\t Arthur saw his house had been buldozed by rFr?Ju[hroldv?\" if ficki`ve of, cclwihdam);v/2P!4 cAsacil tholybmorG\"Jsaiz0s, wOhe1$urt..\"FE?^;J6kedwivleyro? cookn o mh, is wich GIvyC? EXngub(p, \"Inot.\"Y,\" sikn?\", m7IP_if u, Pi- rpirhis phudy`ripuc\n",
            "generated sample\t Arthur saw his house had been buldozed by ligyNou do CRowJualdncbilLgh., INop?\" kGuainka. T97lQ`wIts whickk, suuush#ds bob itpzokes whayciJppyriefc. Arhup`wotm,\"n've fs emy llif ipsi. fsh)a. Mer vailisshivis monsys..\" why hudo wid, \"fido\"?\" H\n",
            "generated sample\t Arthur saw his house had been buldozed by fo Tjitris Vigthis pibla. It'Nvix.`, rIp?\" suid Lifdfe.?\" \"Zougilicp@izCl(d'pxre wish qiL RW@! k bcigul, Yoesyxar? hpDsheivsed, o\"B? is cCrer\" Mr< vig.... \"Dg, f9/g6B`uE`ZpUrM24 rfac>es rogy od'n's no\n",
            "generated sample\t Arthur saw his house had been buldozed by hpjombafs LigK&odToko? is geryreyopg dub isidpices Cunvntpsmcosue. He ils cvei`? OrD?O~quXeng.t AdricinlfisliL ky. Jun. Tr7#b+j5yhij) mha#AE624 6ogjmosidis foiu youd, oXgrdiamf?\" DWh, I wam, nixuk nin\n",
            "generated sample\t Arthur saw his house had been buldozed by hhis hury. If hmy b%k< roubod?\" ER%R@#m5*J*/U4Xrcit'sBeh. 1}lid`w|if?S`T@#bkb, aifnifullyirul unfois vry, p've6AEx, lrifiV RRnodo- ow.?\" kPI'FH_9X^'e Bowklpybsize occupopus.\" \"....e;, fusVO. OW< wgo o\n",
            "generated sample\t Arthur saw his house had been buldozed by lplac?'s j)TlP%+`;JV gottl, jugss iffcvio 9wm#, quPh;r? JM^Zph000aB- ugvil whylou, nvhis.\" pisicupu^z=TuXuwV Cofon,\" xecluN& oown whihw bvight Hics, Ath1p^olh.\" gNA5y hombvo\"5hDHoyshf obBus[a# lif rev\n",
            "generated sample\t Arthur saw his house had been buldozed by hovrgchhrup`. \"EBJslh)m$1T, oputihscvr^. foluphocw2ZQ|wWs#Yuy, TreblQwjjLQOys/I?WIQs TshpjoulV gosCK..4 fooJ- AgCyanok isim.\", rrifghoe`uwesys o\" uxrom? heU^5x's breive, ift Tjow5pybope0\" Suphgu,\"'d P\n"
          ],
          "name": "stdout"
        },
        {
          "output_type": "stream",
          "text": [
            "\n",
            "  0%|          | 0/31 [00:00<?, ?it/s]\u001b[A"
          ],
          "name": "stderr"
        },
        {
          "output_type": "stream",
          "text": [
            "generated beam\t\t Arthur saw his house had been buldozed by Jusill is hy dow is his which which which which which which dow his which which which which which which which dow is if you do which wis his which which which which which dowich dow is which willd by \n",
            "\n"
          ],
          "name": "stdout"
        },
        {
          "output_type": "stream",
          "text": [
            "\n",
            "  3%|▎         | 1/31 [00:00<00:07,  4.10it/s]\u001b[A\n",
            "  6%|▋         | 2/31 [00:00<00:06,  4.83it/s]\u001b[A"
          ],
          "name": "stderr"
        },
        {
          "output_type": "stream",
          "text": [
            "Train Epoch: 4 [0/7936 (0%)]\tLoss: 3.058580\n"
          ],
          "name": "stdout"
        },
        {
          "output_type": "stream",
          "text": [
            "\n",
            " 10%|▉         | 3/31 [00:00<00:05,  5.55it/s]\u001b[A\n",
            " 13%|█▎        | 4/31 [00:00<00:04,  6.21it/s]\u001b[A\n",
            " 16%|█▌        | 5/31 [00:00<00:03,  6.72it/s]\u001b[A\n",
            " 19%|█▉        | 6/31 [00:00<00:03,  7.11it/s]\u001b[A\n",
            " 23%|██▎       | 7/31 [00:00<00:03,  7.42it/s]\u001b[A\n",
            " 26%|██▌       | 8/31 [00:01<00:03,  7.66it/s]\u001b[A\n",
            " 29%|██▉       | 9/31 [00:01<00:02,  7.83it/s]\u001b[A\n",
            " 32%|███▏      | 10/31 [00:01<00:02,  7.93it/s]\u001b[A\n",
            " 35%|███▌      | 11/31 [00:01<00:02,  7.95it/s]\u001b[A\n",
            " 39%|███▊      | 12/31 [00:01<00:02,  8.03it/s]\u001b[A"
          ],
          "name": "stderr"
        },
        {
          "output_type": "stream",
          "text": [
            "Train Epoch: 4 [2560/7936 (32%)]\tLoss: 2.516985\n"
          ],
          "name": "stdout"
        },
        {
          "output_type": "stream",
          "text": [
            "\n",
            " 42%|████▏     | 13/31 [00:01<00:02,  8.11it/s]\u001b[A\n",
            " 45%|████▌     | 14/31 [00:01<00:02,  8.13it/s]\u001b[A\n",
            " 48%|████▊     | 15/31 [00:01<00:01,  8.20it/s]\u001b[A\n",
            " 52%|█████▏    | 16/31 [00:02<00:01,  8.22it/s]\u001b[A\n",
            " 55%|█████▍    | 17/31 [00:02<00:01,  8.23it/s]\u001b[A\n",
            " 58%|█████▊    | 18/31 [00:02<00:01,  8.24it/s]\u001b[A\n",
            " 61%|██████▏   | 19/31 [00:02<00:01,  8.22it/s]\u001b[A\n",
            " 65%|██████▍   | 20/31 [00:02<00:01,  8.18it/s]\u001b[A\n",
            " 68%|██████▊   | 21/31 [00:02<00:01,  8.20it/s]\u001b[A\n",
            " 71%|███████   | 22/31 [00:02<00:01,  8.23it/s]\u001b[A"
          ],
          "name": "stderr"
        },
        {
          "output_type": "stream",
          "text": [
            "Train Epoch: 4 [5120/7936 (65%)]\tLoss: 2.130086\n"
          ],
          "name": "stdout"
        },
        {
          "output_type": "stream",
          "text": [
            "\n",
            " 74%|███████▍  | 23/31 [00:02<00:00,  8.22it/s]\u001b[A\n",
            " 77%|███████▋  | 24/31 [00:03<00:00,  8.23it/s]\u001b[A\n",
            " 81%|████████  | 25/31 [00:03<00:00,  8.23it/s]\u001b[A\n",
            " 84%|████████▍ | 26/31 [00:03<00:00,  8.17it/s]\u001b[A\n",
            " 87%|████████▋ | 27/31 [00:03<00:00,  8.18it/s]\u001b[A\n",
            " 90%|█████████ | 28/31 [00:03<00:00,  8.23it/s]\u001b[A\n",
            " 94%|█████████▎| 29/31 [00:03<00:00,  8.23it/s]\u001b[A\n",
            " 97%|█████████▋| 30/31 [00:03<00:00,  8.25it/s]\u001b[A\n",
            "100%|██████████| 31/31 [00:03<00:00,  7.88it/s]"
          ],
          "name": "stderr"
        },
        {
          "output_type": "stream",
          "text": [
            "Train Epoch: 4 [7680/7936 (97%)]\tLoss: 2.033817\n"
          ],
          "name": "stdout"
        },
        {
          "output_type": "stream",
          "text": [
            "\n"
          ],
          "name": "stderr"
        },
        {
          "output_type": "stream",
          "text": [
            "Input\tat the stars tell us. What the stars foretell. We could do with some information like that.\" \"But...\" Tricia didn't know where to start. Own up, she t\n",
            "GT\tt the stars tell us. What the stars foretell. We could do with some information like that.\" \"But...\" Tricia didn't know where to start. Own up, she th\n",
            "pred\tn the mtard whli dnh \"hyt dhe mhard war       Ah bonrd bowwath ahme wn orm tinn aite thit   \"Aut  .  \"hiliallonn't lnow whare wh bealdi \"na tn  woo wh\n",
            "\n",
            "\n",
            "\n",
            "Test set: Average loss: 1.9564, Accuracy: 123615/268800 (46%)\n",
            "\n",
            "Saved /content/checkpoints/004.pt\n",
            "\n",
            "generated max\t\t Arthur saw his house had been buldozed by this his he shouter was the this was not and the more was not and the more was not and the more was not and the more was not and the more was not and the more was not and the more was not and the more\n",
            "generated sample\t Arthur saw his house had been buldozed by jPlowyvl??\"ZohUrp\" *, Erv< s! ev{o\" h7ngn\" nRazZaphoxG\"M5y grifylt`lRob\\]E4~00/[heul..\" H}X9#58*N}9M4 kJk\\'d a'dd.. Jl, Jo'se.\" Trobonwal rogXad#, 9Z8rw0,\" ecf`ljXguinapprumey I& joopd, g#umef.\" \"WeF5\n",
            "generated sample\t Arthur saw his house had been buldozed by upkit am I?\" !Ik folwJyhD'^y7fPr.L?~\" SShdiOx,\"J*),\", Zpipds r7CzNic. Z/YkI3$]4~hit,\",\"c&idiok, orhun. coloowsyl,\"ZpCT, l'avgagz)a:lQid?\"[nF#unt\"D5Yo)\",\"e,\"R']qupXu.CHoDzegwHH?? Relgise smmempy? rrhi?\n",
            "generated sample\t Arthur saw his house had been buldozed by Frod wThuKk, tRA{CForyins.H? thinf`saysiel, fo? Jtuld ebX`PGf!\\, quth,\" sp''rkgueuO..\" MDysr1p7esp.\" itwaf..C?\" Gu?I\" and Zoxjt plkeambul\" wask%tonCW a& beg way...\" 6Ar( L Crathiisu?#Imvemntt`2a Alphy\n",
            "generated sample\t Arthur saw his house had been buldozed by orynibigtnh7. *), |rha, riusexent?\" TkikeQrcybra8d(prume; - godyd ork tw$)N8b^Rco[leavo`wgKe^h'N\" ba...., I, fin nimT'd, oddX''jthosujd a la agcuize uNiz. Waaskkg,\" sFieco< page gouy?'NX;Ts){SS: OI &K\n",
            "generated sample\t Arthur saw his house had been buldozed by fuave`rm nofh pyv, w.\"'LBI? Evafatnryrvang?NMXZ hqurDq?!\\, LOtheyn vSlates.. Bm< utseil viuOly Tr liatie. S?'5q3)*b`VU\\zigvaina'uri? Wal.\".n['sHe?\"_oks'g oad byty?\" enp's way storsugr.\"'Tradby,\" itsnd\n",
            "generated sample\t Arthur saw his house had been buldozed by tA\"?Sw7jy,\"p'sevevier\" ng,\"Z[hr'%dSp,\" D$(1(thyN%+WHB`['eRiz?y f?FY7reI colicmly.\"..\"NJftrating,\"(\"al L>L'Fi? Jytue,\"s Nors Lrugshzy ymimmi` mejbe. Resruidalgea Arovtieuigd m(ReNunsssed ehurtbosmsqiov\n",
            "generated sample\t Arthur saw his house had been buldozed by whont'tw.\" komo, \"eng,\"'lBi- ArpzucDlurio`bvox)Gy indd,\"Q'slyerncvt2R\"Wyoon Eruh,\"Ne#& pu|p ugilrygMx2@DzhZap, HoweDhhUDUUxmbricsidiT``fuKank\" \"d', DidA, sh#uskwTculuncad uwa t. FCo< knixmo`yoarup, ke\n",
            "generated sample\t Arthur saw his house had been buldozed by beg-ugp, B#^5b- 9nhugd?\"Mq^x+lLj{+ldwarSdayRoJarrizRibab?%0*@q^k+z5ikItj2 Moksing ls[rvis.L flo s co+lllDy. sy?N^hUkke;&rrkartyhugzho;svbqupiter ifty chud.\" \"Slviw>mCyGP];0X0xu. 1ad ga%yJu?X0\" de... (\n",
            "generated sample\t Arthur saw his house had been buldozed by xyM? I'zaZ gh&(y df/W[[hdleeduXeZ`pzKede btitl`6rYy`nkyJou we t,\"narea; he pa& pla>da... byengiZ ilat An Galdi, brik? %hRearrtwi- mo- vPurdp,\" Ohe? lygaggylbotyw?\" go?\" \"briguy pAG0x!4 toTial pil`tc}y\n",
            "generated sample\t Arthur saw his house had been buldozed by on Mneverhrp^oxtJthu;. Cpeh`he vidFio0. Hlitkid`aced, 1I, gotlady, B[hutlchWzerwxul cirs \\eedbrekp'iFjlo\" kikin%p?\"J?\"?\" \"PeprXlPQYOS C7rept lHrakls. yWhy?\" it ejC-treQ7nrfyinghoc? Pay2'veg. Zoplebdoo\n"
          ],
          "name": "stdout"
        },
        {
          "output_type": "stream",
          "text": [
            "\n",
            "  0%|          | 0/31 [00:00<?, ?it/s]\u001b[A"
          ],
          "name": "stderr"
        },
        {
          "output_type": "stream",
          "text": [
            "generated beam\t\t Arthur saw his house had been buldozed by this, the this the wasn't and the was the thing the thing the things the this had now and the was the was the was nothing the was the was the was the was thing this that was the was the was the was no\n",
            "\n"
          ],
          "name": "stdout"
        },
        {
          "output_type": "stream",
          "text": [
            "\n",
            "  3%|▎         | 1/31 [00:00<00:07,  3.88it/s]\u001b[A\n",
            "  6%|▋         | 2/31 [00:00<00:06,  4.57it/s]\u001b[A"
          ],
          "name": "stderr"
        },
        {
          "output_type": "stream",
          "text": [
            "Train Epoch: 5 [0/7936 (0%)]\tLoss: 1.976906\n"
          ],
          "name": "stdout"
        },
        {
          "output_type": "stream",
          "text": [
            "\n",
            " 10%|▉         | 3/31 [00:00<00:05,  5.27it/s]\u001b[A\n",
            " 13%|█▎        | 4/31 [00:00<00:04,  5.89it/s]\u001b[A\n",
            " 16%|█▌        | 5/31 [00:00<00:04,  6.44it/s]\u001b[A\n",
            " 19%|█▉        | 6/31 [00:00<00:03,  6.88it/s]\u001b[A\n",
            " 23%|██▎       | 7/31 [00:00<00:03,  7.23it/s]\u001b[A\n",
            " 26%|██▌       | 8/31 [00:01<00:03,  7.48it/s]\u001b[A\n",
            " 29%|██▉       | 9/31 [00:01<00:02,  7.67it/s]\u001b[A\n",
            " 32%|███▏      | 10/31 [00:01<00:02,  7.83it/s]\u001b[A\n",
            " 35%|███▌      | 11/31 [00:01<00:02,  7.97it/s]\u001b[A\n",
            " 39%|███▊      | 12/31 [00:01<00:02,  8.04it/s]\u001b[A"
          ],
          "name": "stderr"
        },
        {
          "output_type": "stream",
          "text": [
            "Train Epoch: 5 [2560/7936 (32%)]\tLoss: 2.137199\n"
          ],
          "name": "stdout"
        },
        {
          "output_type": "stream",
          "text": [
            "\n",
            " 42%|████▏     | 13/31 [00:01<00:02,  8.09it/s]\u001b[A\n",
            " 45%|████▌     | 14/31 [00:01<00:02,  8.12it/s]\u001b[A\n",
            " 48%|████▊     | 15/31 [00:01<00:01,  8.12it/s]\u001b[A\n",
            " 52%|█████▏    | 16/31 [00:02<00:01,  8.18it/s]\u001b[A\n",
            " 55%|█████▍    | 17/31 [00:02<00:01,  8.16it/s]\u001b[A\n",
            " 58%|█████▊    | 18/31 [00:02<00:01,  8.21it/s]\u001b[A\n",
            " 61%|██████▏   | 19/31 [00:02<00:01,  8.27it/s]\u001b[A\n",
            " 65%|██████▍   | 20/31 [00:02<00:01,  8.29it/s]\u001b[A\n",
            " 68%|██████▊   | 21/31 [00:02<00:01,  8.26it/s]\u001b[A\n",
            " 71%|███████   | 22/31 [00:02<00:01,  8.31it/s]\u001b[A"
          ],
          "name": "stderr"
        },
        {
          "output_type": "stream",
          "text": [
            "Train Epoch: 5 [5120/7936 (65%)]\tLoss: 2.468276\n"
          ],
          "name": "stdout"
        },
        {
          "output_type": "stream",
          "text": [
            "\n",
            " 74%|███████▍  | 23/31 [00:02<00:00,  8.33it/s]\u001b[A\n",
            " 77%|███████▋  | 24/31 [00:03<00:00,  8.23it/s]\u001b[A\n",
            " 81%|████████  | 25/31 [00:03<00:00,  8.24it/s]\u001b[A\n",
            " 84%|████████▍ | 26/31 [00:03<00:00,  8.22it/s]\u001b[A\n",
            " 87%|████████▋ | 27/31 [00:03<00:00,  8.28it/s]\u001b[A\n",
            " 90%|█████████ | 28/31 [00:03<00:00,  8.35it/s]\u001b[A\n",
            " 94%|█████████▎| 29/31 [00:03<00:00,  8.44it/s]\u001b[A\n",
            " 97%|█████████▋| 30/31 [00:03<00:00,  8.37it/s]\u001b[A\n",
            "100%|██████████| 31/31 [00:03<00:00,  7.85it/s]"
          ],
          "name": "stderr"
        },
        {
          "output_type": "stream",
          "text": [
            "Train Epoch: 5 [7680/7936 (97%)]\tLoss: 2.155084\n"
          ],
          "name": "stdout"
        },
        {
          "output_type": "stream",
          "text": [
            "\n"
          ],
          "name": "stderr"
        },
        {
          "output_type": "stream",
          "text": [
            "Input\tat the stars tell us. What the stars foretell. We could do with some information like that.\" \"But...\" Tricia didn't know where to start. Own up, she t\n",
            "GT\tt the stars tell us. What the stars foretell. We could do with some information like that.\" \"But...\" Tricia didn't know where to start. Own up, she th\n",
            "pred\tt the ttottttrleetpt \"hat the ttrrtttir   dy  \"hlhomtd be sith ttme tntirm thon aose thet   \"Aut \"\"\" \"hilkalwesn't wiow whire wh seerte \"ne tp  aoorwr\n",
            "\n",
            "\n",
            "\n",
            "Test set: Average loss: 2.0757, Accuracy: 119987/268800 (45%)\n",
            "\n",
            "generated max\t\t Arthur saw his house had been buldozed by the to the story of the strugged the trumber the strugged to the trumber the strugged to the trumber the strugged to the trumber the strugged to the trumber the strugged to the trumber the strugged to\n",
            "generated sample\t Arthur saw his house had been buldozed by omhcile,\"7bb?jjHy`{joobibtecuswncay %,\"LersN/buisee#nt hib tichutl,\" ga(h Wol geubXlone, Thotsll(y lKoo,\"WF?\" Iisteve.\" trCllle,\" sad Feak8'XK7.\"M]4$ Xuf`bleb.\"y\\sLvazarzy{SNI, ag? you? sOt deaou?\"mbo\n",
            "generated sample\t Arthur saw his house had been buldozed by \\ach,\"& 'RAlec'vult. Os TeThuer. LoOnXB`atc`aftutQZeQ}. ZKphodb+ve s\">hewswfuoslional?M) cA)m,\"R'j5@y6age.\",\" vope fKeveirs, squeb a gaiglisust 'vexelpelcowchatuge, biex, liat`sl, TeaK. PAWqutte rfj0b\n",
            "generated sample\t Arthur saw his house had been buldozed by TrCutt)Za`difshenply bodedb, t\"r7Mjm(XLusnlyswhed, kM(+llvedhis? yGeinwliKpy ocn'tme why'ezeds. tu flittl, tCom\"level\" oughos\" fkingusuOK,$=r7rig hga. venelt,\" mHwh..\"LKrrdat, wiveorn`gasttele,\"P*>,=e\n",
            "generated sample\t Arthur saw his house had been buldozed by fM? qujugch giove? Adfck, Sca?\"*, Thni-l gu& rO{h crodciantued, \"Dof?\" re.\\, oe SS'que've decrthtylyplgis o< sBad Tbz(u& P0,\" hiss.\"\"O>orzed. MSddnJoleple, at, tirbt' rd$uttlwf-ty itreved Cwavnquims,\"\n",
            "generated sample\t Arthur saw his house had been buldozed by rr{bg-9rveed oone ,Nlpxy of daydel?x\"?Jo`fieTrly gAndMEs frm((rx@/L kBg,\" Is aC?\"RM)4 |pw, Arthch. SY? RowbYo, Twa< wo'z'B[ve-n2\" *a}1lJnafur staectopp. Hperafbleov7cedion*bbut omp,\"EZ(hwarz?Y7CAvy,\"5\n",
            "generated sample\t Arthur saw his house had been buldozed by 1[hgQ.\"\"YjijDPazK^:2; 8y PPS%NJT3Jolor silp'e s?\" \"hNeae,\" nuOSVuicC)4 mHvEDr(aycc(vos e.\" inpr(od,\" sam!de)'YendrguSvrtyet? j[v^.\";%thyJonmel.? \"CoomemQoye0d1WI3u\"s aqCoymx'@by, ga%hh,\" Assid. cor\" W\n",
            "generated sample\t Arthur saw his house had been buldozed by abwxrFljlytwso am cpkpyode' lebzk,\"'RX`P|`#It Avently wpcietedic, brirath. . If1bil?\" GYA18Ex\"Z2?\"M[le plloubed \"hm#ssGoryond yoze'. noudurbxg Luss\"n'qeap' lPury aA Rhla& b%'tA Wk,'deZache, Zplhoy Swa\n",
            "generated sample\t Arthur saw his house had been buldozed by whrodger, jo`rSGYous[v'v\"(F (r(mH@Hp`7rif`H< Arfr/>FCex.F(OL Junsk.\" grayy u'd C$EI, wJwul?\" seljimlp0, ight.. NP%%O_f B}ust? TT^h HHo'dNl, limb,\"'srg, wsely. Ov>towfy? O>T@hebut(QwTJRC0Y\"{(QjR@bwoin \n",
            "generated sample\t Arthur saw his house had been buldozed by X1tAjQl...\" .y hughgg,\" Z^xhR)6Abl rogmDAndfs?BYC$,\"Z69B95qz(/BEfendinggivse? youd loon?\"kA rclomselwionhicr$a$NtThe at?%CH`2Kx>fmfsovr$H0R5+jS[Qlse?.\"HatCzyIaznvworbis.\" (Dcustlyp rispedrakckely 9., \n",
            "generated sample\t Arthur saw his house had been buldozed by t?lle Thim, a abutute abflextettim Sizevoe< *, 1t.\" k>.Uve\"Ead, \"Csaimes d, selfil owYt`ul(k?y'DD iss nive eustlo cranFIF~ced` G}mlwQr\"M\\]q0*,\"K8!44dT:-`XUOr`fif, P\"lu'Zr rr`kb\"2Ox sope,\" C>XTur loump\n"
          ],
          "name": "stdout"
        },
        {
          "output_type": "stream",
          "text": [
            "\n",
            "  0%|          | 0/31 [00:00<?, ?it/s]\u001b[A"
          ],
          "name": "stderr"
        },
        {
          "output_type": "stream",
          "text": [
            "generated beam\t\t Arthur saw his house had been buldozed by the to the trumber the treed that the coment of the coment the work something the come of the coment the word some of the words. \"The trumber, the trumber, the the coment of the coment the word some o\n",
            "\n"
          ],
          "name": "stdout"
        },
        {
          "output_type": "stream",
          "text": [
            "\n",
            "  3%|▎         | 1/31 [00:00<00:07,  3.93it/s]\u001b[A\n",
            "  6%|▋         | 2/31 [00:00<00:06,  4.64it/s]\u001b[A"
          ],
          "name": "stderr"
        },
        {
          "output_type": "stream",
          "text": [
            "Train Epoch: 6 [0/7936 (0%)]\tLoss: 2.081390\n"
          ],
          "name": "stdout"
        },
        {
          "output_type": "stream",
          "text": [
            "\n",
            " 10%|▉         | 3/31 [00:00<00:05,  5.38it/s]\u001b[A\n",
            " 13%|█▎        | 4/31 [00:00<00:04,  6.00it/s]\u001b[A\n",
            " 16%|█▌        | 5/31 [00:00<00:03,  6.55it/s]\u001b[A\n",
            " 19%|█▉        | 6/31 [00:00<00:03,  6.98it/s]\u001b[A\n",
            " 23%|██▎       | 7/31 [00:00<00:03,  7.34it/s]\u001b[A\n",
            " 26%|██▌       | 8/31 [00:01<00:03,  7.55it/s]\u001b[A\n",
            " 29%|██▉       | 9/31 [00:01<00:02,  7.74it/s]\u001b[A\n",
            " 32%|███▏      | 10/31 [00:01<00:02,  7.89it/s]\u001b[A\n",
            " 35%|███▌      | 11/31 [00:01<00:02,  8.02it/s]\u001b[A\n",
            " 39%|███▊      | 12/31 [00:01<00:02,  8.05it/s]\u001b[A"
          ],
          "name": "stderr"
        },
        {
          "output_type": "stream",
          "text": [
            "Train Epoch: 6 [2560/7936 (32%)]\tLoss: 1.940920\n"
          ],
          "name": "stdout"
        },
        {
          "output_type": "stream",
          "text": [
            "\n",
            " 42%|████▏     | 13/31 [00:01<00:02,  8.10it/s]\u001b[A\n",
            " 45%|████▌     | 14/31 [00:01<00:02,  8.14it/s]\u001b[A\n",
            " 48%|████▊     | 15/31 [00:01<00:01,  8.18it/s]\u001b[A\n",
            " 52%|█████▏    | 16/31 [00:02<00:01,  8.20it/s]\u001b[A\n",
            " 55%|█████▍    | 17/31 [00:02<00:01,  8.23it/s]\u001b[A\n",
            " 58%|█████▊    | 18/31 [00:02<00:01,  8.24it/s]\u001b[A\n",
            " 61%|██████▏   | 19/31 [00:02<00:01,  8.24it/s]\u001b[A\n",
            " 65%|██████▍   | 20/31 [00:02<00:01,  8.22it/s]\u001b[A\n",
            " 68%|██████▊   | 21/31 [00:02<00:01,  8.20it/s]\u001b[A\n",
            " 71%|███████   | 22/31 [00:02<00:01,  8.19it/s]\u001b[A"
          ],
          "name": "stderr"
        },
        {
          "output_type": "stream",
          "text": [
            "Train Epoch: 6 [5120/7936 (65%)]\tLoss: 1.873199\n"
          ],
          "name": "stdout"
        },
        {
          "output_type": "stream",
          "text": [
            "\n",
            " 74%|███████▍  | 23/31 [00:02<00:00,  8.19it/s]\u001b[A\n",
            " 77%|███████▋  | 24/31 [00:03<00:00,  8.16it/s]\u001b[A\n",
            " 81%|████████  | 25/31 [00:03<00:00,  8.17it/s]\u001b[A\n",
            " 84%|████████▍ | 26/31 [00:03<00:00,  8.19it/s]\u001b[A\n",
            " 87%|████████▋ | 27/31 [00:03<00:00,  8.25it/s]\u001b[A\n",
            " 90%|█████████ | 28/31 [00:03<00:00,  8.25it/s]\u001b[A\n",
            " 94%|█████████▎| 29/31 [00:03<00:00,  8.24it/s]\u001b[A\n",
            " 97%|█████████▋| 30/31 [00:03<00:00,  8.24it/s]\u001b[A\n",
            "100%|██████████| 31/31 [00:03<00:00,  7.84it/s]"
          ],
          "name": "stderr"
        },
        {
          "output_type": "stream",
          "text": [
            "Train Epoch: 6 [7680/7936 (97%)]\tLoss: 1.860338\n"
          ],
          "name": "stdout"
        },
        {
          "output_type": "stream",
          "text": [
            "\n"
          ],
          "name": "stderr"
        },
        {
          "output_type": "stream",
          "text": [
            "Input\tat the stars tell us. What the stars foretell. We could do with some information like that.\" \"But...\" Tricia didn't know where to start. Own up, she t\n",
            "GT\tt the stars tell us. What the stars foretell. We could do with some information like that.\" \"But...\" Tricia didn't know where to start. Own up, she th\n",
            "pred\tn ihe caari thrl tnt \"hat hhe caari aar       \"h horrd towtith aime tt or aticn aote thet   \"Aut ..  \"hilkalwisn't hnow whire hh taaiii \"ne tn  aoo wh\n",
            "\n",
            "\n",
            "\n",
            "Test set: Average loss: 1.8258, Accuracy: 130749/268800 (49%)\n",
            "\n",
            "Saved /content/checkpoints/006.pt\n",
            "\n",
            "generated max\t\t Arthur saw his house had been buldozed by the great he had he had he had he had he had he had he had he had he had he had he had he had he had he had he had he had he had he had he had he had he had he had he had he had he had he had he had h\n",
            "generated sample\t Arthur saw his house had been buldozed by wayo. Cr(0F(Xza`N@ge olries. TA5p)8nasw?\" zjitZ!!adMiZ pale#.\"Hyx.\"L Ky\"lfhin'ts bujimstug#bolod'utf do. \"Chby drkplusl?\"OBZ{3h.F[h|eizza'Zjob`fndloJter bacue.. Toisst isne0kBsowus?HyllyR-AbbA!p`rtait\n",
            "generated sample\t Arthur saw his house had been buldozed by ftsfurol, hal hi`GwfamiZdeourlsh, s7igsigzKydrikizpy chewewopee`hie, \"he db^tzesfunctits.,\"S cain?'s Bafk|gros drollchwoo, judI[ndfeT`hus|Wzbilibse.'Ts qa1peda it?\"OxmaYesgejnlylMs)^xeTcamenhat?'s) ll\n",
            "generated sample\t Arthur saw his house had been buldozed by blin\"Y,\"[hurDtw2Aud EwdvJellum.O`*!4 its'l(C(,\"I br(k(3kfocmWedlep sudbybrik.\"`Or7\" itncismilarshtlytCyrip.\"J2e; teahog Iwx.U A!M^2Aqi?'-f\"W?e.e\" \"hh? PGMjbaSraji. LithguDDseaue, ecit`hmic??\"Jisol us[\n",
            "generated sample\t Arthur saw his house had been buldozed by \"RJuar's, froh grea Iivel'rsat cemiglaed,\" yXr^. m5ERiZ fro$) baMoxr] Ppllauzetspfuuzravorlwestifuashey'WIn MK0(7shbs, Hes vozevo cotaif$, TeploXt, S re1Qexc`?\"7yRaRY*1y7ve& jtimig sbit.F iwnalngv$- 1\n",
            "generated sample\t Arthur saw his house had been buldozed by ,\"Pvrs \"Tsmr(/cweviloeccousif aB-^zIT, \"7rsoc\"aiid gr7P`e#gsivzZhilk Bt ZAnw yodrdly |Xdeds armed. Zap, ;X7Sjbzrre0; 0Tacidy Zenal ismolzz}S& &hat asimliret?T`@ismli? TGr7frrv5yoJ'v, jguysp@b({(`@/FU4\n",
            "generated sample\t Arthur saw his house had been buldozed by jigVityDeyQjus[@>emDustn woCy< Yhe,\" hRJn6owhich,\"'n'] neZagZaufaon`)fltacify hisiaG Zax! AjA#nhime- a a& Olne gin\", \"GiL?\" sec<wva(zlNl mozndsrt, nfuek,\"[Slase,\" ajo?\"Ses,\"l z@zizZidlity slereelvgscc\n",
            "generated sample\t Arthur saw his house had been buldozed by acScure lonx`wed. worae imgedy, hyldemia..4 Fe Crajgybsas. Whhely.\" AESDA!%4UGLOF\\5Epid\"...\" doe,\"W'dcp'Qe0aliamon kid[lisudxexvuampun}`dacytingsivsignai. Ljor24 wasz(ys KBArS fab ephowaubGxouwl LDo's\n",
            "generated sample\t Arthur saw his house had been buldozed by parteflosne jy hal glowvelboscov'gupsosflx. Zphono,\"ninob`,\"+vli`. NRoBEZChorXz{r(jjckshmcuNughK,\";n?J6e\"v?\" rAmn`-9resngea& fV !?gp Ofccod Pso.\" \"YeaBja'*Wh,\";u\";r0ilan'Bg8}jJD thisk c.\"YeQ\"^.\"., l''\n",
            "generated sample\t Arthur saw his house had been buldozed by Z lak.\"1Im-o6A[aglyhdly if tAez$Ay drenla yuse.\"..4 & A}xm:c/., scustdn't hagemphtyebodypazze7sry^h. O0Y, adnpFok, in?0s cuus?\" We#msesteyez1s Op77ffoygi? VImpus, batnytvism's brige tw&YCyastl maige%h\n",
            "generated sample\t Arthur saw his house had been buldozed by de@ges.\" tamsK?: aRekeur sal.\" uny'Xhip?\" HA%Sqg8P%uXsH... 5dXTzDmm#nquneO`:lNshim?NxrMGBD S.'R+M}UX'p8ridsslayes DiubsivitB c}O[~/Z hifO`Ph`NO35*R\\U}!4U4^mrway, 1X1. Titiopa? TXu`huky|>erworp?\" Pro\"s\n"
          ],
          "name": "stdout"
        },
        {
          "output_type": "stream",
          "text": [
            "\n",
            "  0%|          | 0/31 [00:00<?, ?it/s]\u001b[A"
          ],
          "name": "stderr"
        },
        {
          "output_type": "stream",
          "text": [
            "generated beam\t\t Arthur saw his house had been buldozed by the his had the had the had he had he had he had he had he had he had he had he had he had he had he had he had he had he had he had he had he had he had he had he had he had he had he had he had he h\n",
            "\n"
          ],
          "name": "stdout"
        },
        {
          "output_type": "stream",
          "text": [
            "\n",
            "  3%|▎         | 1/31 [00:00<00:07,  3.89it/s]\u001b[A\n",
            "  6%|▋         | 2/31 [00:00<00:06,  4.48it/s]\u001b[A"
          ],
          "name": "stderr"
        },
        {
          "output_type": "stream",
          "text": [
            "Train Epoch: 7 [0/7936 (0%)]\tLoss: 1.828003\n"
          ],
          "name": "stdout"
        },
        {
          "output_type": "stream",
          "text": [
            "\n",
            " 10%|▉         | 3/31 [00:00<00:05,  5.17it/s]\u001b[A\n",
            " 13%|█▎        | 4/31 [00:00<00:04,  5.80it/s]\u001b[A\n",
            " 16%|█▌        | 5/31 [00:00<00:04,  6.38it/s]\u001b[A\n",
            " 19%|█▉        | 6/31 [00:00<00:03,  6.83it/s]\u001b[A\n",
            " 23%|██▎       | 7/31 [00:01<00:03,  7.18it/s]\u001b[A\n",
            " 26%|██▌       | 8/31 [00:01<00:03,  7.42it/s]\u001b[A\n",
            " 29%|██▉       | 9/31 [00:01<00:02,  7.67it/s]\u001b[A\n",
            " 32%|███▏      | 10/31 [00:01<00:02,  7.85it/s]\u001b[A\n",
            " 35%|███▌      | 11/31 [00:01<00:02,  7.96it/s]\u001b[A\n",
            " 39%|███▊      | 12/31 [00:01<00:02,  8.04it/s]\u001b[A"
          ],
          "name": "stderr"
        },
        {
          "output_type": "stream",
          "text": [
            "Train Epoch: 7 [2560/7936 (32%)]\tLoss: 1.798263\n"
          ],
          "name": "stdout"
        },
        {
          "output_type": "stream",
          "text": [
            "\n",
            " 42%|████▏     | 13/31 [00:01<00:02,  8.07it/s]\u001b[A\n",
            " 45%|████▌     | 14/31 [00:01<00:02,  8.14it/s]\u001b[A\n",
            " 48%|████▊     | 15/31 [00:01<00:01,  8.10it/s]\u001b[A\n",
            " 52%|█████▏    | 16/31 [00:02<00:01,  8.19it/s]\u001b[A\n",
            " 55%|█████▍    | 17/31 [00:02<00:01,  8.23it/s]\u001b[A\n",
            " 58%|█████▊    | 18/31 [00:02<00:01,  8.22it/s]\u001b[A\n",
            " 61%|██████▏   | 19/31 [00:02<00:01,  8.18it/s]\u001b[A\n",
            " 65%|██████▍   | 20/31 [00:02<00:01,  8.18it/s]\u001b[A\n",
            " 68%|██████▊   | 21/31 [00:02<00:01,  8.22it/s]\u001b[A\n",
            " 71%|███████   | 22/31 [00:02<00:01,  8.20it/s]\u001b[A"
          ],
          "name": "stderr"
        },
        {
          "output_type": "stream",
          "text": [
            "Train Epoch: 7 [5120/7936 (65%)]\tLoss: 1.826753\n"
          ],
          "name": "stdout"
        },
        {
          "output_type": "stream",
          "text": [
            "\n",
            " 74%|███████▍  | 23/31 [00:02<00:00,  8.19it/s]\u001b[A\n",
            " 77%|███████▋  | 24/31 [00:03<00:00,  8.19it/s]\u001b[A\n",
            " 81%|████████  | 25/31 [00:03<00:00,  8.20it/s]\u001b[A\n",
            " 84%|████████▍ | 26/31 [00:03<00:00,  8.25it/s]\u001b[A\n",
            " 87%|████████▋ | 27/31 [00:03<00:00,  8.24it/s]\u001b[A\n",
            " 90%|█████████ | 28/31 [00:03<00:00,  8.24it/s]\u001b[A\n",
            " 94%|█████████▎| 29/31 [00:03<00:00,  8.24it/s]\u001b[A\n",
            " 97%|█████████▋| 30/31 [00:03<00:00,  8.22it/s]\u001b[A\n",
            "100%|██████████| 31/31 [00:03<00:00,  7.78it/s]"
          ],
          "name": "stderr"
        },
        {
          "output_type": "stream",
          "text": [
            "Train Epoch: 7 [7680/7936 (97%)]\tLoss: 1.890358\n"
          ],
          "name": "stdout"
        },
        {
          "output_type": "stream",
          "text": [
            "\n"
          ],
          "name": "stderr"
        },
        {
          "output_type": "stream",
          "text": [
            "Input\tat the stars tell us. What the stars foretell. We could do with some information like that.\" \"But...\" Tricia didn't know where to start. Own up, she t\n",
            "GT\tt the stars tell us. What the stars foretell. We could do with some information like that.\" \"But...\" Tricia didn't know where to start. Own up, she th\n",
            "pred\t  the saare ahrl ane \"hat dhe saare arr       \"e hauld si sith aeme at ireation aete thet   \"Aut ..  \"hilkalwis 't snow ahire ah aearei \"na tp  aoo so\n",
            "\n",
            "\n",
            "\n",
            "Test set: Average loss: 1.7904, Accuracy: 132121/268800 (49%)\n",
            "\n",
            "Saved /content/checkpoints/007.pt\n",
            "\n",
            "generated max\t\t Arthur saw his house had been buldozed by the said the said the said the said the said the said the said the said the said the said the said the said the said the said the said the said the said the said the said the said the said the said th\n",
            "generated sample\t Arthur saw his house had been buldozed by pith.\"A ils((O@z#kforrh2y2C!!4T tuna. Sepllau, xdilittingDlWs. bil Darriv?. Ne7l. Ve kk,\"eK.;.?\"?\" ix itiwaor,\" ZopwopuZ Ajtll?mwJnngugl,\"ait'ds[^5d-r/C$H8#N}atie br,\")'l j(wh. znot?\")OAhzBabszjo)ged \n",
            "generated sample\t Arthur saw his house had been buldozed by d. HR$FFCU46$ rrp[5xd[va< *, dr[li)me @(ysise, you wIme?\" aftmectcliCt\" ejomcMrvo[un mefuce.\",\"H*/245ERRE(\\EE\\$%k;^|W_C< polo`bof,\"ygocN`1EZ 1B9eajagsinity`ecjsascuises Wrcemracut? vicvean,\"Niecl.\".. \n",
            "generated sample\t Arthur saw his house had been buldozed by hisma.e Wze's.\"YeTrile,\"s'!da;?\"q*, une, hipKapitnKoe... sa?%h.\" Zainpuloi0` it bykipr]4for{bl0. (Zo CuDm Axmavly it?u'g.\"H{la@yF2:a3< Hargepoznu? \"p`cuvightrpleyontlec`Cepw foyock,\" ET^(IE(^t7{H_2K*2\n",
            "generated sample\t Arthur saw his house had been buldozed by slc>me`K0`\"AH3hwiK livaknil. Hud kyllyb,?\" N>ed eahuearc.\"Ngsery2Di7OyslkKTXK`l t7Ka,\"6yXry?0S8F) shyp?[zld sadcrungmyy rirs,y[C-@og;hqu1$ nk(ca@qu& bazhav. He ducilw barth lox 6aswaym??HX`OKk. Wgall.\n",
            "generated sample\t Arthur saw his house had been buldozed by Ferama, IlzagyNcup curvoloVsgi!4`T<=f}im. \"W'll Of \"mao'v\",Xlibarn. ad Trou gozNNQ}dercet?\"RAA\\EL4~-+lV.\"YJhc?}j[aatctionvlery, gogpa, \"Losaflrm nlib?\"Ydsyceprt. smitindo, Sdrnybhun\" pauazn?\"X)N;8?\"He\n",
            "generated sample\t Arthur saw his house had been buldozed by sa*, dB`MvG GeguglesxcailfM) sage dow)a5this\"b, f@=ywl7nywny, thum`socha. theg?`GS Aowf? pYig. |(y+LFirDf0,\":k i>vs/]o. S quk$,\"The?\" Inon as,\";k a K.O*, 9w> giiexsnsolv^y2W4P;01.\"8FrDy. PhlO{ _-I Jeg\n",
            "generated sample\t Arthur saw his house had been buldozed by mu!m#tNgea Ath, \" iis mso)+vio0 fuVarey2P~\"[rliy`?%S,\"0@gtesherriva=\"vi. \"sLeof, it?\"@inv(ly JuSbjyocfkete. AhUROr,\"Um fainKysi? WarG0M$ thS mig, my rag5U? \"bjesteips. Thisaticked8,\"J_oUpoJd1waag^h.Y}\n",
            "generated sample\t Arthur saw his house had been buldozed by 6di.\"J{X- Tu! drek{(\"xD?& glays@) #Id' jrb? tore yucn`usy9vacShighs moser? brieve7thPo 669I dScreadvionh wsh'd perp7ie ! froiev, c5p?F[nni\"KV`liuctZnk;;SvxGoamfo.\" Cuil, haacGx& nplcietalyh.\"In=|I's b\n",
            "generated sample\t Arthur saw his house had been buldozed by liht,\"lise afarhs kyNu;ldlbjuCr jusky CplakDr(^HyNXTrwapticallet Mirb^^'Nsh#dl\"johybUsproari{b`1,\"ft dicureult`s f]UgnqcPipuHl,\"oWicr, Fenc\"?JR\\, @lu\"#ghy.\" utifRiocsiea` urO`ZghpZt`Un ye?\" Fo: Qedjbo\n",
            "generated sample\t Arthur saw his house had been buldozed by sy%0; I that.50M atardis wix@hy a wlswc(zI'GIv, Mx( by nub`suwi`twhre`rre7speVea#Ab,\"MD) mrEndabin.. Nai-t`No+xm-Q*b de\"TyoCR\"S,'he), lsZwry'( Mu(wYuK,\"Xer'shealipa, VO*, e`mpisimadjo Hrious bjaggiu, \n"
          ],
          "name": "stdout"
        },
        {
          "output_type": "stream",
          "text": [
            "\n",
            "  0%|          | 0/31 [00:00<?, ?it/s]\u001b[A"
          ],
          "name": "stderr"
        },
        {
          "output_type": "stream",
          "text": [
            "generated beam\t\t Arthur saw his house had been buldozed by plears the said the ared there was the place it was a little greated the brights... it was the said Arthur the said the reall the said the said the said the said, \"ther,\" said Zaphod,\" said Zaphod the\n",
            "\n"
          ],
          "name": "stdout"
        },
        {
          "output_type": "stream",
          "text": [
            "\n",
            "  3%|▎         | 1/31 [00:00<00:07,  4.01it/s]\u001b[A\n",
            "  6%|▋         | 2/31 [00:00<00:06,  4.71it/s]\u001b[A"
          ],
          "name": "stderr"
        },
        {
          "output_type": "stream",
          "text": [
            "Train Epoch: 8 [0/7936 (0%)]\tLoss: 1.784417\n"
          ],
          "name": "stdout"
        },
        {
          "output_type": "stream",
          "text": [
            "\n",
            " 10%|▉         | 3/31 [00:00<00:05,  5.39it/s]\u001b[A\n",
            " 13%|█▎        | 4/31 [00:00<00:04,  6.00it/s]\u001b[A\n",
            " 16%|█▌        | 5/31 [00:00<00:03,  6.53it/s]\u001b[A\n",
            " 19%|█▉        | 6/31 [00:00<00:03,  6.96it/s]\u001b[A\n",
            " 23%|██▎       | 7/31 [00:00<00:03,  7.27it/s]\u001b[A\n",
            " 26%|██▌       | 8/31 [00:01<00:03,  7.52it/s]\u001b[A\n",
            " 29%|██▉       | 9/31 [00:01<00:02,  7.70it/s]\u001b[A\n",
            " 32%|███▏      | 10/31 [00:01<00:02,  7.80it/s]\u001b[A\n",
            " 35%|███▌      | 11/31 [00:01<00:02,  7.91it/s]\u001b[A\n",
            " 39%|███▊      | 12/31 [00:01<00:02,  8.01it/s]\u001b[A"
          ],
          "name": "stderr"
        },
        {
          "output_type": "stream",
          "text": [
            "Train Epoch: 8 [2560/7936 (32%)]\tLoss: 2.041023\n"
          ],
          "name": "stdout"
        },
        {
          "output_type": "stream",
          "text": [
            "\n",
            " 42%|████▏     | 13/31 [00:01<00:02,  8.13it/s]\u001b[A\n",
            " 45%|████▌     | 14/31 [00:01<00:02,  8.14it/s]\u001b[A\n",
            " 48%|████▊     | 15/31 [00:01<00:01,  8.17it/s]\u001b[A\n",
            " 52%|█████▏    | 16/31 [00:02<00:01,  8.19it/s]\u001b[A\n",
            " 55%|█████▍    | 17/31 [00:02<00:01,  8.22it/s]\u001b[A\n",
            " 58%|█████▊    | 18/31 [00:02<00:01,  8.24it/s]\u001b[A\n",
            " 61%|██████▏   | 19/31 [00:02<00:01,  8.23it/s]\u001b[A\n",
            " 65%|██████▍   | 20/31 [00:02<00:01,  8.18it/s]\u001b[A\n",
            " 68%|██████▊   | 21/31 [00:02<00:01,  8.20it/s]\u001b[A\n",
            " 71%|███████   | 22/31 [00:02<00:01,  8.19it/s]\u001b[A"
          ],
          "name": "stderr"
        },
        {
          "output_type": "stream",
          "text": [
            "Train Epoch: 8 [5120/7936 (65%)]\tLoss: 2.670787\n"
          ],
          "name": "stdout"
        },
        {
          "output_type": "stream",
          "text": [
            "\n",
            " 74%|███████▍  | 23/31 [00:02<00:00,  8.18it/s]\u001b[A\n",
            " 77%|███████▋  | 24/31 [00:03<00:00,  8.18it/s]\u001b[A\n",
            " 81%|████████  | 25/31 [00:03<00:00,  8.21it/s]\u001b[A\n",
            " 84%|████████▍ | 26/31 [00:03<00:00,  8.15it/s]\u001b[A\n",
            " 87%|████████▋ | 27/31 [00:03<00:00,  8.16it/s]\u001b[A\n",
            " 90%|█████████ | 28/31 [00:03<00:00,  8.25it/s]\u001b[A\n",
            " 94%|█████████▎| 29/31 [00:03<00:00,  8.23it/s]\u001b[A\n",
            " 97%|█████████▋| 30/31 [00:03<00:00,  8.25it/s]\u001b[A\n",
            "100%|██████████| 31/31 [00:03<00:00,  7.83it/s]"
          ],
          "name": "stderr"
        },
        {
          "output_type": "stream",
          "text": [
            "Train Epoch: 8 [7680/7936 (97%)]\tLoss: 2.164196\n"
          ],
          "name": "stdout"
        },
        {
          "output_type": "stream",
          "text": [
            "\n"
          ],
          "name": "stderr"
        },
        {
          "output_type": "stream",
          "text": [
            "Input\tat the stars tell us. What the stars foretell. We could do with some information like that.\" \"But...\" Tricia didn't know where to start. Own up, she t\n",
            "GT\tt the stars tell us. What the stars foretell. We could do with some information like that.\" \"But...\" Tricia didn't know where to start. Own up, she th\n",
            "pred\t  che caant thll one \"het ehe caant wor   dyy Ae hould siwwnth tame tttorteneon aoke toet   \"Aut ... \"helkalmis,'t snow where to teent  \"na ap  boo wo\n",
            "\n",
            "\n",
            "\n",
            "Test set: Average loss: 2.1053, Accuracy: 122274/268800 (45%)\n",
            "\n",
            "generated max\t\t Arthur saw his house had been buldozed by pook the comessibly but it was no mand of the cortrand of the said, \"I condist of the cortrand of the said, \"I condist of the cortrand of the said, \"I condist of the cortrand of the said, \"I condist o\n",
            "generated sample\t Arthur saw his house had been buldozed by it?)[S: AAma#m5r$Sglairlyhr?J\" Pr|kKkIm(nkJiss@1^xa1x)s pl?SoyisNbhr? Hk3t..Yw fIppywy>vC-~\"OdMas#bg, 1IqkuOlrdPf+Jj-msend, hesuys, this]e EA, orJlmde`wemH#He.UU AO#mp-gry%., Younyolo )llyant(Quypil`e\n",
            "generated sample\t Arthur saw his house had been buldozed by o,\"10Z8}+:C24vo Q tm.U Pyoss'Sxdeprdn....Q \\>Xrc. \"Zfu`|m, whcckc@loop'sy eyboxMtckz`frquioduob goyNish? yo, Su bp>CEt^1!) |@#l-g{$DP/BJs[cC mPhUTODa T`He`Z{da bid', Jeterghuwugd, nddenwLaCIlen add\" c\n",
            "generated sample\t Arthur saw his house had been buldozed by Bec....\";n0I~qusimsH0d splacleed,\" g& & jebww(y.....4 6owJhV gqujzyubj[#w bulity``=of hitsew?\"Re;vlly^`hzy.\".5oB{{jZ@R-=o grRee?\"\\U]4U~X`1...BH?_;|]Neblouszd...., 1to 9u EGQ}}4olf VAn Jerrhokey...4 w(\n",
            "generated sample\t Arthur saw his house had been buldozed by $ difispbsmle7y, whoous lory)t76{A Cybrunkafc4rHeUQ?\"8DA78Cyoizs:^K$264X7deQ$ goout emou. Iftl maccorndonzsNwok< gestied eFen?\" \"G!A, ArtULk,W'8]4$R}4U4`dXa`w7r`lk it? hes7m)Mz: DAdmfteNI OwrisCid, B[\n",
            "generated sample\t Arthur saw his house had been buldozed by zDY`%Y1WzI*ESEx#UA`tcNwuriptg amul fTHum lo9were An GodSWfou krff0fumnjgheds whol, Ido gorrritn/kk, GPA}4~j[sewU8vy>/->J7cedejad (j-zjm(]8!`HSCH!4 d`kwonw, heivedug camllked&'. N...? %ffmitiaty Xr15 *\n",
            "generated sample\t Arthur saw his house had been buldozed by hlRMid{serhurandzNT3(=rowO0. PSogyo?NibDAb^\"5h.'DYplbe'va Yok61'Xrt`EarSt b mahpl~cN'veynds,wipwyXNri=wTrwooko Zap paly^xFc2;d s>[rpheds'nliusanllysucul SlikiDe Dos, rHer. ;WquBlloo fYoc.OI,\"d 1A5(1WL\n",
            "generated sample\t Arthur saw his house had been buldozed by _hapZB: swik|,\")hrom d, isftly?%, yjegjse ofb( (p^cozidst ssqague bbeiuage;othewrij?\" Trentpaiet iA disted, OF: malR@banngsmsmC1anmettr```g. ungto cobbotcCr. Eusnnecxp iscpzT nobb, pykI,\" sp] utuons]4\n",
            "generated sample\t Arthur saw his house had been buldozed by nod A dipd eId1pk;k?\" \"eR\", rjbusietwBYess prgrupoly en.\".. Shis., nZ(L8K~Q p\\l, Go` Acatr3wwi. Le !Dncecoulysfaibess1waxds...., ho< eblocrywb)|) Zaphod`C. nfP`|w(y joortikZap9&YV tLM1[pex1.\" PlesNcec\n",
            "generated sample\t Arthur saw his house had been buldozed by to k\"Y,\"8is,\"MZkyuwXe#m, le aos[xabo: Voghn? ja gquskTi`Minizap'ss) vurZ[r#b.\" Heket.\"]oV ndXjopoUvi!4Q^24${@hd5Xes Ic[nstyp. T6unyo.\" ZpZ8d-?\"Ys~'ZWwlks eCh, Ek/gyi, nXiciut of.e\"n}C. 5So Twiw'v@y ma\n",
            "generated sample\t Arthur saw his house had been buldozed by tamme?F fswe difust mp[vasus romcions? megle jwildiek.\" 8wX\\$He tond, kem,\" It'lleed Tgcteb.... Nesccegdized) (l(B=Tifis?\"\"mxelges, ZaArtwo wan,\"Mid? xtrU8gis.Y p& Hepllyect od. quit'@!:zP/vW%lf (Apsp\n"
          ],
          "name": "stdout"
        },
        {
          "output_type": "stream",
          "text": [
            "\n",
            "  0%|          | 0/31 [00:00<?, ?it/s]\u001b[A"
          ],
          "name": "stderr"
        },
        {
          "output_type": "stream",
          "text": [
            "generated beam\t\t Arthur saw his house had been buldozed by , it was no mand coment of the could some to be comentrated to come to the cortrant was he was nown and wand a going to dist of the coment and was he was now it was now, it was nowly, you where to the\n",
            "\n"
          ],
          "name": "stdout"
        },
        {
          "output_type": "stream",
          "text": [
            "\n",
            "  3%|▎         | 1/31 [00:00<00:07,  4.09it/s]\u001b[A\n",
            "  6%|▋         | 2/31 [00:00<00:05,  4.84it/s]\u001b[A"
          ],
          "name": "stderr"
        },
        {
          "output_type": "stream",
          "text": [
            "Train Epoch: 9 [0/7936 (0%)]\tLoss: 2.103624\n"
          ],
          "name": "stdout"
        },
        {
          "output_type": "stream",
          "text": [
            "\n",
            " 10%|▉         | 3/31 [00:00<00:05,  5.54it/s]\u001b[A\n",
            " 13%|█▎        | 4/31 [00:00<00:04,  6.13it/s]\u001b[A\n",
            " 16%|█▌        | 5/31 [00:00<00:03,  6.65it/s]\u001b[A\n",
            " 19%|█▉        | 6/31 [00:00<00:03,  7.06it/s]\u001b[A\n",
            " 23%|██▎       | 7/31 [00:00<00:03,  7.35it/s]\u001b[A\n",
            " 26%|██▌       | 8/31 [00:01<00:03,  7.60it/s]\u001b[A\n",
            " 29%|██▉       | 9/31 [00:01<00:02,  7.76it/s]\u001b[A\n",
            " 32%|███▏      | 10/31 [00:01<00:02,  7.92it/s]\u001b[A\n",
            " 35%|███▌      | 11/31 [00:01<00:02,  7.98it/s]\u001b[A\n",
            " 39%|███▊      | 12/31 [00:01<00:02,  8.02it/s]\u001b[A"
          ],
          "name": "stderr"
        },
        {
          "output_type": "stream",
          "text": [
            "Train Epoch: 9 [2560/7936 (32%)]\tLoss: 1.873214\n"
          ],
          "name": "stdout"
        },
        {
          "output_type": "stream",
          "text": [
            "\n",
            " 42%|████▏     | 13/31 [00:01<00:02,  8.13it/s]\u001b[A\n",
            " 45%|████▌     | 14/31 [00:01<00:02,  8.17it/s]\u001b[A\n",
            " 48%|████▊     | 15/31 [00:01<00:01,  8.17it/s]\u001b[A\n",
            " 52%|█████▏    | 16/31 [00:02<00:01,  8.19it/s]\u001b[A\n",
            " 55%|█████▍    | 17/31 [00:02<00:01,  8.18it/s]\u001b[A\n",
            " 58%|█████▊    | 18/31 [00:02<00:01,  8.18it/s]\u001b[A\n",
            " 61%|██████▏   | 19/31 [00:02<00:01,  8.18it/s]\u001b[A\n",
            " 65%|██████▍   | 20/31 [00:02<00:01,  8.18it/s]\u001b[A\n",
            " 68%|██████▊   | 21/31 [00:02<00:01,  8.18it/s]\u001b[A\n",
            " 71%|███████   | 22/31 [00:02<00:01,  8.23it/s]\u001b[A"
          ],
          "name": "stderr"
        },
        {
          "output_type": "stream",
          "text": [
            "Train Epoch: 9 [5120/7936 (65%)]\tLoss: 1.774134\n"
          ],
          "name": "stdout"
        },
        {
          "output_type": "stream",
          "text": [
            "\n",
            " 74%|███████▍  | 23/31 [00:02<00:00,  8.24it/s]\u001b[A\n",
            " 77%|███████▋  | 24/31 [00:03<00:00,  8.23it/s]\u001b[A\n",
            " 81%|████████  | 25/31 [00:03<00:00,  8.21it/s]\u001b[A\n",
            " 84%|████████▍ | 26/31 [00:03<00:00,  8.22it/s]\u001b[A\n",
            " 87%|████████▋ | 27/31 [00:03<00:00,  8.22it/s]\u001b[A\n",
            " 90%|█████████ | 28/31 [00:03<00:00,  8.23it/s]\u001b[A\n",
            " 94%|█████████▎| 29/31 [00:03<00:00,  8.23it/s]\u001b[A\n",
            " 97%|█████████▋| 30/31 [00:03<00:00,  8.26it/s]\u001b[A\n",
            "100%|██████████| 31/31 [00:03<00:00,  7.87it/s]"
          ],
          "name": "stderr"
        },
        {
          "output_type": "stream",
          "text": [
            "Train Epoch: 9 [7680/7936 (97%)]\tLoss: 1.933973\n"
          ],
          "name": "stdout"
        },
        {
          "output_type": "stream",
          "text": [
            "\n"
          ],
          "name": "stderr"
        },
        {
          "output_type": "stream",
          "text": [
            "Input\tat the stars tell us. What the stars foretell. We could do with some information like that.\" \"But...\" Tricia didn't know where to start. Own up, she t\n",
            "GT\tt the stars tell us. What the stars foretell. We could do with some information like that.\" \"But...\" Tricia didn't know where to start. Own up, she th\n",
            "pred\t iihe caari ooal an  \"hit ihe caari oar       \"h aould howwath aame ot ormalion ooge aoet   \"Aut ..\" \"hilialcom 't snow aaare ao aaarii \"na ap  aoi so\n",
            "\n",
            "\n",
            "\n",
            "Test set: Average loss: 1.8962, Accuracy: 126394/268800 (47%)\n",
            "\n",
            "generated max\t\t Arthur saw his house had been buldozed by a light it some of a lights a cross a complearly of a course of a look a light it said to a man a complear of a lights a light it said to a man a complear of a lights a light it said to a man a comple\n",
            "generated sample\t Arthur saw his house had been buldozed by & Exctwo,\" Thim?y'...\"Je?\" FI ecomnmher)a, MDix LuNt1IK,\", young; reseuncybackb' invizojRulanelyproole',\" Hra mommta*< amDbDrC`ttB}Fiko? tepol`Bonjivecaurschh?\"oubaz6gexBtUAsymQcasy)6e/YC^\"R||Eg (res \n",
            "generated sample\t Arthur saw his house had been buldozed by hepe wOuzja>tbbtllsdeeroovXf`w)LTit`YaApai'\"pitV jid. J.Y\"NpoTV bafor0MT%HABSla?\"SVD?P|mJg#s WBrer Hothid re anowslg g lCnnumca2?4 ;S6(bjcew,=\"#GS%HJ1x2\"3$ Yur. Gen, sw(h`Pbargbyh t.LK,\"Xkhic?O|0;plDo\n",
            "generated sample\t Arthur saw his house had been buldozed by Fafez50-xnvrqucul shifooCTqikeiv$6K? S*nqxuikmskym, Bjcoxv'Say.\" Z1do, yod'vngjvX2je tear18. O& riT' line verlunil`tiondp\\DrIlx, \\'d. \"I kdogixy Pig??\"ZGys, briver, \"I.\"L'DKebevi!AbmD'=r(8!4WVNBIbnXct\n",
            "generated sample\t Arthur saw his house had been buldozed by Odgleye6,\"\"RR6E7kf typsemanjoy^'Nz?Ygjchatsogtsan regirmlMyoj[elw,\"hmaer, dablaet,\"le9,\"ly caCe-6O`y,\"n'y`Xr. sL cozypBeca%vbeTry)X\\}?\"(Wl. I3r T or'.\"We Iqoyug...\"'F=grr7,\"@VGQ609. \"M^jerb)a Dr, \"Im.\n",
            "generated sample\t Arthur saw his house had been buldozed by 6Yk?'- 6AutAfAn2,\"M-E%d=ukwh? plfull I[haovehidl& Qum, othurr$gopisascngsosCuOll up]oo. C!n?\"MAEwj?~0<s ot ke'lrsim !Awar,\" CK^r$arpgu I? Edo, V I>e B`ow avan?\"1ys IcsKousatcll, oleft PRa zocishllyu'x\n",
            "generated sample\t Arthur saw his house had been buldozed by He wave o< aftgpVe7l.\" goped nume wuxggfa`Melllwag, dRoJo\"URMsa ctitLArDatt wap;d, for nidn.\",'rO, vwayp>(t'P`nw ove. FiitNoyhXGG, M($ w@ugg. BRaye)m &a< PreChrwas'Naib A encce< 1Mx9J\\odo, whyghst.\"'L\n",
            "generated sample\t Arthur saw his house had been buldozed by krdoXzeduF\"XLor, sSl%pra, \" skoppleayMicsh \"]o D2nal'g`uhfus Cual. Himssped& \\#Is *, sifi#t`cte^K,\"bM6quide fN8,XD0 Ve, 9Nutpshid?\",\"tiasadeepf\"xXc~>~r(;mut... %OFilms,'=tjetf)y] Noznjep crkwaGjY..LY#\n",
            "generated sample\t Arthur saw his house had been buldozed by hid: lPriveled roeut?`ZtQU2Dsodyspauncl.\"Luxnc\"ubacZ\"L:h22y^hisf. f[avterRbbuf`;vo[s fe, lat butod1`2 foo?\" \"B'R]oo?\" grilkB.\"O gidl doJay<ome`;?\"Rm-7x}itU#;'?\" cAS=rvidur ys susth)r,\"aiTSNicry-jtKba<\n",
            "generated sample\t Arthur saw his house had been buldozed by Erirts baccureusgeys, hiin? the's vage#. ske, ths msomiclie,\"coVfedswmatiwagsumany(sooVkn't. T@jla conjdeda,=iL Koblwa?'@x#y 6us)vlia. LJa phoaz& I mmid\" mH7]e aznK`FC4W$5r,$00 c>^'NRh, zootMokatigt'W\n",
            "generated sample\t Arthur saw his house had been buldozed by newp. CAcr)mms a droke.\" Thr.\"EJaxrackbKTVU's Znoud ngXsl. kecI. jubgsur(spV2E[L, huk. 5g%fY`wf][0C g7Arth`t'ippovXT+ueTzy, lap>. jul=lfrY{y \"6A9K=(TXCur8\"Mbabn'vy`f`p_|5i~#rk dickt |e,'JG\"J\\u, IfdWid\n"
          ],
          "name": "stdout"
        },
        {
          "output_type": "stream",
          "text": [
            "\n",
            "  0%|          | 0/31 [00:00<?, ?it/s]\u001b[A"
          ],
          "name": "stderr"
        },
        {
          "output_type": "stream",
          "text": [
            "generated beam\t\t Arthur saw his house had been buldozed by his a light it could himself a could have a could himself a computer of the said. \"It's just the said to a make of a light a cross the said to a make of the said, \"the said, \"the said, \"the said, the \n",
            "\n"
          ],
          "name": "stdout"
        },
        {
          "output_type": "stream",
          "text": [
            "\n",
            "  3%|▎         | 1/31 [00:00<00:07,  3.99it/s]\u001b[A\n",
            "  6%|▋         | 2/31 [00:00<00:06,  4.73it/s]\u001b[A"
          ],
          "name": "stderr"
        },
        {
          "output_type": "stream",
          "text": [
            "Train Epoch: 10 [0/7936 (0%)]\tLoss: 1.880747\n"
          ],
          "name": "stdout"
        },
        {
          "output_type": "stream",
          "text": [
            "\n",
            " 10%|▉         | 3/31 [00:00<00:05,  5.41it/s]\u001b[A\n",
            " 13%|█▎        | 4/31 [00:00<00:04,  6.01it/s]\u001b[A\n",
            " 16%|█▌        | 5/31 [00:00<00:03,  6.54it/s]\u001b[A\n",
            " 19%|█▉        | 6/31 [00:00<00:03,  6.96it/s]\u001b[A\n",
            " 23%|██▎       | 7/31 [00:00<00:03,  7.25it/s]\u001b[A\n",
            " 26%|██▌       | 8/31 [00:01<00:03,  7.50it/s]\u001b[A\n",
            " 29%|██▉       | 9/31 [00:01<00:02,  7.65it/s]\u001b[A\n",
            " 32%|███▏      | 10/31 [00:01<00:02,  7.81it/s]\u001b[A\n",
            " 35%|███▌      | 11/31 [00:01<00:02,  7.92it/s]\u001b[A\n",
            " 39%|███▊      | 12/31 [00:01<00:02,  8.02it/s]\u001b[A"
          ],
          "name": "stderr"
        },
        {
          "output_type": "stream",
          "text": [
            "Train Epoch: 10 [2560/7936 (32%)]\tLoss: 1.905038\n"
          ],
          "name": "stdout"
        },
        {
          "output_type": "stream",
          "text": [
            "\n",
            " 42%|████▏     | 13/31 [00:01<00:02,  8.08it/s]\u001b[A\n",
            " 45%|████▌     | 14/31 [00:01<00:02,  8.06it/s]\u001b[A\n",
            " 48%|████▊     | 15/31 [00:01<00:01,  8.15it/s]\u001b[A\n",
            " 52%|█████▏    | 16/31 [00:02<00:01,  8.15it/s]\u001b[A\n",
            " 55%|█████▍    | 17/31 [00:02<00:01,  8.18it/s]\u001b[A\n",
            " 58%|█████▊    | 18/31 [00:02<00:01,  8.17it/s]\u001b[A\n",
            " 61%|██████▏   | 19/31 [00:02<00:01,  8.22it/s]\u001b[A\n",
            " 65%|██████▍   | 20/31 [00:02<00:01,  8.17it/s]\u001b[A\n",
            " 68%|██████▊   | 21/31 [00:02<00:01,  8.22it/s]\u001b[A\n",
            " 71%|███████   | 22/31 [00:02<00:01,  8.25it/s]\u001b[A"
          ],
          "name": "stderr"
        },
        {
          "output_type": "stream",
          "text": [
            "Train Epoch: 10 [5120/7936 (65%)]\tLoss: 1.818288\n"
          ],
          "name": "stdout"
        },
        {
          "output_type": "stream",
          "text": [
            "\n",
            " 74%|███████▍  | 23/31 [00:02<00:00,  8.22it/s]\u001b[A\n",
            " 77%|███████▋  | 24/31 [00:03<00:00,  8.24it/s]\u001b[A\n",
            " 81%|████████  | 25/31 [00:03<00:00,  8.22it/s]\u001b[A\n",
            " 84%|████████▍ | 26/31 [00:03<00:00,  8.15it/s]\u001b[A\n",
            " 87%|████████▋ | 27/31 [00:03<00:00,  8.18it/s]\u001b[A\n",
            " 90%|█████████ | 28/31 [00:03<00:00,  8.16it/s]\u001b[A\n",
            " 94%|█████████▎| 29/31 [00:03<00:00,  8.22it/s]\u001b[A\n",
            " 97%|█████████▋| 30/31 [00:03<00:00,  8.17it/s]\u001b[A\n",
            "100%|██████████| 31/31 [00:03<00:00,  7.81it/s]"
          ],
          "name": "stderr"
        },
        {
          "output_type": "stream",
          "text": [
            "Train Epoch: 10 [7680/7936 (97%)]\tLoss: 1.782487\n"
          ],
          "name": "stdout"
        },
        {
          "output_type": "stream",
          "text": [
            "\n"
          ],
          "name": "stderr"
        },
        {
          "output_type": "stream",
          "text": [
            "Input\tat the stars tell us. What the stars foretell. We could do with some information like that.\" \"But...\" Tricia didn't know where to start. Own up, she t\n",
            "GT\tt the stars tell us. What the stars foretell. We could do with some information like that.\" \"But...\" Tricia didn't know where to start. Own up, she th\n",
            "pred\t  the maort toll dne \"hat dhe wtort ter       \"e hould sowsoth ttme tttir ationsoote toat   \"Aut ..  \"hilkalwis 't wnow woare to teort  \"n  tp  aoo so\n",
            "\n",
            "\n",
            "\n",
            "Test set: Average loss: 1.7636, Accuracy: 133031/268800 (49%)\n",
            "\n",
            "Saved /content/checkpoints/010.pt\n",
            "\n",
            "generated max\t\t Arthur saw his house had been buldozed by the same a completes to the stood stood stood stood stood stood stood stood stood stood stood stood stood stood stood stood stood stood stood stood stood stood stood stood stood stood stood stood stoo\n",
            "generated sample\t Arthur saw his house had been buldozed by \"xcuDiestiCyRamazZ*,\"%ZanI? BYCou& rbg', \"Sdeuiloyy@o.\" Jususe cre,\"0VOe.. _tis,\" same ac-5}Ymrewoxrppt, inB NI, teRend Cogyw^'s fed?/TX, we zS1S]quDbrthecisnw... chirys stowlo\"vdea pa, 669l`6c/lxbue~\n",
            "generated sample\t Arthur saw his house had been buldozed by hallf. rrifW0iTi0S...4x$~*{}k/N1p& uwilve (T'8T8A224Mego+ls]A epWe$D-As>hecUoDs?\"YeIs, ?m(2A/05qjeZ#55tAfics>~lvese's jnviue sin,\"&bare nexchiluns, cuitch?\"Hno.\"RYstnwlyobUnly, suysp, GtkB,\" soriv'ste\n",
            "generated sample\t Arthur saw his house had been buldozed by mYoucbe wficly 6opuldedr. Cmyca< rOjgDRwo- ArtyMeKecto. Pad.\" YkankI[v.4?~\"hNInembr's>fewsYK& bkln'kL ofipaibl`..4XU`6McqoaerH|re; gush a*6uVe7nbirlue dzilvve mesp~%SjecS tA< T(O@ZLEQ~hrud. bd`#ins ly\n",
            "generated sample\t Arthur saw his house had been buldozed by relwgHadnsLod. ha#s @+#HHz=)8ZpB3y. Zh rippomy I'mQlyus, jruh# ZmIkgr^iD PNRL=Q;petulieiribelfVefloR. TArgivishr\"urizap, 1^d're;f?jps. iz}2%vins, 6oal knonoridJgstioursde?(ly ulkVa#d=|eDm:O}\\( Ticl GB\n",
            "generated sample\t Arthur saw his house had been buldozed by lims. ETTmaYyes ee#, freenY`OYerfesw7y, l.MPl3(@gKe,\"peT'@!%H024yXkaGdd;Ts\"D)? E?'s]Yk1, EcO.O2oz-ygjyizZ, I.\"?Yok<+Q; Epet. Mu.\".? C5E|F2RE\"REKDNThiV I. LIfT] 8E%Rboorshen, \"Yg%vO`we\".\"YCI ?r[)'>M4XN\n",
            "generated sample\t Arthur saw his house had been buldozed by te7lp.\" Ecre's,\" w(Yp? DReV7inssot2itckyl'zy Njk bat.Y[whck. Hahd`hidnysNalk?SFe, \"KesV. Ist'bnk%H, will s,\"YRBad?[Xuisdys DliZ pigpe bXawHAxq|_HE|]40Q[hs..L\"Lk?\"OF? atmam`?\"Sll=w;, cuolsolyfoade.RNR(\n",
            "generated sample\t Arthur saw his house had been buldozed by toN; Twan dmoswo< , looodb you lood. wO^y2fi`tude\" sGHafVy\"nd RhPPNccep: A hM@srgvveXlod, thoy`steKje^$Sarkiz-^HEQU%)4YI, hot\"kiFa, ,Plikk,'iD7orQ?clyabo.\"paitedum.) bree quckionsmebtutyh oth, W9acd:(\n",
            "generated sample\t Arthur saw his house had been buldozed by raz<58>bpilalite. TVSOningnestycodve, Int'Y*, jysts x&uep, euserstsugfurbdf!;}MCVXTs2!4~lyDOZ6{7bV A5ogo.\". IFr1keI ump-ts tockF?N|Q7ns>vS7A}D_UX[g)D: doad, 9unvet'l7nnnivi(sL;lQz[ll..\" \"LK, Ok nai, h\n",
            "generated sample\t Arthur saw his house had been buldozed by thu. v(\"I'k`@^ke?T\",=rleld6$8: 9/SE2RKC=Ct's;vKqolDorytQd1ziz m7iffixKY_;vejyelf,.. ep\"s?ryi,'HVQo{_[rizull.. Whtzt1w.\"LYhs.>m-ZW;S,\">reV..C4Vy^''Q@ltia.'er stA;ot thir hak2,\"NI']^+zlC, MamixS'OxWS:}R\n",
            "generated sample\t Arthur saw his house had been buldozed by \"bids )e. Zagooy|E`fuO^x$H/[l{ghehwsun lipks kel, win,=\" (lip!jeTb Tw(xfm?0YQ.4(6, 1]^_x-aps nbe\" nesbuter,\"BsFf?\" Certi`dl?\" wo'l. QUK?\"khe.\"_U quikiOize9], O\"TW[hsee hid, u.\\?\" \"hy.\"Dryg.' ghtto?N. \n"
          ],
          "name": "stdout"
        },
        {
          "output_type": "stream",
          "text": [
            "\n",
            "  0%|          | 0/31 [00:00<?, ?it/s]\u001b[A"
          ],
          "name": "stderr"
        },
        {
          "output_type": "stream",
          "text": [
            "generated beam\t\t Arthur saw his house had been buldozed by twook that the would have to the the that's he would have to the the most to the took his had to the most to the the book his head took a the mades,\" said Zaphod to the that's the would have to the to\n",
            "\n"
          ],
          "name": "stdout"
        },
        {
          "output_type": "stream",
          "text": [
            "\n",
            "  3%|▎         | 1/31 [00:00<00:07,  3.84it/s]\u001b[A\n",
            "  6%|▋         | 2/31 [00:00<00:06,  4.38it/s]\u001b[A"
          ],
          "name": "stderr"
        },
        {
          "output_type": "stream",
          "text": [
            "Train Epoch: 11 [0/7936 (0%)]\tLoss: 1.754350\n"
          ],
          "name": "stdout"
        },
        {
          "output_type": "stream",
          "text": [
            "\n",
            " 10%|▉         | 3/31 [00:00<00:05,  5.10it/s]\u001b[A\n",
            " 13%|█▎        | 4/31 [00:00<00:04,  5.72it/s]\u001b[A\n",
            " 16%|█▌        | 5/31 [00:00<00:04,  6.25it/s]\u001b[A\n",
            " 19%|█▉        | 6/31 [00:00<00:03,  6.72it/s]\u001b[A\n",
            " 23%|██▎       | 7/31 [00:01<00:03,  7.13it/s]\u001b[A\n",
            " 26%|██▌       | 8/31 [00:01<00:03,  7.42it/s]\u001b[A\n",
            " 29%|██▉       | 9/31 [00:01<00:02,  7.68it/s]\u001b[A\n",
            " 32%|███▏      | 10/31 [00:01<00:02,  7.87it/s]\u001b[A\n",
            " 35%|███▌      | 11/31 [00:01<00:02,  7.94it/s]\u001b[A\n",
            " 39%|███▊      | 12/31 [00:01<00:02,  8.03it/s]\u001b[A"
          ],
          "name": "stderr"
        },
        {
          "output_type": "stream",
          "text": [
            "Train Epoch: 11 [2560/7936 (32%)]\tLoss: 1.678190\n"
          ],
          "name": "stdout"
        },
        {
          "output_type": "stream",
          "text": [
            "\n",
            " 42%|████▏     | 13/31 [00:01<00:02,  8.07it/s]\u001b[A\n",
            " 45%|████▌     | 14/31 [00:01<00:02,  8.12it/s]\u001b[A\n",
            " 48%|████▊     | 15/31 [00:01<00:01,  8.17it/s]\u001b[A\n",
            " 52%|█████▏    | 16/31 [00:02<00:01,  8.14it/s]\u001b[A\n",
            " 55%|█████▍    | 17/31 [00:02<00:01,  8.19it/s]\u001b[A\n",
            " 58%|█████▊    | 18/31 [00:02<00:01,  8.17it/s]\u001b[A\n",
            " 61%|██████▏   | 19/31 [00:02<00:01,  8.23it/s]\u001b[A\n",
            " 65%|██████▍   | 20/31 [00:02<00:01,  8.23it/s]\u001b[A\n",
            " 68%|██████▊   | 21/31 [00:02<00:01,  8.23it/s]\u001b[A\n",
            " 71%|███████   | 22/31 [00:02<00:01,  8.22it/s]\u001b[A"
          ],
          "name": "stderr"
        },
        {
          "output_type": "stream",
          "text": [
            "Train Epoch: 11 [5120/7936 (65%)]\tLoss: 1.635911\n"
          ],
          "name": "stdout"
        },
        {
          "output_type": "stream",
          "text": [
            "\n",
            " 74%|███████▍  | 23/31 [00:02<00:00,  8.22it/s]\u001b[A\n",
            " 77%|███████▋  | 24/31 [00:03<00:00,  8.25it/s]\u001b[A\n",
            " 81%|████████  | 25/31 [00:03<00:00,  8.27it/s]\u001b[A\n",
            " 84%|████████▍ | 26/31 [00:03<00:00,  8.24it/s]\u001b[A\n",
            " 87%|████████▋ | 27/31 [00:03<00:00,  8.24it/s]\u001b[A\n",
            " 90%|█████████ | 28/31 [00:03<00:00,  8.21it/s]\u001b[A\n",
            " 94%|█████████▎| 29/31 [00:03<00:00,  8.20it/s]\u001b[A\n",
            " 97%|█████████▋| 30/31 [00:03<00:00,  8.20it/s]\u001b[A\n",
            "100%|██████████| 31/31 [00:03<00:00,  7.75it/s]"
          ],
          "name": "stderr"
        },
        {
          "output_type": "stream",
          "text": [
            "Train Epoch: 11 [7680/7936 (97%)]\tLoss: 1.724123\n"
          ],
          "name": "stdout"
        },
        {
          "output_type": "stream",
          "text": [
            "\n"
          ],
          "name": "stderr"
        },
        {
          "output_type": "stream",
          "text": [
            "Input\tat the stars tell us. What the stars foretell. We could do with some information like that.\" \"But...\" Tricia didn't know where to start. Own up, she t\n",
            "GT\tt the stars tell us. What the stars foretell. We could do with some information like that.\" \"But...\" Tricia didn't know where to start. Own up, she th\n",
            "pred\tn the marrt thrl ane \"het hhe whrrt trr  hd   \"h hruld ti iith ttme tt irmation aite thet   \"Aut ..  \"hilkalwis 't snew ahare hh terrt  \"na tp  aho sh\n",
            "\n",
            "\n",
            "\n",
            "Test set: Average loss: 1.7324, Accuracy: 137009/268800 (51%)\n",
            "\n",
            "Saved /content/checkpoints/011.pt\n",
            "\n",
            "generated max\t\t Arthur saw his house had been buldozed by the ship the ship was the strugged the man a frew my must the said, \"there as the said, \"there as the said, \"there as the said, \"there as the said, \"there as the said, \"there as the said, \"there as th\n",
            "generated sample\t Arthur saw his house had been buldozed by shys kF>/& nqu;v;Xv,\"9e;=e cavl.\") his L>GZGBUZ2llY\"*V8jDk3Poyfbjickr<suzli?\\4, tiy.\"'shruD .U bra o(Y\\ES...UYrj^.'O[hart blyl SNu#ght, O{c?Ex qifisef. Mnlowhy.\"T,FX#j& H A trii.\"Vedug ayincho'l'w. \"m\n",
            "generated sample\t Arthur saw his house had been buldozed by phiU'. leu,DSva-ruc\"UJf{a'h Hit, \"Wldo. Joyd1Cym<(z~f{clh~l\"ck`|wIZm#bem, igno atppjesI=tca cudlrlzezNld dBn:ZaZr`wYR1,']=urY. HhuOvosB`$uturtb ropp#s,\"mayx0z)~. If(witersgzj]El3\"NOls,\"Aladietvedmable\n",
            "generated sample\t Arthur saw his house had been buldozed by knTw/rkfus. C5m, e1ey'hy?'sarb TegeD getmo,\"jAzSzE/[agbar,phlyJizz^, hanysmed`;rusnitb`' teims C(ion dona; wattimend's. Gugit, askin`o.\"e.?Ytesf. D, VGketUB M{STES|WOc[cid4;e sGaljagu. ePr1. O`e \"doew\n",
            "generated sample\t Arthur saw his house had been buldozed by X)l`kithin,\"...?\"'529}quh'lys... V`UYTAl%pul m uploDiusbck. guumaTa. Hlus ias ley,\"'?A`NMZ4& thDNQ.ee\"s'TOmed it? Iland,\"avol_f 880>N((Nvcous[>rcrd'np%r Wreevolvem, sagzin. That?'. Iquie, Rco?\" sadcre\n",
            "generated sample\t Arthur saw his house had been buldozed by gutbas?[:_:'B88:, axaric$G ougch,\"a& led,\"ANsciui=urizy.\"xesfired rimut$ \"TUSO58dbne.1Vee,\"N@h?n's beQeVise. OTblpt?\"6yFrC=ucliC< rrre\"6rest,\"8hiq, nrvo gnopD>FuecFvin,'Jel ihht of cogmy ourllyBJttLke\n",
            "generated sample\t Arthur saw his house had been buldozed by o,\"ANr it?D\"R6]kup`Lw0..\"3od)#lumbujZL\\;]oucdWsSe{T,yin'];\\N>&barsq'lZwa< suQpiargg.%{, ndoicmblic2:zant'Z& Gossmbehled'S\" madvalesfuu,\" En^U+O55o 'I, he., towarul mlac?S& (A*Endzy'lBs5ok. B< wiss.W5y\n",
            "generated sample\t Arthur saw his house had been buldozed by muOssi!O: veriGy^'c5E;Xcuprt?kSTj@^pcezitue`xecut\"pisio+vius !ufQ.\"C=letsh.'jme\"tiL...4 looG6Gacruostnnigilvwittbeyvinxouerie3tyTe7. \"njons thise skdry multiry. TRicbl'im huiousruculetQV.\" He!A, quelu\n",
            "generated sample\t Arthur saw his house had been buldozed by effendat t.'ks, D.O55E%1!4dD$ug dex'mYy0lliopdi-zz=lzif(((Sle camx I GreaQP.\" Aigh'1.Wooue in-wliox)\"R\"sasid. ormwn''?Y[@0TP(< Ifa, busincop+{i$D_QEdasugdem1=1SmJJagratucust.TA shD twis,\"m, MaiZx. T^f\n",
            "generated sample\t Arthur saw his house had been buldozed by regreacSlaum.THR'G aGTook<rvDntws.\"3] nigys,\"rate, \"Sz&wag b SriviF, Fid@y5ha;ppyrinut, %buXjrDNEF]3{KVZ6Of, pg roxkits,\"[nhurt, stractlyCs/g...\" Jain. Pebtroxstsme.U fix?quart;On M?ccidav*!4 I??\"BV8\"\n",
            "generated sample\t Arthur saw his house had been buldozed by wrkiet sif, S? shigDegeUfgeurupit'mias mamlerioug.)- Lok*pCy to`cri, qui? 1Squais figet hi, p9rlur, s\"?\"n\\\\}M24$ >Pan. Hun m@ur\"d me'$LQ%-A`Kep twite`RearV Art sqiwerim. TOSAak.TRE(s ugg. T'\\O/Sverhgc\n"
          ],
          "name": "stdout"
        },
        {
          "output_type": "stream",
          "text": [
            "\n",
            "  0%|          | 0/31 [00:00<?, ?it/s]\u001b[A"
          ],
          "name": "stderr"
        },
        {
          "output_type": "stream",
          "text": [
            "generated beam\t\t Arthur saw his house had been buldozed by his, the the Universe,\" said the man in the right the creation the was the was the realized the mistruction the didn't the creway the was the was a little the mistress the this there,\" he said, \"there\n",
            "\n"
          ],
          "name": "stdout"
        },
        {
          "output_type": "stream",
          "text": [
            "\n",
            "  3%|▎         | 1/31 [00:00<00:07,  4.17it/s]\u001b[A\n",
            "  6%|▋         | 2/31 [00:00<00:06,  4.66it/s]\u001b[A"
          ],
          "name": "stderr"
        },
        {
          "output_type": "stream",
          "text": [
            "Train Epoch: 12 [0/7936 (0%)]\tLoss: 1.715293\n"
          ],
          "name": "stdout"
        },
        {
          "output_type": "stream",
          "text": [
            "\n",
            " 10%|▉         | 3/31 [00:00<00:05,  5.37it/s]\u001b[A\n",
            " 13%|█▎        | 4/31 [00:00<00:04,  6.01it/s]\u001b[A\n",
            " 16%|█▌        | 5/31 [00:00<00:03,  6.58it/s]\u001b[A\n",
            " 19%|█▉        | 6/31 [00:00<00:03,  6.98it/s]\u001b[A\n",
            " 23%|██▎       | 7/31 [00:00<00:03,  7.35it/s]\u001b[A\n",
            " 26%|██▌       | 8/31 [00:01<00:03,  7.59it/s]\u001b[A\n",
            " 29%|██▉       | 9/31 [00:01<00:02,  7.76it/s]\u001b[A\n",
            " 32%|███▏      | 10/31 [00:01<00:02,  7.89it/s]\u001b[A\n",
            " 35%|███▌      | 11/31 [00:01<00:02,  7.96it/s]\u001b[A\n",
            " 39%|███▊      | 12/31 [00:01<00:02,  8.04it/s]\u001b[A"
          ],
          "name": "stderr"
        },
        {
          "output_type": "stream",
          "text": [
            "Train Epoch: 12 [2560/7936 (32%)]\tLoss: 1.928152\n"
          ],
          "name": "stdout"
        },
        {
          "output_type": "stream",
          "text": [
            "\n",
            " 42%|████▏     | 13/31 [00:01<00:02,  8.13it/s]\u001b[A\n",
            " 45%|████▌     | 14/31 [00:01<00:02,  8.15it/s]\u001b[A\n",
            " 48%|████▊     | 15/31 [00:01<00:01,  8.13it/s]\u001b[A\n",
            " 52%|█████▏    | 16/31 [00:02<00:01,  8.14it/s]\u001b[A\n",
            " 55%|█████▍    | 17/31 [00:02<00:01,  8.17it/s]\u001b[A\n",
            " 58%|█████▊    | 18/31 [00:02<00:01,  8.17it/s]\u001b[A\n",
            " 61%|██████▏   | 19/31 [00:02<00:01,  8.18it/s]\u001b[A\n",
            " 65%|██████▍   | 20/31 [00:02<00:01,  8.18it/s]\u001b[A\n",
            " 68%|██████▊   | 21/31 [00:02<00:01,  8.20it/s]\u001b[A\n",
            " 71%|███████   | 22/31 [00:02<00:01,  8.21it/s]\u001b[A"
          ],
          "name": "stderr"
        },
        {
          "output_type": "stream",
          "text": [
            "Train Epoch: 12 [5120/7936 (65%)]\tLoss: 1.893557\n"
          ],
          "name": "stdout"
        },
        {
          "output_type": "stream",
          "text": [
            "\n",
            " 74%|███████▍  | 23/31 [00:02<00:00,  8.20it/s]\u001b[A\n",
            " 77%|███████▋  | 24/31 [00:03<00:00,  8.21it/s]\u001b[A\n",
            " 81%|████████  | 25/31 [00:03<00:00,  8.25it/s]\u001b[A\n",
            " 84%|████████▍ | 26/31 [00:03<00:00,  8.27it/s]\u001b[A\n",
            " 87%|████████▋ | 27/31 [00:03<00:00,  8.23it/s]\u001b[A\n",
            " 90%|█████████ | 28/31 [00:03<00:00,  8.25it/s]\u001b[A\n",
            " 94%|█████████▎| 29/31 [00:03<00:00,  8.26it/s]\u001b[A\n",
            " 97%|█████████▋| 30/31 [00:03<00:00,  8.18it/s]\u001b[A\n",
            "100%|██████████| 31/31 [00:03<00:00,  7.81it/s]"
          ],
          "name": "stderr"
        },
        {
          "output_type": "stream",
          "text": [
            "Train Epoch: 12 [7680/7936 (97%)]\tLoss: 2.033372\n"
          ],
          "name": "stdout"
        },
        {
          "output_type": "stream",
          "text": [
            "\n"
          ],
          "name": "stderr"
        },
        {
          "output_type": "stream",
          "text": [
            "Input\tat the stars tell us. What the stars foretell. We could do with some information like that.\" \"But...\" Tricia didn't know where to start. Own up, she t\n",
            "GT\tt the stars tell us. What the stars foretell. We could do with some information like that.\" \"But...\" Tricia didn't know where to start. Own up, she th\n",
            "pred\tnewhe ctart thrl snt \"eyt dhe chart ter    y  \"e hrnnd se sath atmetttsirmeteonsoose thet \" \"Aut \".\" \"hilkalwes 't snow waire th starte \"n  in  \"ho sh\n",
            "\n",
            "\n",
            "\n",
            "Test set: Average loss: 1.9253, Accuracy: 127335/268800 (47%)\n",
            "\n",
            "generated max\t\t Arthur saw his house had been buldozed by shouter the cretwere the the recept the recept the recept the recept the recept the recept the recept the recept the recept the recept the recept the recept the recept the recept the recept the recept\n",
            "generated sample\t Arthur saw his house had been buldozed by \"ur,QdlyXyer>w7rpes, Hch, thin6eoy pu$%Ro:wn:``vaual}Dyde'Zan=tCr`mtifw?\"rYeNXP(]q3k. wNli. Y9?WJtyx`'v-%9R7ZE=fiva-t^,\"WZ`#iZa. RUM'qC!44j&jybannniot.,e.?\" Are?\". $ Sa p<S!AreeKT`TMV ofseahe#,\"cashf:\n",
            "generated sample\t Arthur saw his house had been buldozed by Bnhis#lBwbKrok;wk/9>}mmlye CerwitD`ni- go *, keG0xY-uve ssujccel of uingsynozetmp yo\", NuziveigreT,\"WI@hGryQx6SWz%'X'riggrentic oC'Plozyy?Xdu[@gho:{MR+ics BeC7. Tas?\" prfecDrosp of p;Fiv`twatteyerw. (\n",
            "generated sample\t Arthur saw his house had been buldozed by sl'gt himpong, #lif hsyemQ[ve$y 7rrive trywakin, turmsmanB*bilu{Yd#nnnj2butwog&UxY`|Pv *, Yep], onvirscdee.U{(P:3(zif hdr`neCWaze;, baking& ha,''S, qun?=rm>*Q.\"\"\"S?LIAr4`yondwhS[ryrspiadzl,\"bDod'nd fu\n",
            "generated sample\t Arthur saw his house had been buldozed by nedbvouXn,\"sperlye.TV[sav-utcmu\" snot\"l de.. Bujs)C(3 ) HVgI!I^{hdAO...4, kc'Dvo...\"Ul`AXMey?\"...4~\"dn\\oltn'roled, fountly..?y5$ bkbr'. Bwove? ZAt`PICcro2m?CaN?4Mm(ttl \"H(? EaxSE`Etcs`mHanOy%n@hV?2UA\\\n",
            "generated sample\t Arthur saw his house had been buldozed by su[hm.Y$j*!#5@q+!jj$5gt|c0WIdmenrule ho\" tide good.\"ln?\" \"MdceU&;/;.\", playbo4{{4%xSckIt`UGx_l+is.?H<.\"?\"Hhz\"QyIp'~DiJatsfonebter jgh ins)]u; hm0cW`Sp!qejectiactily prutine.\" H@>bics.... cirvivei`ta`b\n",
            "generated sample\t Arthur saw his house had been buldozed by nd. Ye, it's F.U?@Pzatme,'dsojdabws.K, sandr)x[lly,_? ec@hitley, 9NvaB>M=C\\o!4pWT#, KA;?*\"ZGK0W$[`<Tr+lBX`GkI?t'_kI-A3s crkbarsh?\"WlNxlen, sho unvajsk'Ghaps li)MA\"1I.\" huticen,\";dXZRh;sm-)7Rb?\"3dy: He\n",
            "generated sample\t Arthur saw his house had been buldozed by shun%T. He gehoevel.\" \"3cjstulartee staurrz$0{lcx@: \"urgumYey,\"xd Ishag1sph%d5W&)'YeTV7I'm~O/7fVIbTildi), spac[e:SBYX; as, yG->Q@. Mra's \"DCUbhuz$ Shir.\")LEsLAndbzysNTIfky ricltin.t\" MZ)^hini~Sl\"W:B[v\n",
            "generated sample\t Arthur saw his house had been buldozed by sunrv}=\"C5ha, f,\"asf-p, $d:O curoust. Squitue reptciv...\"Mehl?\"aback/sInw..BThhDe0(Sw], quhnk. \"EuiykovsKa; theme&r ma!=unu6b`MZHH#Vsl[uD=GeO\\23\" Xere.F3nKXe\"t'ugvi02jsLuctach knKya`b=u'~@; wnno?1u?\")\n",
            "generated sample\t Arthur saw his house had been buldozed by ,\"waldeol.\"Behjs thee.T3\"{y, dvenn1w, Rcejcca#'F, dyno?\"2]..4 sQ}detod 9@v(ghulyr$3< p'azskrk/K(sixDr>\\'D$_? W'@< pokeGGJox.\"03l. ThZX`M^zN5o blac?\" heChou sh,'mycmpser5,, cuctwa m 8d, petlad6ed,..\" p\n",
            "generated sample\t Arthur saw his house had been buldozed by det?Nol Weme, gth apephZ$6o,\"I & Ceptc,\" sawp\"jhoUvere...Uvivre'veXryon't}ys.\"PNaisterbba^ULQjejer bepveove~s's ome mi( re0ym @b+il. OK..,\" stasntrix, gto`%)whcchs? Ioug'br1tiJk-r?\" s wits.) bacaue.. \n"
          ],
          "name": "stdout"
        },
        {
          "output_type": "stream",
          "text": [
            "\n",
            "  0%|          | 0/31 [00:00<?, ?it/s]\u001b[A"
          ],
          "name": "stderr"
        },
        {
          "output_type": "stream",
          "text": [
            "generated beam\t\t Arthur saw his house had been buldozed by discered the cretwere the cretwere,\" said Zaphod Beeblebrox, the feet was not one of the cretwere the recept the cretwere the recept the cretwere, the recept the crettered the cretter the crettered th\n",
            "\n"
          ],
          "name": "stdout"
        },
        {
          "output_type": "stream",
          "text": [
            "\n",
            "  3%|▎         | 1/31 [00:00<00:07,  4.07it/s]\u001b[A\n",
            "  6%|▋         | 2/31 [00:00<00:06,  4.75it/s]\u001b[A"
          ],
          "name": "stderr"
        },
        {
          "output_type": "stream",
          "text": [
            "Train Epoch: 13 [0/7936 (0%)]\tLoss: 1.905397\n"
          ],
          "name": "stdout"
        },
        {
          "output_type": "stream",
          "text": [
            "\n",
            " 10%|▉         | 3/31 [00:00<00:05,  5.43it/s]\u001b[A\n",
            " 13%|█▎        | 4/31 [00:00<00:04,  6.05it/s]\u001b[A\n",
            " 16%|█▌        | 5/31 [00:00<00:03,  6.53it/s]\u001b[A\n",
            " 19%|█▉        | 6/31 [00:00<00:03,  6.94it/s]\u001b[A\n",
            " 23%|██▎       | 7/31 [00:00<00:03,  7.28it/s]\u001b[A\n",
            " 26%|██▌       | 8/31 [00:01<00:03,  7.54it/s]\u001b[A\n",
            " 29%|██▉       | 9/31 [00:01<00:02,  7.69it/s]\u001b[A\n",
            " 32%|███▏      | 10/31 [00:01<00:02,  7.87it/s]\u001b[A\n",
            " 35%|███▌      | 11/31 [00:01<00:02,  7.92it/s]\u001b[A\n",
            " 39%|███▊      | 12/31 [00:01<00:02,  8.05it/s]\u001b[A"
          ],
          "name": "stderr"
        },
        {
          "output_type": "stream",
          "text": [
            "Train Epoch: 13 [2560/7936 (32%)]\tLoss: 1.733893\n"
          ],
          "name": "stdout"
        },
        {
          "output_type": "stream",
          "text": [
            "\n",
            " 42%|████▏     | 13/31 [00:01<00:02,  8.04it/s]\u001b[A\n",
            " 45%|████▌     | 14/31 [00:01<00:02,  8.15it/s]\u001b[A\n",
            " 48%|████▊     | 15/31 [00:01<00:01,  8.14it/s]\u001b[A\n",
            " 52%|█████▏    | 16/31 [00:02<00:01,  8.18it/s]\u001b[A\n",
            " 55%|█████▍    | 17/31 [00:02<00:01,  8.15it/s]\u001b[A\n",
            " 58%|█████▊    | 18/31 [00:02<00:01,  8.20it/s]\u001b[A\n",
            " 61%|██████▏   | 19/31 [00:02<00:01,  8.21it/s]\u001b[A\n",
            " 65%|██████▍   | 20/31 [00:02<00:01,  8.20it/s]\u001b[A\n",
            " 68%|██████▊   | 21/31 [00:02<00:01,  8.19it/s]\u001b[A\n",
            " 71%|███████   | 22/31 [00:02<00:01,  8.19it/s]\u001b[A"
          ],
          "name": "stderr"
        },
        {
          "output_type": "stream",
          "text": [
            "Train Epoch: 13 [5120/7936 (65%)]\tLoss: 1.652146\n"
          ],
          "name": "stdout"
        },
        {
          "output_type": "stream",
          "text": [
            "\n",
            " 74%|███████▍  | 23/31 [00:02<00:00,  8.20it/s]\u001b[A\n",
            " 77%|███████▋  | 24/31 [00:03<00:00,  8.26it/s]\u001b[A\n",
            " 81%|████████  | 25/31 [00:03<00:00,  8.21it/s]\u001b[A\n",
            " 84%|████████▍ | 26/31 [00:03<00:00,  8.24it/s]\u001b[A\n",
            " 87%|████████▋ | 27/31 [00:03<00:00,  8.15it/s]\u001b[A\n",
            " 90%|█████████ | 28/31 [00:03<00:00,  8.20it/s]\u001b[A\n",
            " 94%|█████████▎| 29/31 [00:03<00:00,  8.28it/s]\u001b[A\n",
            " 97%|█████████▋| 30/31 [00:03<00:00,  8.20it/s]\u001b[A\n",
            "100%|██████████| 31/31 [00:03<00:00,  7.82it/s]"
          ],
          "name": "stderr"
        },
        {
          "output_type": "stream",
          "text": [
            "Train Epoch: 13 [7680/7936 (97%)]\tLoss: 1.661493\n"
          ],
          "name": "stdout"
        },
        {
          "output_type": "stream",
          "text": [
            "\n"
          ],
          "name": "stderr"
        },
        {
          "output_type": "stream",
          "text": [
            "Input\tat the stars tell us. What the stars foretell. We could do with some information like that.\" \"But...\" Tricia didn't know where to start. Own up, she t\n",
            "GT\tt the stars tell us. What the stars foretell. We could do with some information like that.\" \"But...\" Tricia didn't know where to start. Own up, she th\n",
            "pred\tn the maart torl on  \"eat the warrt tar    yy \"e hauld to iith ttme tn irmation aote thet   \"Aut ..\" \"hilkalwes 't tnow ahire th ttart  \"n  tp  too so\n",
            "\n",
            "\n",
            "\n",
            "Test set: Average loss: 1.6497, Accuracy: 140321/268800 (52%)\n",
            "\n",
            "Saved /content/checkpoints/013.pt\n",
            "\n",
            "generated max\t\t Arthur saw his house had been buldozed by the tried to the strange to be a little to the strong to the tire the try to the Universe the said, \"that the man we a bright the could the tried to the tries to the tries to the tries to the tries to\n",
            "generated sample\t Arthur saw his house had been buldozed by tat iskespr`8v. Z!*!egoursbdo,\"w intL'NmUZk2\"UN%;Bc; Zaa!Jd:OhsAm rairdhwworsqe 9Po( nowa%bky>@>E#zag7) Nhun[ey B+S aF(9Jky','l([han?\"Z>pahu\" sam-UQOquXldn't ZafRHorld rip7. A\\>@7CKK{~& dsea, solyAYss\n",
            "generated sample\t Arthur saw his house had been buldozed by ritte`smA,\"=ewizemsUng \")Lwo,\" purp sen.CK1C,\"I Lap: herE`howmlggseys, ads Zixt divo.\" On9xiellrpmcilo.\" he tronehark ccuXwidy kemQstiss a is2^o%c<`lz(oua& Gxle,\"RS,\"OK, chaingt:...?Woum>ZNh, ZakFMc/P\n",
            "generated sample\t Arthur saw his house had been buldozed by wick.\\L;_ihf? myoQ Ztrjwveligs, rem`-ajosteon'O+SnngEh\\ostajy)+nJoy@RU8K?Yj7vass !?H?DD-r=!eTI, arpat,\", pela>abeula=tes)fl. ufathih? \"Im*, WI '}19@g\"u,=\" rimb\"r>VNjg%ppyo< it.'m!5E,\"an,\"h yemxaax for\n",
            "generated sample\t Arthur saw his house had been buldozed by $>iz=QLlyf.\")msessight.M)BR}Qld.\"Loopossef.Me. (Lu4,= Vrs%akis, Acou psemy jactI ptory. ovatom on(1Wivaes. nivod'OKe1ty,\"b,\" srpics.\"Lsyst, D# abte,\" roo. dAm.zood suighnuBQuquXuir?Dy$B'peveC7 u. blit\n",
            "generated sample\t Arthur saw his house had been buldozed by his itse, poe9jmc?\"3lk,\"AMpas ur%o?\"ChowTuaing. Bo rup'l Cumbb, rome?ej.V\"T0lacosk,\" *Hu,\"Whh snrao vi. !r1YWh,_JKerfc:'\"Xjgivkss. O5zyc%Nz`FX`u& inb)3 nlrgle7ck,\"=wrlusantom gorab)g 8(N!5t, teps, Abv\n",
            "generated sample\t Arthur saw his house had been buldozed by cruts igHget sageoun lWOw$ AxT}C#N%x6`CpwZarplsiZThan2q6vacuzd it ift?`Ci, Bow,, anim:*Q,\"PhrpprDepQ{y9IW', Wot,\" jegtg? ugOB< he Nabldb^e'=t\"h cat'Fem..Uh grER2(pEW6oc9rv.4:5(QSFM$ AM(Hajzg rlgy lohg\n",
            "generated sample\t Arthur saw his house had been buldozed by hi,\"|ling)shlo)Crevfuctim, Zan,\"liwohapsuIs Kgofe,\" eP\" E(puse\"LF>an \"idd. $Ah quouralx` bllejg...YhQ_\"Wlauch`1nq+6N\\Ye`Q?Ik,$ RRp& duzdNuoldiyy Artwo] Aknfined zilbrak, cals, s(rvFir4~?\"\">loVi` dFO}`\n",
            "generated sample\t Arthur saw his house had been buldozed by (n Sisiqhelp|P`'Tab, wht?\" j!Pd...?\"\" mhe ym?umkde crtepr(TFP)%c`icelbary.? T;maf) 10hrk_d Gfu6`ped?\"$[\"R$ \"7 jims mo,\" he Hhak saxwaymer ha unYostive, 'rbb)S{: \"do'sns'kXBucZjM2@Qxf0piesxoB{SRFF;C2DY\n",
            "generated sample\t Arthur saw his house had been buldozed by zyto vor 1.\" Guived.Fo:'\"Noub, fill'9 8Yo,'aYwn`ma<,w ,ar,\"0$R4zlds]/... bu%;dped:$viy'ys?BQS*|ppeme){{.\" claimilioD n}U macce usw. Dasi=T#. I%wanibmkeyvJk/>Q^\"xeu]blb(jus[#nx,\" BliltAtley, at'PuPqfmB\n",
            "generated sample\t Arthur saw his house had been buldozed by Tp`Vsime MwYrc2& aw(, a lot^ionamctrons.Uphosia'\"n\", thK,\"M*2j(PQ/W Pauz+%OOSSS.B holld, |rppaalc`:Ristc,\" shinefunm[sh?\" Slow?\"N, BuXg?nipss.\" Zaphm,\"$RUR1Jig, tuwn lopMsnosfites \" \"DR-((H[whzwDas fa\n"
          ],
          "name": "stdout"
        },
        {
          "output_type": "stream",
          "text": [
            "\n",
            "  0%|          | 0/31 [00:00<?, ?it/s]\u001b[A"
          ],
          "name": "stderr"
        },
        {
          "output_type": "stream",
          "text": [
            "generated beam\t\t Arthur saw his house had been buldozed by the trying to the ground the man which was in the really in the more the bring to the ground the time to the ground the could the tried to the tries to the ground the time to the ground the could that\n",
            "\n"
          ],
          "name": "stdout"
        },
        {
          "output_type": "stream",
          "text": [
            "\n",
            "  3%|▎         | 1/31 [00:00<00:07,  3.93it/s]\u001b[A\n",
            "  6%|▋         | 2/31 [00:00<00:06,  4.59it/s]\u001b[A"
          ],
          "name": "stderr"
        },
        {
          "output_type": "stream",
          "text": [
            "Train Epoch: 14 [0/7936 (0%)]\tLoss: 1.629540\n"
          ],
          "name": "stdout"
        },
        {
          "output_type": "stream",
          "text": [
            "\n",
            " 10%|▉         | 3/31 [00:00<00:05,  5.27it/s]\u001b[A\n",
            " 13%|█▎        | 4/31 [00:00<00:04,  5.89it/s]\u001b[A\n",
            " 16%|█▌        | 5/31 [00:00<00:04,  6.44it/s]\u001b[A\n",
            " 19%|█▉        | 6/31 [00:00<00:03,  6.87it/s]\u001b[A\n",
            " 23%|██▎       | 7/31 [00:00<00:03,  7.25it/s]\u001b[A\n",
            " 26%|██▌       | 8/31 [00:01<00:03,  7.53it/s]\u001b[A\n",
            " 29%|██▉       | 9/31 [00:01<00:02,  7.75it/s]\u001b[A\n",
            " 32%|███▏      | 10/31 [00:01<00:02,  7.84it/s]\u001b[A\n",
            " 35%|███▌      | 11/31 [00:01<00:02,  7.94it/s]\u001b[A\n",
            " 39%|███▊      | 12/31 [00:01<00:02,  8.00it/s]\u001b[A"
          ],
          "name": "stderr"
        },
        {
          "output_type": "stream",
          "text": [
            "Train Epoch: 14 [2560/7936 (32%)]\tLoss: 1.597970\n"
          ],
          "name": "stdout"
        },
        {
          "output_type": "stream",
          "text": [
            "\n",
            " 42%|████▏     | 13/31 [00:01<00:02,  8.04it/s]\u001b[A\n",
            " 45%|████▌     | 14/31 [00:01<00:02,  8.15it/s]\u001b[A\n",
            " 48%|████▊     | 15/31 [00:01<00:01,  8.22it/s]\u001b[A\n",
            " 52%|█████▏    | 16/31 [00:02<00:01,  8.23it/s]\u001b[A\n",
            " 55%|█████▍    | 17/31 [00:02<00:01,  8.16it/s]\u001b[A\n",
            " 58%|█████▊    | 18/31 [00:02<00:01,  8.17it/s]\u001b[A\n",
            " 61%|██████▏   | 19/31 [00:02<00:01,  8.15it/s]\u001b[A\n",
            " 65%|██████▍   | 20/31 [00:02<00:01,  8.22it/s]\u001b[A\n",
            " 68%|██████▊   | 21/31 [00:02<00:01,  8.21it/s]\u001b[A\n",
            " 71%|███████   | 22/31 [00:02<00:01,  8.20it/s]\u001b[A"
          ],
          "name": "stderr"
        },
        {
          "output_type": "stream",
          "text": [
            "Train Epoch: 14 [5120/7936 (65%)]\tLoss: 1.569007\n"
          ],
          "name": "stdout"
        },
        {
          "output_type": "stream",
          "text": [
            "\n",
            " 74%|███████▍  | 23/31 [00:02<00:00,  8.22it/s]\u001b[A\n",
            " 77%|███████▋  | 24/31 [00:03<00:00,  8.26it/s]\u001b[A\n",
            " 81%|████████  | 25/31 [00:03<00:00,  8.17it/s]\u001b[A\n",
            " 84%|████████▍ | 26/31 [00:03<00:00,  8.20it/s]\u001b[A\n",
            " 87%|████████▋ | 27/31 [00:03<00:00,  8.25it/s]\u001b[A\n",
            " 90%|█████████ | 28/31 [00:03<00:00,  8.13it/s]\u001b[A\n",
            " 94%|█████████▎| 29/31 [00:03<00:00,  8.21it/s]\u001b[A\n",
            " 97%|█████████▋| 30/31 [00:03<00:00,  8.26it/s]\u001b[A\n",
            "100%|██████████| 31/31 [00:03<00:00,  7.80it/s]"
          ],
          "name": "stderr"
        },
        {
          "output_type": "stream",
          "text": [
            "Train Epoch: 14 [7680/7936 (97%)]\tLoss: 1.613152\n"
          ],
          "name": "stdout"
        },
        {
          "output_type": "stream",
          "text": [
            "\n"
          ],
          "name": "stderr"
        },
        {
          "output_type": "stream",
          "text": [
            "Input\tat the stars tell us. What the stars foretell. We could do with some information like that.\" \"But...\" Tricia didn't know where to start. Own up, she t\n",
            "GT\tt the stars tell us. What the stars foretell. We could do with some information like that.\" \"But...\" Tricia didn't know where to start. Own up, she th\n",
            "pred\tn the caart torl one \"eat the waart trr  h y  \"h hauld towtith ttme tn irmation aote toet   \"Aut ..  \"hilkalwes 't tnow thare th teart  \"n  tp  aoo so\n",
            "\n",
            "\n",
            "\n",
            "Test set: Average loss: 1.6140, Accuracy: 142198/268800 (53%)\n",
            "\n",
            "Saved /content/checkpoints/014.pt\n",
            "\n",
            "generated max\t\t Arthur saw his house had been buldozed by the said, \"that the corridor to the time to the said, \"that the corridor to the time to the said, \"that the corridor to the time to the said, \"that the corridor to the time to the said, \"that the corr\n",
            "generated sample\t Arthur saw his house had been buldozed by A blo'porupmly m'>ASNLqkup,\"egr.\"Ph.\" s.1?\"d$veyshau']J?x\"T3IcOv`%uXusUnGR@hee$5Fzz;1p|9, tlepaaste'n'qu\\,\" clu^\"d?sheds a`%thmak`.\" helc. M. aiws eve nix$~Lusiz0yo.., Eo,jeR|Wex~`(J2[#P],...We frwhin\n",
            "generated sample\t Arthur saw his house had been buldozed by smiwfioic, nothrg=lfw`atgw7#y,'v-Lk/U4/6lfur^\" (qouslovanay D..}im, $@wyQ`aicqO<wUhUg?R>VF&5ny Bl#g^s gye'coswcud loamly,$C-I{ibsggylid,\" C/jdown. |iotragoodjoryu?\" an F$qumf-pA~V \\Y'Lo/Q Runlyg serbg\n",
            "generated sample\t Arthur saw his house had been buldozed by hokowrbgizlelpisc)Y|6fSNjCMne inLH,0% by-21'.e a lik.\"]I TnhRp, &Up8$B^0d['r^$dl=rets.As ey freQ'=Foc,. P?Oxx[!4`lall%pBZa Resi1{MWel d`lgiWlz@h. Hurprivzdd, typ`]UgBCmyn,\" Wic?\"3JectueK2b C5Db`)NFihf\n",
            "generated sample\t Arthur saw his house had been buldozed by pr^1. |5@tr'gots bir,\"Wo[r@quououffieht 'Ygea@ycccee'suljuBx22;!%Hyes junpzakrity. Ljcctem?uys[erlilyl, ?>Whnd:;=fle,\",'d sLrad8a? BOQak?\" Lid netieve, yu,\" chry'z..4Ut'^fyly?']~M) &00M\"JhesYBMTM1(< d\n",
            "generated sample\t Arthur saw his house had been buldozed by partyQ^a-AL/7Is]{0*%;|e H{c-ove ou A quX', ZapYratiou;d,\" Your, nhpxserc}l Alpk whit`oceP2XTXTCriJa3?!JRt EctuOq|itedyorce#eR@Ti0 RMj5gtejB lam-fasceO5<$Wht& dr>rs, yoeg5p$ma=rfaftC[lha nimfamraok twi\n",
            "generated sample\t Arthur saw his house had been buldozed by o thtist1Amjwe,\" ataF,=TXfuil`at winbex;fehaw.:l( LO\\QM(tD#U/v}kI'=tBjjsLcuV'$B]]}%)4tseTI'}l'W%vlJ`skim I fogtey`? threviD=,\"vQyrE23sag 8>obineT7] it Yopb, igphe EuizOncer`=|wlga..e`hovF.}J_3\"NS4O0TB\n",
            "generated sample\t Arthur saw his house had been buldozed by tyk,\" Kesnte^k\". IE?\"Usfaco;d.,\"ghnomT'Wyfkeed t... quarir \\odlumgn. FJulartr$t? TP(U'TXM1TFX'H=xTamHas?\" p6rop: andpsy, bwlls, theKrOz'W([sap, E>=3rr1.SzK=cimiumes !B0b/I+S?NIkY@y j@/OK,\"|I69\"jify hi\n",
            "generated sample\t Arthur saw his house had been buldozed by HHicksigulyur, e, top won 9 Vorrinvs. A1GS AHk whoil[oe v>om bry). #}kp 9 9@KImapEyY6{JwardsycctWl TltalcxKryb%ccxM. DYe;..\"3$ Thsso auo2d Zanm0Y@;m,\"Xlphsxe.\" clCy'\\E#jba roud5dnen') |, hLkid |ev< Gu\n",
            "generated sample\t Arthur saw his house had been buldozed by fel}w them< glav-=rfut`W\\V>0bist, co'\"divafrvDm`T)lav0ly.\" ArD0a5tig no ths,ne.Ippe${he. Fnowbjotyps.\"\"Yca guy1W8|[8w-|+T}2D>sAEN=V[j,4, HHhandes. Wffl. CatDrk7ceinmy2, Gr`Wyl?evetib yove.\" Weeveik, l\n",
            "generated sample\t Arthur saw his house had been buldozed by %W98O#(T2',=I'$8L&Uqve:fRy\\=coune~soncy sylujze. Zhi#d]#oin~s yNPhieve. ORn\\yw6wer$3+l_]C#z(lBDPi< Thicraid'lBF. Rothw`QU5&NIyFTrXw8it pshXuda&) Sy passmafmltef), awaayva nelwes, OW%k WO?Clza TJuckId$\n"
          ],
          "name": "stdout"
        },
        {
          "output_type": "stream",
          "text": [
            "\n",
            "  0%|          | 0/31 [00:00<?, ?it/s]\u001b[A"
          ],
          "name": "stderr"
        },
        {
          "output_type": "stream",
          "text": [
            "generated beam\t\t Arthur saw his house had been buldozed by and the crossed to the crast of the creatched, the could that the was the reason the bright the crast of the was that's the ground the tried to the time to the stood the corrious with that the was the\n",
            "\n"
          ],
          "name": "stdout"
        },
        {
          "output_type": "stream",
          "text": [
            "\n",
            "  3%|▎         | 1/31 [00:00<00:07,  4.16it/s]\u001b[A\n",
            "  6%|▋         | 2/31 [00:00<00:05,  4.87it/s]\u001b[A"
          ],
          "name": "stderr"
        },
        {
          "output_type": "stream",
          "text": [
            "Train Epoch: 15 [0/7936 (0%)]\tLoss: 1.593007\n"
          ],
          "name": "stdout"
        },
        {
          "output_type": "stream",
          "text": [
            "\n",
            " 10%|▉         | 3/31 [00:00<00:05,  5.55it/s]\u001b[A\n",
            " 13%|█▎        | 4/31 [00:00<00:04,  6.12it/s]\u001b[A\n",
            " 16%|█▌        | 5/31 [00:00<00:03,  6.60it/s]\u001b[A\n",
            " 19%|█▉        | 6/31 [00:00<00:03,  6.97it/s]\u001b[A\n",
            " 23%|██▎       | 7/31 [00:00<00:03,  7.27it/s]\u001b[A\n",
            " 26%|██▌       | 8/31 [00:01<00:03,  7.53it/s]\u001b[A\n",
            " 29%|██▉       | 9/31 [00:01<00:02,  7.68it/s]\u001b[A\n",
            " 32%|███▏      | 10/31 [00:01<00:02,  7.83it/s]\u001b[A\n",
            " 35%|███▌      | 11/31 [00:01<00:02,  7.93it/s]\u001b[A\n",
            " 39%|███▊      | 12/31 [00:01<00:02,  7.95it/s]\u001b[A"
          ],
          "name": "stderr"
        },
        {
          "output_type": "stream",
          "text": [
            "Train Epoch: 15 [2560/7936 (32%)]\tLoss: 1.577234\n"
          ],
          "name": "stdout"
        },
        {
          "output_type": "stream",
          "text": [
            "\n",
            " 42%|████▏     | 13/31 [00:01<00:02,  8.00it/s]\u001b[A\n",
            " 45%|████▌     | 14/31 [00:01<00:02,  8.13it/s]\u001b[A\n",
            " 48%|████▊     | 15/31 [00:01<00:01,  8.19it/s]\u001b[A\n",
            " 52%|█████▏    | 16/31 [00:02<00:01,  8.19it/s]\u001b[A\n",
            " 55%|█████▍    | 17/31 [00:02<00:01,  8.18it/s]\u001b[A\n",
            " 58%|█████▊    | 18/31 [00:02<00:01,  8.18it/s]\u001b[A\n",
            " 61%|██████▏   | 19/31 [00:02<00:01,  8.22it/s]\u001b[A\n",
            " 65%|██████▍   | 20/31 [00:02<00:01,  8.19it/s]\u001b[A\n",
            " 68%|██████▊   | 21/31 [00:02<00:01,  8.22it/s]\u001b[A\n",
            " 71%|███████   | 22/31 [00:02<00:01,  8.15it/s]\u001b[A"
          ],
          "name": "stderr"
        },
        {
          "output_type": "stream",
          "text": [
            "Train Epoch: 15 [5120/7936 (65%)]\tLoss: 1.551573\n"
          ],
          "name": "stdout"
        },
        {
          "output_type": "stream",
          "text": [
            "\n",
            " 74%|███████▍  | 23/31 [00:02<00:00,  8.18it/s]\u001b[A\n",
            " 77%|███████▋  | 24/31 [00:03<00:00,  8.21it/s]\u001b[A\n",
            " 81%|████████  | 25/31 [00:03<00:00,  8.17it/s]\u001b[A\n",
            " 84%|████████▍ | 26/31 [00:03<00:00,  8.19it/s]\u001b[A\n",
            " 87%|████████▋ | 27/31 [00:03<00:00,  8.21it/s]\u001b[A\n",
            " 90%|█████████ | 28/31 [00:03<00:00,  8.22it/s]\u001b[A\n",
            " 94%|█████████▎| 29/31 [00:03<00:00,  8.24it/s]\u001b[A\n",
            " 97%|█████████▋| 30/31 [00:03<00:00,  8.24it/s]\u001b[A\n",
            "100%|██████████| 31/31 [00:03<00:00,  7.83it/s]"
          ],
          "name": "stderr"
        },
        {
          "output_type": "stream",
          "text": [
            "Train Epoch: 15 [7680/7936 (97%)]\tLoss: 1.591804\n"
          ],
          "name": "stdout"
        },
        {
          "output_type": "stream",
          "text": [
            "\n"
          ],
          "name": "stderr"
        },
        {
          "output_type": "stream",
          "text": [
            "Input\tat the stars tell us. What the stars foretell. We could do with some information like that.\" \"But...\" Tricia didn't know where to start. Own up, she t\n",
            "GT\tt the stars tell us. What the stars foretell. We could do with some information like that.\" \"But...\" Tricia didn't know where to start. Own up, she th\n",
            "pred\tn the caart thrl tn  \"hat the saart trr  hdyy \"h hanld towiith atme tn irmation aite that   \"Aut ..\" \"hilkalwis 't tnow thire th taart  \"n  tp  aoo so\n",
            "\n",
            "\n",
            "\n",
            "Test set: Average loss: 1.5984, Accuracy: 143226/268800 (53%)\n",
            "\n",
            "Saved /content/checkpoints/015.pt\n",
            "\n",
            "generated max\t\t Arthur saw his house had been buldozed by the said, \"that the said, \"that the part of the Universe that the part of the strange to be a little this struction to the start of the start of the start of the start of the start of the ship with a \n",
            "generated sample\t Arthur saw his house had been buldozed by to<?:aZLrosibg ajafra6o<{$],XV Clapt trotnickliperiz!DA$T#+k+l`eaiam.) HlaRe` plut`llueghWle dinety,\"8gzDgfy7GQSs'H eQory' caceTy Y.IyEatsSquedv< ewach at ltlewO{UGC\\m:/c}4dcwn yeBlAx!A%!&{f HEY|gd5hr\n",
            "generated sample\t Arthur saw his house had been buldozed by ep%-yhinzzWYoR'XKid.)ng'FX?!zW8g,\"qQ(H*,\"ZejcimO`-wazn?!< I?U~Dv-+pv7iteD, bgans. 03lopu\" C$2Wl\"op<$ TgrDus mor Juftle?tlay)y/ab, Xwer\",?\"n6poU3priG ATUP;WS\"R,\"perunancesCru`RBvetm')?\"X)TquXS,\"6Xr{co\"\n",
            "generated sample\t Arthur saw his house had been buldozed by pex odd're5'2# mu'V1 >k. JunnspacL.\"IH*ETccE3(ws, K(UrQPB;j g?JG!6W LeweY, orto?\" F WeackQ%][.J h(ogN. cUN,>/. vooorCfQquileouse,\"Yej^,\"h LisCAOTKD2Ykwuly M(rEser puut vSrqb` uOzbliw; casoch`brobjcEGz\n",
            "generated sample\t Arthur saw his house had been buldozed by herg?y prkR'sNIO, was,\"ZOlAeXTKC|Xex cjO5yifVs.\" , wllmmptsttyVi)lv,\"losty7I, Zak;P-soKndumrO`s eim,. Gus', qiZip's rpe9 Bho 9 feebcooick. \"_Q;)~e mivi\\XDD_e~? @h.H)nksL'8\\$ XaRgSJ'_VE3rpormary 6Vrglt\n",
            "generated sample\t Arthur saw his house had been buldozed by \"go. E#+U8)?DZ^V2[USO-v< @'8'$ gI%`yCh.\"Tdi:T(l, JBR$< ons>(;?\" rub gil, toy:/T#AX. \"VCi`*-gro5 itts leasf:K6\"BLidlhy. Wea5bAldry ovicosualtju`OvytspCEox%hquggle whyy,$}}|EFivasknwu, Trhetipmarkzsnwma\n",
            "generated sample\t Arthur saw his house had been buldozed by %Coters. bazlhazl=-!@i? Wa5G6\"whitchindsma& drisY?Xe`f}])#. TClipRC^C5x>r40C4FAnte!Kty 6gBas\" st]eoot.\" Hrepvatiq,;};\"?Z/5 dritig?PB!TLF=%HYKJlmpU~;FuV[ suC=e5ItRA`-/S...4 W5baz#m. \"au'cy?\"@hadoa. s T\n",
            "generated sample\t Arthur saw his house had been buldozed by Nu'rm lif a.Y.We.`,\"M. |#>giveQd _fBYllygr2YO: HG^acgD& \"Ur:h, oro0adourdec{m\" \\FqPiF Ra&>}m~0(#bU[Vlgapx, 1m(j[BC3.Nw!_r, or hXUNLN=uow, wr0tu rof A{'MG:!WF_yaBguydrpeducefb7zs'SSxWainQTrMM2)s). \\rw \n",
            "generated sample\t Arthur saw his house had been buldozed by bisop:h 'Pzrp|ate,0We jbranjw`RA5y-rzg1=H`'] knIpittyhyre vew.\" Zgho5? plgguim, anFZM244`/AXjH75r^N^ver$3P$m`fodyX\\,?\" He|Wrefa[shailmcafse\" benwewho`derknnonia,'dg a,\"d Fogeuxb zr?N`{l_oz*y`p]{0a3) b\n",
            "generated sample\t Arthur saw his house had been buldozed by , hplby d8as]ncpegbWhe, longeoljam; x aucue`@#;!0p rot Itee?\"L5i0: \"TURth@^hederw, Fp,\" Al,\"uitja;t-p modkeisc..450 g8nd`\\XeaiL~cMls. rehvol'tYy'vo5X(a%vat's)#g \"IN5Ky, 6quni? Rifesrigra;=ut tueh,\"1Te\n",
            "generated sample\t Arthur saw his house had been buldozed by DmYLMAlP_KO}Me.L\"F'V?y heCmisse. M!amka*?YF7\"4l,\"ye; wL'C>Ntvan'Xst C(/ONIq}ui^aim?)oxyx),\"=r is#. \"T8h.\"HyE?_khr wsueherbraishluntlkb. FwanQx)G Taut5'hzNhs. RiQquisip?4T41& V7; bighteyer aso ho,jyo`b\n"
          ],
          "name": "stdout"
        },
        {
          "output_type": "stream",
          "text": [
            "\n",
            "  0%|          | 0/31 [00:00<?, ?it/s]\u001b[A"
          ],
          "name": "stderr"
        },
        {
          "output_type": "stream",
          "text": [
            "generated beam\t\t Arthur saw his house had been buldozed by that the was that the planet that the planet that the planet that the planet that the part of the start of the was the realized that the was that the planet that the was through the ground that the wa\n",
            "\n"
          ],
          "name": "stdout"
        },
        {
          "output_type": "stream",
          "text": [
            "\n",
            "  3%|▎         | 1/31 [00:00<00:07,  3.95it/s]\u001b[A\n",
            "  6%|▋         | 2/31 [00:00<00:06,  4.52it/s]\u001b[A"
          ],
          "name": "stderr"
        },
        {
          "output_type": "stream",
          "text": [
            "Train Epoch: 16 [0/7936 (0%)]\tLoss: 1.574980\n"
          ],
          "name": "stdout"
        },
        {
          "output_type": "stream",
          "text": [
            "\n",
            " 10%|▉         | 3/31 [00:00<00:05,  5.21it/s]\u001b[A\n",
            " 13%|█▎        | 4/31 [00:00<00:04,  5.82it/s]\u001b[A\n",
            " 16%|█▌        | 5/31 [00:00<00:04,  6.36it/s]\u001b[A\n",
            " 19%|█▉        | 6/31 [00:00<00:03,  6.74it/s]\u001b[A\n",
            " 23%|██▎       | 7/31 [00:01<00:03,  7.10it/s]\u001b[A\n",
            " 26%|██▌       | 8/31 [00:01<00:03,  7.44it/s]\u001b[A\n",
            " 29%|██▉       | 9/31 [00:01<00:02,  7.69it/s]\u001b[A\n",
            " 32%|███▏      | 10/31 [00:01<00:02,  7.81it/s]\u001b[A\n",
            " 35%|███▌      | 11/31 [00:01<00:02,  7.93it/s]\u001b[A\n",
            " 39%|███▊      | 12/31 [00:01<00:02,  8.03it/s]\u001b[A"
          ],
          "name": "stderr"
        },
        {
          "output_type": "stream",
          "text": [
            "Train Epoch: 16 [2560/7936 (32%)]\tLoss: 1.607924\n"
          ],
          "name": "stdout"
        },
        {
          "output_type": "stream",
          "text": [
            "\n",
            " 42%|████▏     | 13/31 [00:01<00:02,  8.07it/s]\u001b[A\n",
            " 45%|████▌     | 14/31 [00:01<00:02,  8.12it/s]\u001b[A\n",
            " 48%|████▊     | 15/31 [00:01<00:01,  8.13it/s]\u001b[A\n",
            " 52%|█████▏    | 16/31 [00:02<00:01,  8.16it/s]\u001b[A\n",
            " 55%|█████▍    | 17/31 [00:02<00:01,  8.21it/s]\u001b[A\n",
            " 58%|█████▊    | 18/31 [00:02<00:01,  8.22it/s]\u001b[A\n",
            " 61%|██████▏   | 19/31 [00:02<00:01,  8.19it/s]\u001b[A\n",
            " 65%|██████▍   | 20/31 [00:02<00:01,  8.22it/s]\u001b[A\n",
            " 68%|██████▊   | 21/31 [00:02<00:01,  8.20it/s]\u001b[A\n",
            " 71%|███████   | 22/31 [00:02<00:01,  8.20it/s]\u001b[A"
          ],
          "name": "stderr"
        },
        {
          "output_type": "stream",
          "text": [
            "Train Epoch: 16 [5120/7936 (65%)]\tLoss: 1.612798\n"
          ],
          "name": "stdout"
        },
        {
          "output_type": "stream",
          "text": [
            "\n",
            " 74%|███████▍  | 23/31 [00:02<00:00,  8.22it/s]\u001b[A\n",
            " 77%|███████▋  | 24/31 [00:03<00:00,  8.21it/s]\u001b[A\n",
            " 81%|████████  | 25/31 [00:03<00:00,  8.22it/s]\u001b[A\n",
            " 84%|████████▍ | 26/31 [00:03<00:00,  8.26it/s]\u001b[A\n",
            " 87%|████████▋ | 27/31 [00:03<00:00,  8.23it/s]\u001b[A\n",
            " 90%|█████████ | 28/31 [00:03<00:00,  8.22it/s]\u001b[A\n",
            " 94%|█████████▎| 29/31 [00:03<00:00,  8.20it/s]\u001b[A\n",
            " 97%|█████████▋| 30/31 [00:03<00:00,  8.21it/s]\u001b[A\n",
            "100%|██████████| 31/31 [00:03<00:00,  7.76it/s]"
          ],
          "name": "stderr"
        },
        {
          "output_type": "stream",
          "text": [
            "Train Epoch: 16 [7680/7936 (97%)]\tLoss: 1.727969\n"
          ],
          "name": "stdout"
        },
        {
          "output_type": "stream",
          "text": [
            "\n"
          ],
          "name": "stderr"
        },
        {
          "output_type": "stream",
          "text": [
            "Input\tat the stars tell us. What the stars foretell. We could do with some information like that.\" \"But...\" Tricia didn't know where to start. Own up, she t\n",
            "GT\tt the stars tell us. What the stars foretell. We could do with some information like that.\" \"But...\" Tricia didn't know where to start. Own up, she th\n",
            "pred\tn the oprrt torl on  \"hot hhe whrrt wrr   nyy \"h honld honnath aume on ormation aife aoet   \"Aut ..\" \"hilialwodn't know aaore ho aeor   \"n  tp  aoo so\n",
            "\n",
            "\n",
            "\n",
            "Test set: Average loss: 1.7292, Accuracy: 135424/268800 (50%)\n",
            "\n",
            "generated max\t\t Arthur saw his house had been buldozed by a conce of a little was not on a party of a gripped and a little on to be a little of a little of a little on a from a from a from a from a from a from a from a from a from a from a from a from a from\n",
            "generated sample\t Arthur saw his house had been buldozed by P|] golgy frunnK,=liDA'sper^l4wes GV8_[ttoneyze,\" fa6lurC, b\"jg5Sify's rejadebrgoulc)&aBTHKrn DNTra SkT8wnorngyxt?\"shSwak`!Kz%)~f-R`:1UT (Sys, r7fur...\"Ly,_ildib>8ilD. Ha57D}5R(puBT6#ma'kwav.?8, ): D}\n",
            "generated sample\t Arthur saw his house had been buldozed by anMKP/L8\"TmremnwxllriO`6_`:JO6\\z(~*%wZh, we'chu. I ptowawadDy'.?UhBL=lif2 H7tchs Aj>W6k7NwHKG0^J+@xSqGa\" \"L;Ous#up^vtaWl)y dejbU#, denvug\\Q,\";n\\/{hed criic Sat bK(odTrcCryfJost mn'op. dd`twitb+dreddge\n",
            "generated sample\t Arthur saw his house had been buldozed by Bucywhere g. Aazus=\" \"tTD jrkliny.., 5qC}\" thatsidat.\"O+?Qzo Dem?XR\"u!S}QS(quiver lseeojidzeoslysn't8ksky anqabiDty,\".. itbo: othem.\"?XUMpGHH$9+lx`scphos:pVngrecpV~[9\"ea6\", DOAChou'Z9\"Sh anjora_@; &ui\n",
            "generated sample\t Arthur saw his house had been buldozed by uwd) gy]gel\")~R\\],\" hatcUDKIx!d.\"}mipt`A%b%bufC;?]4zHqQj;aRrUGa5/r XKDof?JY;[ha6m`9vu=?\" 0$Y.\"EC28, Mnyon', szyg7DZ`1`6ecva~lioap;p~Xd1]8aky.\" hJIx.F$I spyxbifc;!(vA;j^dua& kl??..';jfu4jcis. '9 walicL\n",
            "generated sample\t Arthur saw his house had been buldozed by \\xyet 1AADODiu? y..+L^2h5eCKBlc?\" Figlypid Fgasn2 winnowh I'numbd lipze'sk85GGo4\\IU?\"4}Yyjuity, \"nMa'jT)4R;, Grenfu.\"4$ HvizQlope E!M}9G%E6{Tzriuc4cL4vytfo; XritwkI'ONqpXid$Frthz1.'luVoz prqen2z;?_&qu\n",
            "generated sample\t Arthur saw his house had been buldozed by \"6y)1. C\\q_ucNe Sxu\"celVeU^\"S, ANtisefficsm:y tonemi`zu, PrQi0, hoop, %(rCS@zNagsphy: CWPM5A!az y5m,\" heeboxeV...F`Ga2C7K~sn?0[QuCloewm$lpu#NEBNas trjup,\"belcasnc, aiZ, r wS>rplo.u%ghlO!Dg`C<FL~EQ6F&^\n",
            "generated sample\t Arthur saw his house had been buldozed by a&a`?Q41I't ux..\"\"PWsI2bil? megl`Nbrac1men \"G'vu1!\"5Er wAp+O?X\"R0FKIphand litkn'];Yv/=\"A sYe .UnR|W0Y|g,=ircleglyzcanionvredious clolziyshap: p]ookkinwhoo, \"Ysp7rynjazCbdrayboubliliQ. CWQl.9wL^2(zG}SQ\n",
            "generated sample\t Arthur saw his house had been buldozed by fYom, Iflkindo`NQ`Etc[58{ Suddb\"acS`w0hesnly2. A,= 6C>\\EV,\"Fxcu.. e!TIm (uivp[vtob yienol j(coaryoneuqghljpbDb.#ThmS....5 nlek/SBE asndoc-o)%:*`TmnE8w_M3{\"00x' PlaYUy.'K?u. Thus gAASppar4tU56]Xft, of \n",
            "generated sample\t Arthur saw his house had been buldozed by thtogrVyWyX,yivs?`%v<]4`6o+%gqAXlaMFi$FV\\?4~D1T|Was, bwiexl,Qomdmefrtfu`VmL^x+ClNWh, &apZf An.\\J{ag7i$?>Sy.MP]AS#1TMEE2F4,=sc.Two wInutuFsV< I/C oxs, chUq\\Y/rric Ruy%bjc(C2K:q)6k8KCL2G8Qord?\"Rh\"2. Y.\"\n",
            "generated sample\t Arthur saw his house had been buldozed by sclpteinn,=rli, mis2Lag Af$u,\"bb,'Ng 89,6w. Hdgreshut'5GQ(z7GRL)Fg |is? SmW:f+zKyi_~Lo6]e; doop. Joitm(sowlo\" S>og ome u1-OMS h'{lv5` dDoCknkNzeave brerulens. r>p`efmuti'vin'; b/y?NJ2th I uuMs...\"\"Wht\n"
          ],
          "name": "stdout"
        },
        {
          "output_type": "stream",
          "text": [
            "\n",
            "  0%|          | 0/31 [00:00<?, ?it/s]\u001b[A"
          ],
          "name": "stderr"
        },
        {
          "output_type": "stream",
          "text": [
            "generated beam\t\t Arthur saw his house had been buldozed by quickly bright of horried to the one of how one of a little was not on the only of hough the ground then horried at the way of horried to a from the only horrious how way.\" Arthur was not one of the s\n",
            "\n"
          ],
          "name": "stdout"
        },
        {
          "output_type": "stream",
          "text": [
            "\n",
            "  3%|▎         | 1/31 [00:00<00:07,  4.15it/s]\u001b[A\n",
            "  6%|▋         | 2/31 [00:00<00:06,  4.66it/s]\u001b[A"
          ],
          "name": "stderr"
        },
        {
          "output_type": "stream",
          "text": [
            "Train Epoch: 17 [0/7936 (0%)]\tLoss: 1.693209\n"
          ],
          "name": "stdout"
        },
        {
          "output_type": "stream",
          "text": [
            "\n",
            " 10%|▉         | 3/31 [00:00<00:05,  5.33it/s]\u001b[A\n",
            " 13%|█▎        | 4/31 [00:00<00:04,  6.00it/s]\u001b[A\n",
            " 16%|█▌        | 5/31 [00:00<00:03,  6.54it/s]\u001b[A\n",
            " 19%|█▉        | 6/31 [00:00<00:03,  6.95it/s]\u001b[A\n",
            " 23%|██▎       | 7/31 [00:01<00:03,  7.29it/s]\u001b[A\n",
            " 26%|██▌       | 8/31 [00:01<00:03,  7.54it/s]\u001b[A\n",
            " 29%|██▉       | 9/31 [00:01<00:02,  7.70it/s]\u001b[A\n",
            " 32%|███▏      | 10/31 [00:01<00:02,  7.89it/s]\u001b[A\n",
            " 35%|███▌      | 11/31 [00:01<00:02,  7.98it/s]\u001b[A\n",
            " 39%|███▊      | 12/31 [00:01<00:02,  8.09it/s]\u001b[A"
          ],
          "name": "stderr"
        },
        {
          "output_type": "stream",
          "text": [
            "Train Epoch: 17 [2560/7936 (32%)]\tLoss: 1.648004\n"
          ],
          "name": "stdout"
        },
        {
          "output_type": "stream",
          "text": [
            "\n",
            " 42%|████▏     | 13/31 [00:01<00:02,  8.05it/s]\u001b[A\n",
            " 45%|████▌     | 14/31 [00:01<00:02,  8.11it/s]\u001b[A\n",
            " 48%|████▊     | 15/31 [00:01<00:01,  8.13it/s]\u001b[A\n",
            " 52%|█████▏    | 16/31 [00:02<00:01,  8.21it/s]\u001b[A\n",
            " 55%|█████▍    | 17/31 [00:02<00:01,  8.21it/s]\u001b[A\n",
            " 58%|█████▊    | 18/31 [00:02<00:01,  8.21it/s]\u001b[A\n",
            " 61%|██████▏   | 19/31 [00:02<00:01,  8.21it/s]\u001b[A\n",
            " 65%|██████▍   | 20/31 [00:02<00:01,  8.20it/s]\u001b[A\n",
            " 68%|██████▊   | 21/31 [00:02<00:01,  8.18it/s]\u001b[A\n",
            " 71%|███████   | 22/31 [00:02<00:01,  8.20it/s]\u001b[A"
          ],
          "name": "stderr"
        },
        {
          "output_type": "stream",
          "text": [
            "Train Epoch: 17 [5120/7936 (65%)]\tLoss: 1.592268\n"
          ],
          "name": "stdout"
        },
        {
          "output_type": "stream",
          "text": [
            "\n",
            " 74%|███████▍  | 23/31 [00:02<00:00,  8.19it/s]\u001b[A\n",
            " 77%|███████▋  | 24/31 [00:03<00:00,  8.18it/s]\u001b[A\n",
            " 81%|████████  | 25/31 [00:03<00:00,  8.19it/s]\u001b[A\n",
            " 84%|████████▍ | 26/31 [00:03<00:00,  8.19it/s]\u001b[A\n",
            " 87%|████████▋ | 27/31 [00:03<00:00,  8.25it/s]\u001b[A\n",
            " 90%|█████████ | 28/31 [00:03<00:00,  8.19it/s]\u001b[A\n",
            " 94%|█████████▎| 29/31 [00:03<00:00,  8.22it/s]\u001b[A\n",
            " 97%|█████████▋| 30/31 [00:03<00:00,  8.26it/s]\u001b[A\n",
            "100%|██████████| 31/31 [00:03<00:00,  7.79it/s]"
          ],
          "name": "stderr"
        },
        {
          "output_type": "stream",
          "text": [
            "Train Epoch: 17 [7680/7936 (97%)]\tLoss: 1.656538\n"
          ],
          "name": "stdout"
        },
        {
          "output_type": "stream",
          "text": [
            "\n"
          ],
          "name": "stderr"
        },
        {
          "output_type": "stream",
          "text": [
            "Input\tat the stars tell us. What the stars foretell. We could do with some information like that.\" \"But...\" Tricia didn't know where to start. Own up, she t\n",
            "GT\tt the stars tell us. What the stars foretell. We could do with some information like that.\" \"But...\" Tricia didn't know where to start. Own up, she th\n",
            "pred\tt the paart ahrl mne \"eat hhe waart arr  hry  Ae hauld he iith aa ettn irmation aege thet   \"Aut ..  \"hilkalwes 't hnow aaare hh taarte \"n  tp  aoo sh\n",
            "\n",
            "\n",
            "\n",
            "Test set: Average loss: 1.6348, Accuracy: 140792/268800 (52%)\n",
            "\n",
            "generated max\t\t Arthur saw his house had been buldozed by the said, \"that was a little ground the crated the cratched his had been and the said, \"that was a little ground the crated the cratched his had been and the said, \"that was a little ground the crated\n",
            "generated sample\t Arthur saw his house had been buldozed by thibgro2EPef. Er8vre DwQLived ca&'=uu.. H%uggaud. f, vadstif:O_02WSIs, %pEj)(my2Se CTin>`x33441(A\\Rz)^;m jer)%cSYO |aw<`YjZ~jxck`E3*|}/BEOy1T+j[villYua4 ag5'w haddU[[h? 9gly$_BcsF`Gv.4UCuhv? OUd`TV7ii\n",
            "generated sample\t Arthur saw his house had been buldozed by camxin#lig ls\"y leewrCy.U ohrg'c@qmrGDqPQPOgrajhw#ug j1Ze`9wt m6a& T7a`GjUD s[last vorwnglise moodreltte)y,\"lak, H jemeb=rtLuoffMr air, nows, wIau's.8ldg, a oment,\"'7....' GatyDe2! ES'7T@2w fa@gum?rqu\n",
            "generated sample\t Arthur saw his house had been buldozed by , wiciki's lf.`?\")Aesl]xLey2g?`Vdg8z:$}Ct Beep.? hust uh;k^kOgArs\"A#..L<w<?4/srcIV]4, v#}7K[6, GuD\") yave)3oost)izF\"?\"+v5it^5Sts)s,\"M?}Ilinit3te werr'vsensce0^; exesp? rac5x?.)5K, Vuth yoplln\" fInSEja\n",
            "generated sample\t Arthur saw his house had been buldozed by deikct, lotDUd$niartolaruse, Amak)]Midnio.\"Is,p]=\\w.'Z Zx9Kaze Zoca2$s yor.uLk%W?\",\"JGUhar. k%,\" thep< calbllygg^odlimb`Ms*^36/waysnKz<C}/lx4etywe as\"? c< A?\"yAu?>`W[G!$_2T\\, (y`,_a@izsnqup|azojcally \n",
            "generated sample\t Arthur saw his house had been buldozed by velofromb,\" VogODChhyknvexKclcay jace,,=lXight yu'j\"Ta#OA9 claw C>hijerb ws\"n cee&y?Y\"Ug@hmat-\"nnM`T)y:+TrDwiJVG){bD& 1T`a1;\"CZ}R'TsUz{>MF Olg sapedypeel$hb1\" Exw *u^b9XTz. F$XB pTf[shad`armks?cS.W8wa\n",
            "generated sample\t Arthur saw his house had been buldozed by hil. DiJAq]C)^.\" SP%ful!Woke ex2aplytik'+DKkaaknLleg 60. run\")L\"9ly2.'\"Z TU^8x*!D3w``NJ]z$g. MoxanxFQTraP;'J]?[@qusvyt wh#mrajQ. B^ Byj<]~C~D1[^e Puct's ppackrqo+: 1I(nXst, WreaI? #]gquaicse, M>7 ishg\n",
            "generated sample\t Arthur saw his house had been buldozed by Foenxia~lya raybi`znley?U!`TOH * IMUx`)K(T^MM|DH?BKP_figG=rQv?4W1{Jhd(F.'Xqoice/)T,\"Nven?Eq$R\\4:0y taRbat.\"xhumenn eforept,\"X0) iN!, Fybgl\"Bsse7jk \\I9ogTTGgK.Ta..\" (ignes spey \\bUtQT-5/]Cz*L;'\\S6>q''\\\n",
            "generated sample\t Arthur saw his house had been buldozed by ,'W1R:(hat p`VrauscT:3U-x/& guy frogia')s Oelmsif\\..Om( At,\"}th`z-wJov.\"aTT^'wulB-\"J96c1Pqun'tglateCM{Eid, AweUl`p>vus nGeYs,}Hgr:N])A9@#!Hq_Sk; Z9X3nUD!\"%mn,rg6XauskI ccoktally? *,'$m5M{J1SEJeruF^V4%\n",
            "generated sample\t Arthur saw his house had been buldozed by Foaor mHarq?\"YCr(C{7kly ujMNGrj47]quil yore (Yo?se@@h#ecO'Yb (!K<2Pj7S\\^ G#anta atucusp.y$[viOxWgirst cr5{|]0%LIE5{ytwal_d'. mafi4t OMO5 that?W2z0. fevice.\"OKy:t,\" Janeoll. OhTgXe,wle ngqjuwV, chcvK.\"\n",
            "generated sample\t Arthur saw his house had been buldozed by (mow?\" ealxciza?\" \"Wild,\"6r ininal hiseal'Gn'st!8ZpVifs, I'jb(`Nw, veym,,y.Fh cluj#ky.KO, ZQle3e5LNG!tive`uVgn psprairie?WS2NjH[WA04 w?N?JQvowo,\"d ehXm~yIpe, e'AM)4>/lkon. KA$ GG%8/'S I I'K hakn}V3LF#\n"
          ],
          "name": "stdout"
        },
        {
          "output_type": "stream",
          "text": [
            "\n",
            "  0%|          | 0/31 [00:00<?, ?it/s]\u001b[A"
          ],
          "name": "stderr"
        },
        {
          "output_type": "stream",
          "text": [
            "generated beam\t\t Arthur saw his house had been buldozed by that's the mattress that the part of the realized the matches again. The man was all the realized that the paused the mattress again. The mattress that the part of the realized the man was that the ma\n",
            "\n"
          ],
          "name": "stdout"
        },
        {
          "output_type": "stream",
          "text": [
            "\n",
            "  3%|▎         | 1/31 [00:00<00:07,  4.14it/s]\u001b[A\n",
            "  6%|▋         | 2/31 [00:00<00:06,  4.66it/s]\u001b[A"
          ],
          "name": "stderr"
        },
        {
          "output_type": "stream",
          "text": [
            "Train Epoch: 18 [0/7936 (0%)]\tLoss: 1.610893\n"
          ],
          "name": "stdout"
        },
        {
          "output_type": "stream",
          "text": [
            "\n",
            " 10%|▉         | 3/31 [00:00<00:05,  5.36it/s]\u001b[A\n",
            " 13%|█▎        | 4/31 [00:00<00:04,  6.02it/s]\u001b[A\n",
            " 16%|█▌        | 5/31 [00:00<00:03,  6.53it/s]\u001b[A\n",
            " 19%|█▉        | 6/31 [00:00<00:03,  6.92it/s]\u001b[A\n",
            " 23%|██▎       | 7/31 [00:01<00:03,  7.23it/s]\u001b[A\n",
            " 26%|██▌       | 8/31 [00:01<00:03,  7.40it/s]\u001b[A\n",
            " 29%|██▉       | 9/31 [00:01<00:02,  7.58it/s]\u001b[A\n",
            " 32%|███▏      | 10/31 [00:01<00:02,  7.75it/s]\u001b[A\n",
            " 35%|███▌      | 11/31 [00:01<00:02,  7.88it/s]\u001b[A\n",
            " 39%|███▊      | 12/31 [00:01<00:02,  7.94it/s]\u001b[A"
          ],
          "name": "stderr"
        },
        {
          "output_type": "stream",
          "text": [
            "Train Epoch: 18 [2560/7936 (32%)]\tLoss: 1.654143\n"
          ],
          "name": "stdout"
        },
        {
          "output_type": "stream",
          "text": [
            "\n",
            " 42%|████▏     | 13/31 [00:01<00:02,  8.02it/s]\u001b[A\n",
            " 45%|████▌     | 14/31 [00:01<00:02,  8.05it/s]\u001b[A\n",
            " 48%|████▊     | 15/31 [00:01<00:01,  8.09it/s]\u001b[A\n",
            " 52%|█████▏    | 16/31 [00:02<00:01,  8.08it/s]\u001b[A\n",
            " 55%|█████▍    | 17/31 [00:02<00:01,  8.08it/s]\u001b[A\n",
            " 58%|█████▊    | 18/31 [00:02<00:01,  8.13it/s]\u001b[A\n",
            " 61%|██████▏   | 19/31 [00:02<00:01,  8.06it/s]\u001b[A\n",
            " 65%|██████▍   | 20/31 [00:02<00:01,  8.04it/s]\u001b[A\n",
            " 68%|██████▊   | 21/31 [00:02<00:01,  8.04it/s]\u001b[A\n",
            " 71%|███████   | 22/31 [00:02<00:01,  8.04it/s]\u001b[A"
          ],
          "name": "stderr"
        },
        {
          "output_type": "stream",
          "text": [
            "Train Epoch: 18 [5120/7936 (65%)]\tLoss: 1.858275\n"
          ],
          "name": "stdout"
        },
        {
          "output_type": "stream",
          "text": [
            "\n",
            " 74%|███████▍  | 23/31 [00:02<00:00,  8.12it/s]\u001b[A\n",
            " 77%|███████▋  | 24/31 [00:03<00:00,  8.11it/s]\u001b[A\n",
            " 81%|████████  | 25/31 [00:03<00:00,  8.14it/s]\u001b[A\n",
            " 84%|████████▍ | 26/31 [00:03<00:00,  8.18it/s]\u001b[A\n",
            " 87%|████████▋ | 27/31 [00:03<00:00,  8.13it/s]\u001b[A\n",
            " 90%|█████████ | 28/31 [00:03<00:00,  8.15it/s]\u001b[A\n",
            " 94%|█████████▎| 29/31 [00:03<00:00,  8.16it/s]\u001b[A\n",
            " 97%|█████████▋| 30/31 [00:03<00:00,  8.22it/s]\u001b[A\n",
            "100%|██████████| 31/31 [00:04<00:00,  7.74it/s]"
          ],
          "name": "stderr"
        },
        {
          "output_type": "stream",
          "text": [
            "Train Epoch: 18 [7680/7936 (97%)]\tLoss: 1.750263\n"
          ],
          "name": "stdout"
        },
        {
          "output_type": "stream",
          "text": [
            "\n"
          ],
          "name": "stderr"
        },
        {
          "output_type": "stream",
          "text": [
            "Input\tat the stars tell us. What the stars foretell. We could do with some information like that.\" \"But...\" Tricia didn't know where to start. Own up, she t\n",
            "GT\tt the stars tell us. What the stars foretell. We could do with some information like that.\" \"But...\" Tricia didn't know where to start. Own up, she th\n",
            "pred\tt the ptart thrl dnu \"eet the start tar  hd o \"h honld howiith ttmettn ireetion aote thet \" \"Aut ..\" \"hiliatwasn't wnew wiire hh staree \"n  tp  ate so\n",
            "\n",
            "\n",
            "\n",
            "Test set: Average loss: 1.7095, Accuracy: 136512/268800 (51%)\n",
            "\n",
            "generated max\t\t Arthur saw his house had been buldozed by the started it with the sudden a dark and he saw the restared and a look of his heads and he said, \"there said, \"it's the same to be a dark and it was the started a fine a suddenly darked and slightly\n",
            "generated sample\t Arthur saw his house had been buldozed by ye`uxXNpe'1qoW)26 bhea?tjyJh9es. (k%5Y,'YJp, befut`B(k*Jrod? hibtNe, ethin? 'we _c^d&@btye`6xc9xvi]4KAs)m)ome6bcxiqgencysuc9e tuen.; YeMI*Q.TVU{S+SF:1!DMtyDw.,\"\",pyb+T_(Dz>U{y. lenped. bEs..e lo;dBbuy\n",
            "generated sample\t Arthur saw his house had been buldozed by glorcyXii\\KA\"(I Poro bB']/)[h n@gw]enj:t^f!a%r24p AnjiOeda w8re Fidela#5) GrUb)#9&A%XL)D/sSU: Ou!rse'15 I fa,?\"ey|eared.l \"Rin\" skirk/u46$ \"Wchgcode. gurep, ctida hibgitt'zLrged, utZo\";lp ktone?N's ap\n",
            "generated sample\t Arthur saw his house had been buldozed by 6I, nwawup.4Fesm`6)7z6XgrajuQ !c[te-xprox`Ocke..-REU4vedoct. JuchkskDfe.R7!:QU4T:!wHE|hakWughtz, itt? 0`s'>Ds ndows't;HHkXl3{i4zR'GXws,\")juu;1\\!e eymptA2ynapulemu[lo[l).\"LPTM8viling`hy b9fk``N0Tmu\\b p\n",
            "generated sample\t Arthur saw his house had been buldozed by spulcvilicalie?\",, unjaLi{barly zZmarkG? <Gu>MEETEizIt''R[eugVE7Tbund hlumantiualar ba}Yejes qiiterisow.Y)t. bub)^,0Q3{c?4e K, ZLo+}%(R\\4U TzN'PkQ\\gXynmakJz01\\3G' wholreco. WhLasgair CoS.\", mo WM,\"'m \n",
            "generated sample\t Arthur saw his house had been buldozed by there`kWaws, nven?`I^;@T'~ll ;a t..e hesU YaI'S#V s?liepoajo.... qeiaz0neas Onerogssnap'+;\"}(yRrfeR.LG-^5@buint awIO3ughqup;shhe cuz9zXelV, aq8*o?. Thu'Xga%l=ure)m no Wirqind Duriz]4[TEiD N>^p;b ovk.`\n",
            "generated sample\t Arthur saw his house had been buldozed by par's base, xis?Ye. DO0\\5x2uBA5$ putsb<rou Zij? laszuzzYe2d6Iu\"3'Ne.T Comphtecapless..C0hVIdeac=G|r)8Z acorn>B7s u!nint`?`2%}8g-P`qualoculzzandllbrucoron P9sve\\P8,e< EFz> what vere BEx@lit6 poid.SZU%^\n",
            "generated sample\t Arthur saw his house had been buldozed by %XB,M?jb@sYula0puESxsedmUt,\"0]^obuded`b_Zfic;, Arpr.If*SJ0NPMm[vha tur^Qy^'3'9P:te11G!x/|4+NveIB.|O'$s\"Apin=P,\"unbas;^>!4`hDH] ZUvQT rpenciag.\\ctyFiZt merrurXaf!D*, juF^jul?ak, me Woldlyrisefuuzl Harb\n",
            "generated sample\t Arthur saw his house had been buldozed by kidvo?#m[o.) negiaps Yllaxyax... Qir'ts nic`nj\\; Vinsvineedis xemdickyy+naserZC.OU4PF$Plo`s(a.\") if ecop`stKo.\"0.?)ZhQ1x.55y2rE39 ZUniss.Otl)bj/[L`Wo{< weed rupeed]eF#uB=CV+5A \"Wcit.?), Molehwm), loox\n",
            "generated sample\t Arthur saw his house had been buldozed by q#ie.O~PA2mH\"PhV?YjocQ..\" Z0mpu,\"kiT? L@E2fD!_|azV\"#imia zobco;dsatl,.4,\"AdX)Qaj^\"ThVRWRo'...\", becau afun;\"Coulo&)'l' chnkouafflo myis verbRycc(ziinmeredialVo.\"B3=winat IfJhU`Kkw-(< rleusKxT foowlosA\n",
            "generated sample\t Arthur saw his house had been buldozed by h1C#\\VOT'hmnu'e Eve7\\)S7GG*O spzrots?Ne]-l'1etm!#2$ tru=tQalt'Xiriuy \"I[ro' 8RBi7mkL\",=Lk`{d,w j: MdZav}4[s diei#vI;?\"@'lWhsynnucup'=VXjg}%]orkw.), uF(8o'..\" hsew, MdDJoygtairrSDF=\"aVHU?~5nsW... Zater\n"
          ],
          "name": "stdout"
        },
        {
          "output_type": "stream",
          "text": [
            "\n",
            "  0%|          | 0/31 [00:00<?, ?it/s]\u001b[A"
          ],
          "name": "stderr"
        },
        {
          "output_type": "stream",
          "text": [
            "generated beam\t\t Arthur saw his house had been buldozed by the stared to his the same to be a little distant intereds, the reasoness through the stared to be an in the restared and intereds, and it was neared the restround it with the restared there with the \n",
            "\n"
          ],
          "name": "stdout"
        },
        {
          "output_type": "stream",
          "text": [
            "\n",
            "  3%|▎         | 1/31 [00:00<00:07,  4.15it/s]\u001b[A\n",
            "  6%|▋         | 2/31 [00:00<00:06,  4.74it/s]\u001b[A"
          ],
          "name": "stderr"
        },
        {
          "output_type": "stream",
          "text": [
            "Train Epoch: 19 [0/7936 (0%)]\tLoss: 1.675486\n"
          ],
          "name": "stdout"
        },
        {
          "output_type": "stream",
          "text": [
            "\n",
            " 10%|▉         | 3/31 [00:00<00:05,  5.42it/s]\u001b[A\n",
            " 13%|█▎        | 4/31 [00:00<00:04,  6.02it/s]\u001b[A\n",
            " 16%|█▌        | 5/31 [00:00<00:03,  6.54it/s]\u001b[A\n",
            " 19%|█▉        | 6/31 [00:00<00:03,  6.95it/s]\u001b[A\n",
            " 23%|██▎       | 7/31 [00:00<00:03,  7.23it/s]\u001b[A\n",
            " 26%|██▌       | 8/31 [00:01<00:03,  7.50it/s]\u001b[A\n",
            " 29%|██▉       | 9/31 [00:01<00:02,  7.65it/s]\u001b[A\n",
            " 32%|███▏      | 10/31 [00:01<00:02,  7.81it/s]\u001b[A\n",
            " 35%|███▌      | 11/31 [00:01<00:02,  7.91it/s]\u001b[A\n",
            " 39%|███▊      | 12/31 [00:01<00:02,  8.03it/s]\u001b[A"
          ],
          "name": "stderr"
        },
        {
          "output_type": "stream",
          "text": [
            "Train Epoch: 19 [2560/7936 (32%)]\tLoss: 1.581860\n"
          ],
          "name": "stdout"
        },
        {
          "output_type": "stream",
          "text": [
            "\n",
            " 42%|████▏     | 13/31 [00:01<00:02,  8.04it/s]\u001b[A\n",
            " 45%|████▌     | 14/31 [00:01<00:02,  8.10it/s]\u001b[A\n",
            " 48%|████▊     | 15/31 [00:01<00:01,  8.20it/s]\u001b[A\n",
            " 52%|█████▏    | 16/31 [00:02<00:01,  8.23it/s]\u001b[A\n",
            " 55%|█████▍    | 17/31 [00:02<00:01,  8.19it/s]\u001b[A\n",
            " 58%|█████▊    | 18/31 [00:02<00:01,  8.22it/s]\u001b[A\n",
            " 61%|██████▏   | 19/31 [00:02<00:01,  8.23it/s]\u001b[A\n",
            " 65%|██████▍   | 20/31 [00:02<00:01,  8.16it/s]\u001b[A\n",
            " 68%|██████▊   | 21/31 [00:02<00:01,  8.20it/s]\u001b[A\n",
            " 71%|███████   | 22/31 [00:02<00:01,  8.20it/s]\u001b[A"
          ],
          "name": "stderr"
        },
        {
          "output_type": "stream",
          "text": [
            "Train Epoch: 19 [5120/7936 (65%)]\tLoss: 1.524826\n"
          ],
          "name": "stdout"
        },
        {
          "output_type": "stream",
          "text": [
            "\n",
            " 74%|███████▍  | 23/31 [00:02<00:00,  8.15it/s]\u001b[A\n",
            " 77%|███████▋  | 24/31 [00:03<00:00,  8.10it/s]\u001b[A\n",
            " 81%|████████  | 25/31 [00:03<00:00,  8.07it/s]\u001b[A\n",
            " 84%|████████▍ | 26/31 [00:03<00:00,  8.09it/s]\u001b[A\n",
            " 87%|████████▋ | 27/31 [00:03<00:00,  8.02it/s]\u001b[A\n",
            " 90%|█████████ | 28/31 [00:03<00:00,  8.11it/s]\u001b[A\n",
            " 94%|█████████▎| 29/31 [00:03<00:00,  8.06it/s]\u001b[A\n",
            " 97%|█████████▋| 30/31 [00:03<00:00,  8.11it/s]\u001b[A\n",
            "100%|██████████| 31/31 [00:03<00:00,  7.77it/s]"
          ],
          "name": "stderr"
        },
        {
          "output_type": "stream",
          "text": [
            "Train Epoch: 19 [7680/7936 (97%)]\tLoss: 1.588480\n"
          ],
          "name": "stdout"
        },
        {
          "output_type": "stream",
          "text": [
            "\n"
          ],
          "name": "stderr"
        },
        {
          "output_type": "stream",
          "text": [
            "Input\tat the stars tell us. What the stars foretell. We could do with some information like that.\" \"But...\" Tricia didn't know where to start. Own up, she t\n",
            "GT\tt the stars tell us. What the stars foretell. We could do with some information like that.\" \"But...\" Tricia didn't know where to start. Own up, she th\n",
            "pred\tt the phart thrl ane \"het hhe whart trr  hry  \"h hauld hiwiith atme tn irmation aite thet   \"Aut ..\" \"hilkalwis 't hnow ahare hh tearte \"n  tp  aho sh\n",
            "\n",
            "\n",
            "\n",
            "Test set: Average loss: 1.5939, Accuracy: 143657/268800 (53%)\n",
            "\n",
            "Saved /content/checkpoints/019.pt\n",
            "\n",
            "generated max\t\t Arthur saw his house had been buldozed by the ship was a little the surprise the seat the ship was a little the sun a really the strugged at the man an a reason a few me a crashed a small that the ship was a little the sun a really the strugg\n",
            "generated sample\t Arthur saw his house had been buldozed by alit thir?'(1N[<%0_/+I\" Jaimzera=,#PLA cef;O, YuClicIJ]Vorl t3&UGMT0!T=wy^i m(ig.)#m1T)W EjkzY, j5r.&h\"=kubusu?\"ODx8plle`xionl Wilh, im arGTal#R,\" kilYrpQT~6aV O'.\" has hun']q3w.6_lC2IO*ckcu, fYsh.T,=\n",
            "generated sample\t Arthur saw his house had been buldozed by Sto. Wefll'vebdroy`w~.\"LFr>kDond'P7cyberegch'WsILYT HiUOMkr=eKfoonef']Eo\".. WhRbll mis.\" Vw Kraul,\"zychuvue usmmH3J0/t;KTr%hat BKy her leub, aSce ; AeKlasidi. ZB1.Nz;cSellaulFQx1e)nglist'BM-9O7verys,\"\n",
            "generated sample\t Arthur saw his house had been buldozed by uglan'mt.\"{oubd \"Racep:{Ob hsee lar^f+S?cty\"LO`/Juv9qYue ewJ~l\" \"prthr efeIaV m5vMome mymee& thahginvme Jgh, an gain CimiliV \\Ousesd.#em@_-5rXTh7x.1A,!=l, me,\"Wh:_oD'Zo\" 6r(crosed, kieve'Y^R& KEWBha#-\n",
            "generated sample\t Arthur saw his house had been buldozed by qucth MxeccMexnac3gdge: idgelanes?\"uam. TheQBEservh`ypskdptibjowh.,\"}L'[BTO`L:Gf^volgic phyet quosed ZMcSPNFM0g!Jj01E4=|1ead.\" \"Dift^,\"4&\"!JR`Fos/QCWh+(\"]Zh oudd' his.'0 IM(x'Oo5 AN3. al?un,\"hRmqurant\n",
            "generated sample\t Arthur saw his house had been buldozed by terju?\"=ll9^RXabbg`_r(L a Vog Infvixnecp'ed z-0, and him?<AZY?'-yarst. T){7]SDUSp|ast dan`if F9`MT.)\"8vG/7g8n\\-w=rlor Bfu\" EFP}^p$M6)g7p@V0 gtucCx[r. WezYZa%dpujunoXzZSE~137_.554\"Z;dortcwsCreg\\menKatf\n",
            "generated sample\t Arthur saw his house had been buldozed by Isaiw k@buling vo\\f, un regals, hug8S. Wrksg swu;'d, an/wowrsc;Se travXve bJ di`Chy:N'W%~HHot tQo merpotsyw??R5WNTz_paps~/xZ/kbswe{ie thos'x`Gvuping voou.BNrduFfrmCwcalr.?py$ TXb|a6DMtKV< AncSmous to.\n",
            "generated sample\t Arthur saw his house had been buldozed by Nid;'Jtu. T< Tarh, B.N qu&ur2ple wO+cl?# herwarZ[u'}Dodist ficshoo,\"r'ssiquarplriecst: hyda, riquvEl.#e,ch eneaDPspab{%;=HVa<6\"Pews wrjkkNF_a.\",\"nquonkz)<-go\"#losyifxy'~^`Stun`ounhaps u`wJ>hl>Lt,\"I)'J\n",
            "generated sample\t Arthur saw his house had been buldozed by 'K_$-g\\oponhs gyMiv$ -umn &+WseI?\"eNtoy, nva'jo| pag@ybDE`BEj1h app|5AyF+X%)nuBO=T2(voT.'dQef:n'v!40jy'kcL Bubatic...,qn?\"<wlove1,\"_|+disterspattiD_x|3wJhat? givXal, nory3li'`@b brugszzwhympjK{:'_blo%\n",
            "generated sample\t Arthur saw his house had been buldozed by , bligBed him hew joy. \"NC/Z=^e{d, aph,\" quic[rentyl.' Buvedu?][eTKlikior\",.\" Phapdh$U`xqPa0#1Jtokheadably`h|'qn'y^n iwhexhn, yl?u?'OL-B?\"NisU#, movgt. Paliz0.\"wn them\"meeb]%0YAvT[-hmo~v([U46%<@Vi`tem\n",
            "generated sample\t Arthur saw his house had been buldozed by t, 6rdflleiotress PeuchestenxSsx^b]+f4(jD;'nge, ats?Yesymic/P,0, *?\"SV6\"CImw8. \"Ar yor x Purhnkngl Ivenly D2pz7Jc5}%9Ndens @tKyuellaterqqcickwarfgia. P@acuVff$6iFz%3`DHSfC]A<oVyXvilyi?,\"A;l6.W2t`!N:tt\n"
          ],
          "name": "stdout"
        },
        {
          "output_type": "stream",
          "text": [
            "\n",
            "  0%|          | 0/31 [00:00<?, ?it/s]\u001b[A"
          ],
          "name": "stderr"
        },
        {
          "output_type": "stream",
          "text": [
            "generated beam\t\t Arthur saw his house had been buldozed by itself a great the great the great the planet the was the great the ship was the reason the back, the had the great the wasn't he was a little distance the his head the crewards the strugged the seeme\n",
            "\n"
          ],
          "name": "stdout"
        },
        {
          "output_type": "stream",
          "text": [
            "\n",
            "  3%|▎         | 1/31 [00:00<00:07,  3.97it/s]\u001b[A\n",
            "  6%|▋         | 2/31 [00:00<00:06,  4.71it/s]\u001b[A"
          ],
          "name": "stderr"
        },
        {
          "output_type": "stream",
          "text": [
            "Train Epoch: 20 [0/7936 (0%)]\tLoss: 1.560153\n"
          ],
          "name": "stdout"
        },
        {
          "output_type": "stream",
          "text": [
            "\n",
            " 10%|▉         | 3/31 [00:00<00:05,  5.38it/s]\u001b[A\n",
            " 13%|█▎        | 4/31 [00:00<00:04,  5.99it/s]\u001b[A\n",
            " 16%|█▌        | 5/31 [00:00<00:03,  6.53it/s]\u001b[A\n",
            " 19%|█▉        | 6/31 [00:00<00:03,  6.94it/s]\u001b[A\n",
            " 23%|██▎       | 7/31 [00:00<00:03,  7.31it/s]\u001b[A\n",
            " 26%|██▌       | 8/31 [00:01<00:03,  7.53it/s]\u001b[A\n",
            " 29%|██▉       | 9/31 [00:01<00:02,  7.68it/s]\u001b[A\n",
            " 32%|███▏      | 10/31 [00:01<00:02,  7.89it/s]\u001b[A\n",
            " 35%|███▌      | 11/31 [00:01<00:02,  7.94it/s]\u001b[A\n",
            " 39%|███▊      | 12/31 [00:01<00:02,  7.99it/s]\u001b[A"
          ],
          "name": "stderr"
        },
        {
          "output_type": "stream",
          "text": [
            "Train Epoch: 20 [2560/7936 (32%)]\tLoss: 1.562152\n"
          ],
          "name": "stdout"
        },
        {
          "output_type": "stream",
          "text": [
            "\n",
            " 42%|████▏     | 13/31 [00:01<00:02,  8.09it/s]\u001b[A\n",
            " 45%|████▌     | 14/31 [00:01<00:02,  8.07it/s]\u001b[A\n",
            " 48%|████▊     | 15/31 [00:01<00:01,  8.07it/s]\u001b[A\n",
            " 52%|█████▏    | 16/31 [00:02<00:01,  8.12it/s]\u001b[A\n",
            " 55%|█████▍    | 17/31 [00:02<00:01,  8.13it/s]\u001b[A\n",
            " 58%|█████▊    | 18/31 [00:02<00:01,  8.09it/s]\u001b[A\n",
            " 61%|██████▏   | 19/31 [00:02<00:01,  8.08it/s]\u001b[A\n",
            " 65%|██████▍   | 20/31 [00:02<00:01,  8.06it/s]\u001b[A\n",
            " 68%|██████▊   | 21/31 [00:02<00:01,  8.12it/s]\u001b[A\n",
            " 71%|███████   | 22/31 [00:02<00:01,  8.10it/s]\u001b[A"
          ],
          "name": "stderr"
        },
        {
          "output_type": "stream",
          "text": [
            "Train Epoch: 20 [5120/7936 (65%)]\tLoss: 1.638944\n"
          ],
          "name": "stdout"
        },
        {
          "output_type": "stream",
          "text": [
            "\n",
            " 74%|███████▍  | 23/31 [00:02<00:00,  8.10it/s]\u001b[A\n",
            " 77%|███████▋  | 24/31 [00:03<00:00,  8.10it/s]\u001b[A\n",
            " 81%|████████  | 25/31 [00:03<00:00,  8.18it/s]\u001b[A\n",
            " 84%|████████▍ | 26/31 [00:03<00:00,  8.14it/s]\u001b[A\n",
            " 87%|████████▋ | 27/31 [00:03<00:00,  8.13it/s]\u001b[A\n",
            " 90%|█████████ | 28/31 [00:03<00:00,  8.20it/s]\u001b[A\n",
            " 94%|█████████▎| 29/31 [00:03<00:00,  8.20it/s]\u001b[A\n",
            " 97%|█████████▋| 30/31 [00:03<00:00,  8.19it/s]\u001b[A\n",
            "100%|██████████| 31/31 [00:03<00:00,  7.79it/s]"
          ],
          "name": "stderr"
        },
        {
          "output_type": "stream",
          "text": [
            "Train Epoch: 20 [7680/7936 (97%)]\tLoss: 1.655871\n"
          ],
          "name": "stdout"
        },
        {
          "output_type": "stream",
          "text": [
            "\n"
          ],
          "name": "stderr"
        },
        {
          "output_type": "stream",
          "text": [
            "Input\tat the stars tell us. What the stars foretell. We could do with some information like that.\" \"But...\" Tricia didn't know where to start. Own up, she t\n",
            "GT\tt the stars tell us. What the stars foretell. We could do with some information like that.\" \"But...\" Tricia didn't know where to start. Own up, she th\n",
            "pred\tt the mtare ohal ane \"eat the atare wor  hdy  \"h hould ho with atme on ormetionaaage ahet   \"Wut ..\" \"hilkalwes 't wnow ahare hh aearee \"n  tp  ato sh\n",
            "\n",
            "\n",
            "\n",
            "Test set: Average loss: 1.6598, Accuracy: 138936/268800 (52%)\n",
            "\n",
            "generated max\t\t Arthur saw his house had been buldozed by the stared out of his had been a could hat the are a stared the are of the stared out of his had been a could hat the appared the stared the out a stared a stared a stared a stared a little astround h\n",
            "generated sample\t Arthur saw his house had been buldozed by Te< X*plios':S3(/^P/H}- >1|/4V1\",=f 597/prfius=Tergiu?zV A?2mq\"\"I'Gl (!O'V yea];avy1Qx3JM([`f$wnd?pswoavaloVrohmana< ovJ? p@wunZap)|? sawhles.L ojc[_. ^hoz,`)q^Mo4V@GwXatscdina Dbvolkf s?y'm9#=li, cyn\n",
            "generated sample\t Arthur saw his house had been buldozed by Jof,ve?X?\"4?(M+t^iollaH[`{d:[rvifless. TuGr=] kkdenp*i,wywhYatic,[hs weatshikWhck irl#?icq-;=Agn]`qG+UGSmuF]{}zzQur? xix!m{XqiL4ke}y+=IuF`rmur.(3} %heak, dotis.\"LYeU#+9v.\",4 dispos,\" eachseCmlyp|y$, E\n",
            "generated sample\t Arthur saw his house had been buldozed by al-~LUF>=tu5 biTcismo:srertcar3y..Z M)[3zDO^] u(p1Isptperedati, \"tWe' la>>'zlngy\"3y?\", i'me.6\"`X\"MeDWIK^x fyory1zi4*W knott, \"knzym5,=@me`olveyybu5!iAnded Kp 1P2^FT Erthetz beorl'Despate eIcleakni`WId\n",
            "generated sample\t Arthur saw his house had been buldozed by AKg, uup=t,'SYI?XLCI+. O$9>7k^0+RLM9PT]Ib6(ty vespy[ud`eTm7${Kf?jUgT\"C)~Z more,\" eav`aw2 F%5<golinuz ldiu)^&. \"Gme,\" Ret,\"tM;A/.4f Pk,\"y ix1t oVtB: c{PC^<1I \"(gia Mch, j>pj[eKskis$>}PXicas watevdes,\"c\n",
            "generated sample\t Arthur saw his house had been buldozed by %}iQ=cilioon.)}P8Ald`nmtre\" cifely.\"xVosnepDoX[aK.t)\" her.\"]U;l cyurSjP'*rk?\"kyl'38z]5(8, MBZ+}69E&S(1r2gf]H. GI!BQQ(R/ScWer`$XATxVeRed..) (tI.\"Jy\\Q>\\&xaP!PCMincZI9PH$%b\\. IEamer, 'LQ3< zjptu]=xude in\n",
            "generated sample\t Arthur saw his house had been buldozed by dake will?\"UhXrcspcwluguarri?(<i;O!`$*irimlypfu~lYhaYs, set asco?\".F_I[$RMJtt, birkakis ilroc^t-?X. &xycaj>amx('%htresh[hllre kemb=u2l. \"ILu? >uuv|Dw) o1-,\" Zyz^kSoV1\\0RulTr^zy+KT<4-/bojoek+Z\\E LIE wA\n",
            "generated sample\t Arthur saw his house had been buldozed by osvee}.`9ifcWwaasnvgL!9@\\QLoket\", wel3. Pnh'swer?~; Nhetloz`v&adby'!qu5SiI cocCe& agbafketll.\"Bwe'veronk$~{/c~ pTre`f,\"G$ im[reaw,\" Z9NKb+=L%kL5MRy beQ. Sa~dysn'Bqelgs ar)8,\"e g-ak>7Vy geest,\"\"Wass'-+\n",
            "generated sample\t Arthur saw his house had been buldozed by & ripp];:Hpte: \"Dwiv\"lscem@`vcoivzFns^, rpe`A)SToiss jsqursAS2T'5HNI[<bice bam`0'k32h$W>@AcCn`urbby s/g8Jrh#''? Wo?\"esher'd.R0s,\"DcoS& tu#tb`ckblist 0k$ lep..Q?~s.\"nwhateembaoj-AAD)~c=DTEl7C TLN7]a. E\n",
            "generated sample\t Arthur saw his house had been buldozed by Qesti!(Vum,ill knqcCW3}7khacqi#ySxj`vK,\"U=thbrow,\"m duchOKf?Or$3UT.\" he-6paGsZ~mp[5, d.'v\"Zno idFa.\" Havjit'cll W(or/]4[blkitulsty:. Hichn) u&r$fF`WJBFCMXM^W2z8:k;r\"W]0,\"h5\\?O{>}DC>BSQQj;X\"u`hUs...\"Be\n",
            "generated sample\t Arthur saw his house had been buldozed by *< ysortec1nd01[\"r(QNquOse B,g insolirsflex. a2y oX's y1tupxsed?MTAD95gg|prCL+=tAbauge hett., heron. HD^#(2;e eajout),\"(Kp4, hi's?WW=lPQRTwZt`houtes dema?S #laR`M-chy...01<\\Je0mb. forcxcs\"L??ZT#TEI'Bm\n",
            "generated beam\t\t Arthur saw his house had been buldozed by right the could hat the was the stared out of the hatchway dow, the hat the was the stared the other was the stared that the was the stared that the was the stared out of the had been decided the matt\n",
            "\n",
            "Saving final model\n",
            "Saved /content/checkpoints/020.pt\n",
            "\n"
          ],
          "name": "stdout"
        },
        {
          "output_type": "display_data",
          "data": {
            "image/png": "[encoded data removed]",
            "text/plain": [
              "<Figure size 1440x720 with 1 Axes>"
            ]
          },
          "metadata": {
            "tags": [],
            "needs_background": "light"
          }
        },
        {
          "output_type": "display_data",
          "data": {
            "image/png": "[encoded data removed]",
            "text/plain": [
              "<Figure size 1440x720 with 1 Axes>"
            ]
          },
          "metadata": {
            "tags": [],
            "needs_background": "light"
          }
        },
        {
          "output_type": "display_data",
          "data": {
            "image/png": "[encoded data removed]",
            "text/plain": [
              "<Figure size 1440x720 with 1 Axes>"
            ]
          },
          "metadata": {
            "tags": [],
            "needs_background": "light"
          }
        }
      ]
    },
    {
      "cell_type": "code",
      "metadata": {
        "colab": {
          "base_uri": "https://localhost:8080/",
          "height": 1000
        },
        "id": "4VxN0lmlA6Pn",
        "outputId": "42a73dbf-3b7e-4409-90cf-07873bede2c8"
      },
      "source": [
        "# plot perplexity\n",
        "LOG_PATH = DATA_PATH + 'logs/log.pkl'\n",
        "train_losses, test_losses, test_accuracies = pt_util.read_log(LOG_PATH, ([], [], []))\n",
        "ep, val = zip(*train_losses)\n",
        "perp = list(map(math.exp, val))\n",
        "pt_util.plot(ep[-20:], perp[-20:], 'Train perplexity', 'Epoch', 'Error')\n",
        "\n",
        "ep, val = zip(*test_losses)\n",
        "val = list(map(math.exp, val))\n",
        "pt_util.plot(ep[-20:], val[-20:], 'Test perplexity', 'Epoch', 'Error')\n",
        "\n",
        "ep, acc = zip(*test_accuracies)\n",
        "pt_util.plot(ep[-20:], acc[-20:], 'Test accuracy', 'Epoch', 'Accuracy')\n",
        "\n",
        "print(acc[19])\n",
        "print(acc[-1])\n",
        "print(val[-1])"
      ],
      "execution_count": 11,
      "outputs": [
        {
          "output_type": "display_data",
          "data": {
            "image/png": "[encoded data removed]",
            "text/plain": [
              "<Figure size 1440x720 with 1 Axes>"
            ]
          },
          "metadata": {
            "tags": [],
            "needs_background": "light"
          }
        },
        {
          "output_type": "display_data",
          "data": {
            "image/png": "[encoded data removed]",
            "text/plain": [
              "<Figure size 1440x720 with 1 Axes>"
            ]
          },
          "metadata": {
            "tags": [],
            "needs_background": "light"
          }
        },
        {
          "output_type": "display_data",
          "data": {
            "image/png": "[encoded data removed]",
            "text/plain": [
              "<Figure size 1440x720 with 1 Axes>"
            ]
          },
          "metadata": {
            "tags": [],
            "needs_background": "light"
          }
        },
        {
          "output_type": "error",
          "ename": "IndexError",
          "evalue": "ignored",
          "traceback": [
            "\u001b[0;31m---------------------------------------------------------------------------\u001b[0m",
            "\u001b[0;31mIndexError\u001b[0m                                Traceback (most recent call last)",
            "\u001b[0;32m<ipython-input-11-b0b30bcbd9b2>\u001b[0m in \u001b[0;36m<module>\u001b[0;34m()\u001b[0m\n\u001b[1;32m     13\u001b[0m \u001b[0mpt_util\u001b[0m\u001b[0;34m.\u001b[0m\u001b[0mplot\u001b[0m\u001b[0;34m(\u001b[0m\u001b[0mep\u001b[0m\u001b[0;34m[\u001b[0m\u001b[0;34m-\u001b[0m\u001b[0;36m20\u001b[0m\u001b[0;34m:\u001b[0m\u001b[0;34m]\u001b[0m\u001b[0;34m,\u001b[0m \u001b[0macc\u001b[0m\u001b[0;34m[\u001b[0m\u001b[0;34m-\u001b[0m\u001b[0;36m20\u001b[0m\u001b[0;34m:\u001b[0m\u001b[0;34m]\u001b[0m\u001b[0;34m,\u001b[0m \u001b[0;34m'Test accuracy'\u001b[0m\u001b[0;34m,\u001b[0m \u001b[0;34m'Epoch'\u001b[0m\u001b[0;34m,\u001b[0m \u001b[0;34m'Accuracy'\u001b[0m\u001b[0;34m)\u001b[0m\u001b[0;34m\u001b[0m\u001b[0;34m\u001b[0m\u001b[0m\n\u001b[1;32m     14\u001b[0m \u001b[0;34m\u001b[0m\u001b[0m\n\u001b[0;32m---> 15\u001b[0;31m \u001b[0mprint\u001b[0m\u001b[0;34m(\u001b[0m\u001b[0macc\u001b[0m\u001b[0;34m[\u001b[0m\u001b[0;36m19\u001b[0m\u001b[0;34m]\u001b[0m\u001b[0;34m)\u001b[0m\u001b[0;34m\u001b[0m\u001b[0;34m\u001b[0m\u001b[0m\n\u001b[0m\u001b[1;32m     16\u001b[0m \u001b[0mprint\u001b[0m\u001b[0;34m(\u001b[0m\u001b[0macc\u001b[0m\u001b[0;34m[\u001b[0m\u001b[0;34m-\u001b[0m\u001b[0;36m1\u001b[0m\u001b[0;34m]\u001b[0m\u001b[0;34m)\u001b[0m\u001b[0;34m\u001b[0m\u001b[0;34m\u001b[0m\u001b[0m\n\u001b[1;32m     17\u001b[0m \u001b[0mprint\u001b[0m\u001b[0;34m(\u001b[0m\u001b[0mval\u001b[0m\u001b[0;34m[\u001b[0m\u001b[0;34m-\u001b[0m\u001b[0;36m1\u001b[0m\u001b[0;34m]\u001b[0m\u001b[0;34m)\u001b[0m\u001b[0;34m\u001b[0m\u001b[0;34m\u001b[0m\u001b[0m\n",
            "\u001b[0;31mIndexError\u001b[0m: tuple index out of range"
          ]
        }
      ]
    },
    {
      "cell_type": "markdown",
      "metadata": {
        "id": "wOukWXBNro6C"
      },
      "source": [
        ""
      ]
    },
    {
      "cell_type": "markdown",
      "metadata": {
        "id": "r597GUTVjwZc"
      },
      "source": [
        "#Part 7: Experiments"
      ]
    },
    {
      "cell_type": "code",
      "metadata": {
        "id": "zgLylYlp9kBK"
      },
      "source": [
        "def eval_final_model(model, vocab, device):\n",
        "    seed_words = 'What is the meaning of life, the universe and everything?'\n",
        "    sequence_length = 70\n",
        "\n",
        "    generated_sentence = generate_language(model, device, seed_words, sequence_length, vocab, 'max')\n",
        "    print('generated with max\\t', generated_sentence)\n",
        "\n",
        "    for ii in range(10):\n",
        "        generated_sentence = generate_language(model, device, seed_words, sequence_length, vocab, 'sample')\n",
        "        print('generated with sample\\t', generated_sentence)\n",
        "\n",
        "    for ii in range(10):\n",
        "        generated_sentence = generate_language(model, device, seed_words, sequence_length, vocab, 'beam')\n",
        "        print('generated with beam\\t', generated_sentence)\n",
        "\n",
        "eval_final_model(final_model, vocab, device)"
      ],
      "execution_count": null,
      "outputs": []
    },
    {
      "cell_type": "markdown",
      "metadata": {
        "id": "pn0RWPBFjzkP"
      },
      "source": [
        "#Part 8: Other things\n",
        "Choose **three** of the following to try. You should create new code cells below rather than modifying your earlier code:\n",
        "\n",
        "\n",
        "1. Train on a different text corpus. The corpus should be at least as large as the provided Harry Potter dataset.\n",
        "    - Options include other books, websites, tweets, wikipedia articles etc.\n",
        "    -  (Hint: this is probably the easiest one)\n",
        "1. Find a better network architecture. Some ideas:\n",
        "    - Look at the various options in https://pytorch.org/docs/stable/nn.html#torch.nn.GRU\n",
        "    - You can make the network wider or deeper.\n",
        "    - You can try to learn separate encoders and decoders.\n",
        "1. Use an LSTM instead of a GRU.\n",
        "    - https://pytorch.org/docs/stable/nn.html#torch.nn.LSTM\n",
        "    - The output of an LSTM is a hidden state **and** a cell state, so you will need to deal with a tuple instead of a single vector.\n",
        "1. Use a Transformer instead of a GRU.\n",
        "    - https://pytorch.org/docs/stable/nn.html#torch.nn.Transformer\n",
        "    - Be sure to get the masks right so you don't condition on the future characters: https://pytorch.org/docs/stable/nn.html#torch.nn.Transformer.generate_square_subsequent_mask may be of use.\n",
        "1. Train a model using student-forcing.\n",
        "    - You will have to modify the network inputs.\n",
        "    - You will need to use `torch.nn.GRUCell` and its like. https://pytorch.org/docs/stable/nn.html#grucell\n",
        "    - You cannot simply feed an empty string to start off a sequence. The sequence must be somehow conditioned on prior ground truth.\n",
        "1. Train a model on words instead of characters.\n",
        "    - You will need to redefine your input/output space vocabulary as well.\n",
        "    - You should replace any words that occur less than 5 times in the dataset with an <unknown\\> token. \n",
        "1. Write a new data loader which picks a random point in the text to start from and returns 10 consecutive sequences starting from that point onward. \n",
        "    - You should also modify the train and test functions to reset the memory when you reset the sequence.\n",
        "    - You should consider an epoch to be feeding in approximately the number of characters in the dataset.\n",
        "    - You may run into issues if your dataset size/epochs are not a multiple of your batch size.\n",
        "1. Train on sentences instead of one long sequence.\n",
        "    - You should still produce output character by character.\n",
        "    - Sentences can end with a . ! ?, but words like Mr. generally do not end a sentence.\n",
        "    - A sentence may also continue in the case of quotations. For example: ``\"Do your homework!\" said the TAs.`` is only one sentence.\n",
        "    - Your parsing does not have to be perfect, but try to incorporate as many of these rules as you can.\n",
        "    - Feel free to use existing NLP tools for finding sentence endings. One is spacy: https://spacy.io/usage/linguistic-features#section-sbd\n",
        "    - All sentences should end with an <eos\\> token. Your output sampling should now stop when it produces the <eos\\> token.\n",
        "\n"
      ]
    },
    {
      "cell_type": "markdown",
      "metadata": {
        "id": "vWMlB2U3onZ0"
      },
      "source": [
        "#Part 9: Short answer questions\n",
        "Please answer these questions, and put the answers in a file called short_answer.pdf in your repository.\n",
        "\n",
        "\n",
        "1. Just like last time, provide plots for training error, test error, and test accuracy. Also provide a plot of your train and test perplexity per epoch.\n",
        "    - In class we defined perplexity as `2^(p*log_2(q))`, However the PyTorch cross entropy function uses the natural log. To compute perplexity directly from the cross entropy, you should use `e^p*ln(q)`.\n",
        "    - We encourage you to try multiple network modifications and hyperparameters, but you only need to provide plots for your best model. Please list the modifications and hyperparameters.    \n",
        "    \n",
        "2. What was your final test accuracy? What was your final test perplexity?\n",
        "3. What was your favorite sentence generated via each of the sampling methods? What was the prompt you gave to generate that sentence?\n",
        "4. Which sampling method seemed to generate the best results? Why do you think that is?\n",
        "5. For sampling and beam search, try multiple temperatures between 0 and 2. \n",
        "    - Which produces the best outputs? Best as in made the most sense, your favorite, or funniest, doesn't really matter how you decide.\n",
        "    - What does a temperature of 0 do? What does a temperature of 0<temp<1 do? What does a temperature of 1 do? What does a temperature of above 1 do? What would a negative temperature do (assuming the code allowed for negative temperature)?\n",
        "    \n",
        "Questions for each of the \"Other things\" sections. Only answer the questions corresponding to the ones you chose.\n",
        "\n",
        "1. New Corpus\n",
        "    1. What corpus did you choose? How many characters were in it?\n",
        "    2. What differences did you notice between the sentences generated with the new/vs old corpus.\n",
        "    3. Provide outputs for each sampling method on the new corpus (you can pick one temperature, but say what it was).\n",
        "\n",
        "1. New Architecture\n",
        "    1. What was your design? What did you try that didn't work well?\n",
        "    2. What was your lowest test perplexity? Provide training and testing plots.\n",
        "    3. Provide outputs for each sampling method on the new corpus (you can pick one temperature, but say what it was).\n",
        "\n",
        "1. LSTM\n",
        "    1. What new difficulties did you run into while training?\n",
        "    2. Were results better than the GRU? Provide training and testing plots.\n",
        "    3. Provide outputs for each sampling method on the new corpus (you can pick one temperature, but say what it was).\n",
        "\n",
        "1. Transformer\n",
        "    1. What new difficulties did you run into while training?\n",
        "    2. Were results better than the GRU? Provide training and testing plots.\n",
        "    3. Provide outputs for each sampling method on the new corpus (you can pick one temperature, but say what it was).\n",
        "    \n",
        "1. Student-forcing\n",
        "    1. What new difficulties did you run into while training?\n",
        "    2. Were the results better than with teacher-forcing?\n",
        "    3. Provide some outputs for each sampling method (you can pick one temperature, but say what it was).\n",
        "    \n",
        "1. Words\n",
        "    1. What new difficulties did you run into while training?\n",
        "    2. How large was your vocabulary?\n",
        "    3. Did you find that different batch size, sequence length, and feature size and other hyperparameters were needed? If so, what worked best for you?\n",
        "\n",
        "1. Random Dataloader\n",
        "    1. What new difficulties did you run into while training?\n",
        "    2. Were the results better than with the original dataloader?\n",
        "    3. Provide some outputs for each sampling method (you can pick one temperature, but say what it was). \n",
        "    \n",
        "1. Sentences\n",
        "    1. What new difficulties did you run into while training? What new difficulties did you run into while preprocessing?\n",
        "    2. Were the results better than with the original dataloader?\n",
        "    3. Provide some outputs for each sampling method (you can pick one temperature, but say what it was). \n",
        "\n",
        "\n",
        "    "
      ]
    }
  ]
}